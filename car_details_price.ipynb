{
  "cells": [
    {
      "cell_type": "markdown",
      "metadata": {
        "id": "view-in-github",
        "colab_type": "text"
      },
      "source": [
        "<a href=\"https://colab.research.google.com/github/irfan7210/Car-details-price-prediction-short-project---on-car-dekho-dataset/blob/main/car_details_price.ipynb\" target=\"_parent\"><img src=\"https://colab.research.google.com/assets/colab-badge.svg\" alt=\"Open In Colab\"/></a>"
      ]
    },
    {
      "cell_type": "code",
      "execution_count": null,
      "metadata": {
        "id": "6FJjusfBnOuW"
      },
      "outputs": [],
      "source": [
        "# Import Libraries\n",
        "import pandas as pd\n",
        "import numpy as np\n",
        "import scipy\n",
        "import matplotlib as mpl\n",
        "import matplotlib.pyplot as plt\n",
        "%matplotlib inline\n",
        "import seaborn as sns\n",
        "from datetime import datetime\n",
        "\n",
        "import warnings    \n",
        "warnings.filterwarnings('ignore')\n"
      ]
    },
    {
      "cell_type": "code",
      "execution_count": null,
      "metadata": {
        "colab": {
          "base_uri": "https://localhost:8080/"
        },
        "id": "QnaqS7hFmH9y",
        "outputId": "8e9c8eee-1527-4156-ae47-59ddd7c8a93c"
      },
      "outputs": [
        {
          "output_type": "stream",
          "name": "stdout",
          "text": [
            "Mounted at /content/drive\n"
          ]
        }
      ],
      "source": [
        "#mounting drive\n",
        "from google.colab import drive\n",
        "drive.mount('/content/drive')"
      ]
    },
    {
      "cell_type": "markdown",
      "metadata": {
        "id": "hIH92z6TtlL-"
      },
      "source": [
        "### Dataset First View"
      ]
    },
    {
      "cell_type": "code",
      "execution_count": null,
      "metadata": {
        "id": "p93CbieCkVqm"
      },
      "outputs": [],
      "source": [
        "#Importing data set\n",
        "df =pd.read_csv(\"/content/drive/MyDrive/CAR DETAILS (1).csv\")"
      ]
    },
    {
      "cell_type": "code",
      "execution_count": null,
      "metadata": {
        "colab": {
          "base_uri": "https://localhost:8080/",
          "height": 206
        },
        "id": "0TFVpATvnK3Z",
        "outputId": "33e33a2a-ecfb-4bd1-de02-5c29c869cf25"
      },
      "outputs": [
        {
          "output_type": "execute_result",
          "data": {
            "text/plain": [
              "                       name  year  selling_price  km_driven    fuel  \\\n",
              "0             Maruti 800 AC  2007          60000      70000  Petrol   \n",
              "1  Maruti Wagon R LXI Minor  2007         135000      50000  Petrol   \n",
              "2      Hyundai Verna 1.6 SX  2012         600000     100000  Diesel   \n",
              "3    Datsun RediGO T Option  2017         250000      46000  Petrol   \n",
              "4     Honda Amaze VX i-DTEC  2014         450000     141000  Diesel   \n",
              "\n",
              "  seller_type transmission         owner  \n",
              "0  Individual       Manual   First Owner  \n",
              "1  Individual       Manual   First Owner  \n",
              "2  Individual       Manual   First Owner  \n",
              "3  Individual       Manual   First Owner  \n",
              "4  Individual       Manual  Second Owner  "
            ],
            "text/html": [
              "\n",
              "  <div id=\"df-20a6485f-b272-4169-8e80-a88b15052b43\">\n",
              "    <div class=\"colab-df-container\">\n",
              "      <div>\n",
              "<style scoped>\n",
              "    .dataframe tbody tr th:only-of-type {\n",
              "        vertical-align: middle;\n",
              "    }\n",
              "\n",
              "    .dataframe tbody tr th {\n",
              "        vertical-align: top;\n",
              "    }\n",
              "\n",
              "    .dataframe thead th {\n",
              "        text-align: right;\n",
              "    }\n",
              "</style>\n",
              "<table border=\"1\" class=\"dataframe\">\n",
              "  <thead>\n",
              "    <tr style=\"text-align: right;\">\n",
              "      <th></th>\n",
              "      <th>name</th>\n",
              "      <th>year</th>\n",
              "      <th>selling_price</th>\n",
              "      <th>km_driven</th>\n",
              "      <th>fuel</th>\n",
              "      <th>seller_type</th>\n",
              "      <th>transmission</th>\n",
              "      <th>owner</th>\n",
              "    </tr>\n",
              "  </thead>\n",
              "  <tbody>\n",
              "    <tr>\n",
              "      <th>0</th>\n",
              "      <td>Maruti 800 AC</td>\n",
              "      <td>2007</td>\n",
              "      <td>60000</td>\n",
              "      <td>70000</td>\n",
              "      <td>Petrol</td>\n",
              "      <td>Individual</td>\n",
              "      <td>Manual</td>\n",
              "      <td>First Owner</td>\n",
              "    </tr>\n",
              "    <tr>\n",
              "      <th>1</th>\n",
              "      <td>Maruti Wagon R LXI Minor</td>\n",
              "      <td>2007</td>\n",
              "      <td>135000</td>\n",
              "      <td>50000</td>\n",
              "      <td>Petrol</td>\n",
              "      <td>Individual</td>\n",
              "      <td>Manual</td>\n",
              "      <td>First Owner</td>\n",
              "    </tr>\n",
              "    <tr>\n",
              "      <th>2</th>\n",
              "      <td>Hyundai Verna 1.6 SX</td>\n",
              "      <td>2012</td>\n",
              "      <td>600000</td>\n",
              "      <td>100000</td>\n",
              "      <td>Diesel</td>\n",
              "      <td>Individual</td>\n",
              "      <td>Manual</td>\n",
              "      <td>First Owner</td>\n",
              "    </tr>\n",
              "    <tr>\n",
              "      <th>3</th>\n",
              "      <td>Datsun RediGO T Option</td>\n",
              "      <td>2017</td>\n",
              "      <td>250000</td>\n",
              "      <td>46000</td>\n",
              "      <td>Petrol</td>\n",
              "      <td>Individual</td>\n",
              "      <td>Manual</td>\n",
              "      <td>First Owner</td>\n",
              "    </tr>\n",
              "    <tr>\n",
              "      <th>4</th>\n",
              "      <td>Honda Amaze VX i-DTEC</td>\n",
              "      <td>2014</td>\n",
              "      <td>450000</td>\n",
              "      <td>141000</td>\n",
              "      <td>Diesel</td>\n",
              "      <td>Individual</td>\n",
              "      <td>Manual</td>\n",
              "      <td>Second Owner</td>\n",
              "    </tr>\n",
              "  </tbody>\n",
              "</table>\n",
              "</div>\n",
              "      <button class=\"colab-df-convert\" onclick=\"convertToInteractive('df-20a6485f-b272-4169-8e80-a88b15052b43')\"\n",
              "              title=\"Convert this dataframe to an interactive table.\"\n",
              "              style=\"display:none;\">\n",
              "        \n",
              "  <svg xmlns=\"http://www.w3.org/2000/svg\" height=\"24px\"viewBox=\"0 0 24 24\"\n",
              "       width=\"24px\">\n",
              "    <path d=\"M0 0h24v24H0V0z\" fill=\"none\"/>\n",
              "    <path d=\"M18.56 5.44l.94 2.06.94-2.06 2.06-.94-2.06-.94-.94-2.06-.94 2.06-2.06.94zm-11 1L8.5 8.5l.94-2.06 2.06-.94-2.06-.94L8.5 2.5l-.94 2.06-2.06.94zm10 10l.94 2.06.94-2.06 2.06-.94-2.06-.94-.94-2.06-.94 2.06-2.06.94z\"/><path d=\"M17.41 7.96l-1.37-1.37c-.4-.4-.92-.59-1.43-.59-.52 0-1.04.2-1.43.59L10.3 9.45l-7.72 7.72c-.78.78-.78 2.05 0 2.83L4 21.41c.39.39.9.59 1.41.59.51 0 1.02-.2 1.41-.59l7.78-7.78 2.81-2.81c.8-.78.8-2.07 0-2.86zM5.41 20L4 18.59l7.72-7.72 1.47 1.35L5.41 20z\"/>\n",
              "  </svg>\n",
              "      </button>\n",
              "      \n",
              "  <style>\n",
              "    .colab-df-container {\n",
              "      display:flex;\n",
              "      flex-wrap:wrap;\n",
              "      gap: 12px;\n",
              "    }\n",
              "\n",
              "    .colab-df-convert {\n",
              "      background-color: #E8F0FE;\n",
              "      border: none;\n",
              "      border-radius: 50%;\n",
              "      cursor: pointer;\n",
              "      display: none;\n",
              "      fill: #1967D2;\n",
              "      height: 32px;\n",
              "      padding: 0 0 0 0;\n",
              "      width: 32px;\n",
              "    }\n",
              "\n",
              "    .colab-df-convert:hover {\n",
              "      background-color: #E2EBFA;\n",
              "      box-shadow: 0px 1px 2px rgba(60, 64, 67, 0.3), 0px 1px 3px 1px rgba(60, 64, 67, 0.15);\n",
              "      fill: #174EA6;\n",
              "    }\n",
              "\n",
              "    [theme=dark] .colab-df-convert {\n",
              "      background-color: #3B4455;\n",
              "      fill: #D2E3FC;\n",
              "    }\n",
              "\n",
              "    [theme=dark] .colab-df-convert:hover {\n",
              "      background-color: #434B5C;\n",
              "      box-shadow: 0px 1px 3px 1px rgba(0, 0, 0, 0.15);\n",
              "      filter: drop-shadow(0px 1px 2px rgba(0, 0, 0, 0.3));\n",
              "      fill: #FFFFFF;\n",
              "    }\n",
              "  </style>\n",
              "\n",
              "      <script>\n",
              "        const buttonEl =\n",
              "          document.querySelector('#df-20a6485f-b272-4169-8e80-a88b15052b43 button.colab-df-convert');\n",
              "        buttonEl.style.display =\n",
              "          google.colab.kernel.accessAllowed ? 'block' : 'none';\n",
              "\n",
              "        async function convertToInteractive(key) {\n",
              "          const element = document.querySelector('#df-20a6485f-b272-4169-8e80-a88b15052b43');\n",
              "          const dataTable =\n",
              "            await google.colab.kernel.invokeFunction('convertToInteractive',\n",
              "                                                     [key], {});\n",
              "          if (!dataTable) return;\n",
              "\n",
              "          const docLinkHtml = 'Like what you see? Visit the ' +\n",
              "            '<a target=\"_blank\" href=https://colab.research.google.com/notebooks/data_table.ipynb>data table notebook</a>'\n",
              "            + ' to learn more about interactive tables.';\n",
              "          element.innerHTML = '';\n",
              "          dataTable['output_type'] = 'display_data';\n",
              "          await google.colab.output.renderOutput(dataTable, element);\n",
              "          const docLink = document.createElement('div');\n",
              "          docLink.innerHTML = docLinkHtml;\n",
              "          element.appendChild(docLink);\n",
              "        }\n",
              "      </script>\n",
              "    </div>\n",
              "  </div>\n",
              "  "
            ]
          },
          "metadata": {},
          "execution_count": 4
        }
      ],
      "source": [
        "df.head()"
      ]
    },
    {
      "cell_type": "markdown",
      "metadata": {
        "id": "JopB3U81tpgN"
      },
      "source": [
        "### Dataset Rows & Columns count"
      ]
    },
    {
      "cell_type": "code",
      "execution_count": null,
      "metadata": {
        "colab": {
          "base_uri": "https://localhost:8080/"
        },
        "id": "LzGOshuOtvle",
        "outputId": "40df77bb-5c88-4b96-a152-398b163dfc64"
      },
      "outputs": [
        {
          "output_type": "stream",
          "name": "stdout",
          "text": [
            "The number of rows in data is: 4340\n",
            "The number of columns in data is 8\n"
          ]
        }
      ],
      "source": [
        "# Dataset Rows & Columns count\n",
        "print('The number of rows in data is:',df.shape[0])\n",
        "print('The number of columns in data is',len(list(df.columns)))"
      ]
    },
    {
      "cell_type": "markdown",
      "metadata": {
        "id": "aQkqWisBt0O-"
      },
      "source": [
        "### Dataset Information"
      ]
    },
    {
      "cell_type": "code",
      "execution_count": null,
      "metadata": {
        "colab": {
          "base_uri": "https://localhost:8080/"
        },
        "id": "MWyd58bAt141",
        "outputId": "8215e378-9535-4a33-dc2b-6b6880282a98"
      },
      "outputs": [
        {
          "output_type": "stream",
          "name": "stdout",
          "text": [
            "<class 'pandas.core.frame.DataFrame'>\n",
            "RangeIndex: 4340 entries, 0 to 4339\n",
            "Data columns (total 8 columns):\n",
            " #   Column         Non-Null Count  Dtype \n",
            "---  ------         --------------  ----- \n",
            " 0   name           4340 non-null   object\n",
            " 1   year           4340 non-null   int64 \n",
            " 2   selling_price  4340 non-null   int64 \n",
            " 3   km_driven      4340 non-null   int64 \n",
            " 4   fuel           4340 non-null   object\n",
            " 5   seller_type    4340 non-null   object\n",
            " 6   transmission   4340 non-null   object\n",
            " 7   owner          4340 non-null   object\n",
            "dtypes: int64(3), object(5)\n",
            "memory usage: 271.4+ KB\n"
          ]
        }
      ],
      "source": [
        "# Dataset Info\n",
        "df.info()"
      ]
    },
    {
      "cell_type": "markdown",
      "metadata": {
        "id": "7irSj-mOuCYY"
      },
      "source": [
        "#### Duplicate Values"
      ]
    },
    {
      "cell_type": "code",
      "execution_count": null,
      "metadata": {
        "colab": {
          "base_uri": "https://localhost:8080/"
        },
        "id": "lnsxP2RruDcn",
        "outputId": "c6fd4397-d5f2-4a81-b45d-0a6f837b2692"
      },
      "outputs": [
        {
          "output_type": "stream",
          "name": "stdout",
          "text": [
            "The number of duplicates in store data is: 763\n"
          ]
        }
      ],
      "source": [
        "# Dataset Duplicate Value Count\n",
        "# df.duplicated().sum()\n",
        "duplicate_rows_in_store_data = df.duplicated().sum()\n",
        "print('The number of duplicates in store data is:',duplicate_rows_in_store_data)"
      ]
    },
    {
      "cell_type": "markdown",
      "metadata": {
        "id": "u1EMK8ZUuRrV"
      },
      "source": [
        "#### Missing Values/Null Values"
      ]
    },
    {
      "cell_type": "code",
      "execution_count": null,
      "metadata": {
        "colab": {
          "base_uri": "https://localhost:8080/"
        },
        "id": "2NP367zOt-6e",
        "outputId": "76f340e0-52c1-4c6a-b9f2-4a82e2916606"
      },
      "outputs": [
        {
          "output_type": "execute_result",
          "data": {
            "text/plain": [
              "name             0\n",
              "year             0\n",
              "selling_price    0\n",
              "km_driven        0\n",
              "fuel             0\n",
              "seller_type      0\n",
              "transmission     0\n",
              "owner            0\n",
              "dtype: int64"
            ]
          },
          "metadata": {},
          "execution_count": 9
        }
      ],
      "source": [
        "# Missing Values/Null Values Count\n",
        "df.isnull().sum()"
      ]
    },
    {
      "cell_type": "markdown",
      "metadata": {
        "id": "yjQFUDnduok-"
      },
      "source": [
        "### What did you know about your dataset?"
      ]
    },
    {
      "cell_type": "markdown",
      "metadata": {
        "id": "A69tlmKHuusu"
      },
      "source": []
    },
    {
      "cell_type": "markdown",
      "metadata": {
        "id": "-lQDI0QkuvoV"
      },
      "source": [
        "## ***2. Understanding Your Variables***"
      ]
    },
    {
      "cell_type": "code",
      "execution_count": null,
      "metadata": {
        "colab": {
          "base_uri": "https://localhost:8080/"
        },
        "id": "bpaGd0EouqGO",
        "outputId": "0154be3d-56d2-4ad5-96e2-2634cd4490cb"
      },
      "outputs": [
        {
          "output_type": "stream",
          "name": "stdout",
          "text": [
            "['name', 'year', 'selling_price', 'km_driven', 'fuel', 'seller_type', 'transmission', 'owner']\n"
          ]
        }
      ],
      "source": [
        "# Dataset Columns\n",
        "print(list(df.columns))"
      ]
    },
    {
      "cell_type": "code",
      "execution_count": null,
      "metadata": {
        "colab": {
          "base_uri": "https://localhost:8080/",
          "height": 300
        },
        "id": "ZNGrZWRwu1uN",
        "outputId": "7de31238-9d70-408f-da8e-cdccd76cdb66"
      },
      "outputs": [
        {
          "output_type": "execute_result",
          "data": {
            "text/plain": [
              "              year  selling_price      km_driven\n",
              "count  4340.000000   4.340000e+03    4340.000000\n",
              "mean   2013.090783   5.041273e+05   66215.777419\n",
              "std       4.215344   5.785487e+05   46644.102194\n",
              "min    1992.000000   2.000000e+04       1.000000\n",
              "25%    2011.000000   2.087498e+05   35000.000000\n",
              "50%    2014.000000   3.500000e+05   60000.000000\n",
              "75%    2016.000000   6.000000e+05   90000.000000\n",
              "max    2020.000000   8.900000e+06  806599.000000"
            ],
            "text/html": [
              "\n",
              "  <div id=\"df-d4cebc8b-da7e-4ab7-afa6-22abe961d723\">\n",
              "    <div class=\"colab-df-container\">\n",
              "      <div>\n",
              "<style scoped>\n",
              "    .dataframe tbody tr th:only-of-type {\n",
              "        vertical-align: middle;\n",
              "    }\n",
              "\n",
              "    .dataframe tbody tr th {\n",
              "        vertical-align: top;\n",
              "    }\n",
              "\n",
              "    .dataframe thead th {\n",
              "        text-align: right;\n",
              "    }\n",
              "</style>\n",
              "<table border=\"1\" class=\"dataframe\">\n",
              "  <thead>\n",
              "    <tr style=\"text-align: right;\">\n",
              "      <th></th>\n",
              "      <th>year</th>\n",
              "      <th>selling_price</th>\n",
              "      <th>km_driven</th>\n",
              "    </tr>\n",
              "  </thead>\n",
              "  <tbody>\n",
              "    <tr>\n",
              "      <th>count</th>\n",
              "      <td>4340.000000</td>\n",
              "      <td>4.340000e+03</td>\n",
              "      <td>4340.000000</td>\n",
              "    </tr>\n",
              "    <tr>\n",
              "      <th>mean</th>\n",
              "      <td>2013.090783</td>\n",
              "      <td>5.041273e+05</td>\n",
              "      <td>66215.777419</td>\n",
              "    </tr>\n",
              "    <tr>\n",
              "      <th>std</th>\n",
              "      <td>4.215344</td>\n",
              "      <td>5.785487e+05</td>\n",
              "      <td>46644.102194</td>\n",
              "    </tr>\n",
              "    <tr>\n",
              "      <th>min</th>\n",
              "      <td>1992.000000</td>\n",
              "      <td>2.000000e+04</td>\n",
              "      <td>1.000000</td>\n",
              "    </tr>\n",
              "    <tr>\n",
              "      <th>25%</th>\n",
              "      <td>2011.000000</td>\n",
              "      <td>2.087498e+05</td>\n",
              "      <td>35000.000000</td>\n",
              "    </tr>\n",
              "    <tr>\n",
              "      <th>50%</th>\n",
              "      <td>2014.000000</td>\n",
              "      <td>3.500000e+05</td>\n",
              "      <td>60000.000000</td>\n",
              "    </tr>\n",
              "    <tr>\n",
              "      <th>75%</th>\n",
              "      <td>2016.000000</td>\n",
              "      <td>6.000000e+05</td>\n",
              "      <td>90000.000000</td>\n",
              "    </tr>\n",
              "    <tr>\n",
              "      <th>max</th>\n",
              "      <td>2020.000000</td>\n",
              "      <td>8.900000e+06</td>\n",
              "      <td>806599.000000</td>\n",
              "    </tr>\n",
              "  </tbody>\n",
              "</table>\n",
              "</div>\n",
              "      <button class=\"colab-df-convert\" onclick=\"convertToInteractive('df-d4cebc8b-da7e-4ab7-afa6-22abe961d723')\"\n",
              "              title=\"Convert this dataframe to an interactive table.\"\n",
              "              style=\"display:none;\">\n",
              "        \n",
              "  <svg xmlns=\"http://www.w3.org/2000/svg\" height=\"24px\"viewBox=\"0 0 24 24\"\n",
              "       width=\"24px\">\n",
              "    <path d=\"M0 0h24v24H0V0z\" fill=\"none\"/>\n",
              "    <path d=\"M18.56 5.44l.94 2.06.94-2.06 2.06-.94-2.06-.94-.94-2.06-.94 2.06-2.06.94zm-11 1L8.5 8.5l.94-2.06 2.06-.94-2.06-.94L8.5 2.5l-.94 2.06-2.06.94zm10 10l.94 2.06.94-2.06 2.06-.94-2.06-.94-.94-2.06-.94 2.06-2.06.94z\"/><path d=\"M17.41 7.96l-1.37-1.37c-.4-.4-.92-.59-1.43-.59-.52 0-1.04.2-1.43.59L10.3 9.45l-7.72 7.72c-.78.78-.78 2.05 0 2.83L4 21.41c.39.39.9.59 1.41.59.51 0 1.02-.2 1.41-.59l7.78-7.78 2.81-2.81c.8-.78.8-2.07 0-2.86zM5.41 20L4 18.59l7.72-7.72 1.47 1.35L5.41 20z\"/>\n",
              "  </svg>\n",
              "      </button>\n",
              "      \n",
              "  <style>\n",
              "    .colab-df-container {\n",
              "      display:flex;\n",
              "      flex-wrap:wrap;\n",
              "      gap: 12px;\n",
              "    }\n",
              "\n",
              "    .colab-df-convert {\n",
              "      background-color: #E8F0FE;\n",
              "      border: none;\n",
              "      border-radius: 50%;\n",
              "      cursor: pointer;\n",
              "      display: none;\n",
              "      fill: #1967D2;\n",
              "      height: 32px;\n",
              "      padding: 0 0 0 0;\n",
              "      width: 32px;\n",
              "    }\n",
              "\n",
              "    .colab-df-convert:hover {\n",
              "      background-color: #E2EBFA;\n",
              "      box-shadow: 0px 1px 2px rgba(60, 64, 67, 0.3), 0px 1px 3px 1px rgba(60, 64, 67, 0.15);\n",
              "      fill: #174EA6;\n",
              "    }\n",
              "\n",
              "    [theme=dark] .colab-df-convert {\n",
              "      background-color: #3B4455;\n",
              "      fill: #D2E3FC;\n",
              "    }\n",
              "\n",
              "    [theme=dark] .colab-df-convert:hover {\n",
              "      background-color: #434B5C;\n",
              "      box-shadow: 0px 1px 3px 1px rgba(0, 0, 0, 0.15);\n",
              "      filter: drop-shadow(0px 1px 2px rgba(0, 0, 0, 0.3));\n",
              "      fill: #FFFFFF;\n",
              "    }\n",
              "  </style>\n",
              "\n",
              "      <script>\n",
              "        const buttonEl =\n",
              "          document.querySelector('#df-d4cebc8b-da7e-4ab7-afa6-22abe961d723 button.colab-df-convert');\n",
              "        buttonEl.style.display =\n",
              "          google.colab.kernel.accessAllowed ? 'block' : 'none';\n",
              "\n",
              "        async function convertToInteractive(key) {\n",
              "          const element = document.querySelector('#df-d4cebc8b-da7e-4ab7-afa6-22abe961d723');\n",
              "          const dataTable =\n",
              "            await google.colab.kernel.invokeFunction('convertToInteractive',\n",
              "                                                     [key], {});\n",
              "          if (!dataTable) return;\n",
              "\n",
              "          const docLinkHtml = 'Like what you see? Visit the ' +\n",
              "            '<a target=\"_blank\" href=https://colab.research.google.com/notebooks/data_table.ipynb>data table notebook</a>'\n",
              "            + ' to learn more about interactive tables.';\n",
              "          element.innerHTML = '';\n",
              "          dataTable['output_type'] = 'display_data';\n",
              "          await google.colab.output.renderOutput(dataTable, element);\n",
              "          const docLink = document.createElement('div');\n",
              "          docLink.innerHTML = docLinkHtml;\n",
              "          element.appendChild(docLink);\n",
              "        }\n",
              "      </script>\n",
              "    </div>\n",
              "  </div>\n",
              "  "
            ]
          },
          "metadata": {},
          "execution_count": 11
        }
      ],
      "source": [
        "# Dataset Describe\n",
        "df.describe()\n"
      ]
    },
    {
      "cell_type": "markdown",
      "metadata": {
        "id": "1QyFVJ_gvBiP"
      },
      "source": [
        "### Variables Description "
      ]
    },
    {
      "cell_type": "markdown",
      "metadata": {
        "id": "QIfcNTuivDTV"
      },
      "source": []
    },
    {
      "cell_type": "markdown",
      "metadata": {
        "id": "YY6Pa_SxvKAG"
      },
      "source": [
        "### Check Unique Values for each variable."
      ]
    },
    {
      "cell_type": "code",
      "execution_count": null,
      "metadata": {
        "colab": {
          "base_uri": "https://localhost:8080/"
        },
        "id": "O2sWw3LuvCgn",
        "outputId": "6cc65c26-c0a5-4c0d-cc98-aaeeb3bcd98e"
      },
      "outputs": [
        {
          "output_type": "stream",
          "name": "stdout",
          "text": [
            "The unique values in name are ['Maruti 800 AC' 'Maruti Wagon R LXI Minor' 'Hyundai Verna 1.6 SX' ...\n",
            " 'Mahindra Verito 1.5 D6 BSIII'\n",
            " 'Toyota Innova 2.5 VX (Diesel) 8 Seater BS IV'\n",
            " 'Hyundai i20 Magna 1.4 CRDi']\n",
            "The unique values in year are [2007 2012 2017 2014 2016 2015 2018 2019 2013 2011 2010 2009 2006 1996\n",
            " 2005 2008 2004 1998 2003 2002 2020 2000 1999 2001 1995 1997 1992]\n",
            "The unique values in selling_price are [  60000  135000  600000  250000  450000  140000  550000  240000  850000\n",
            "  365000  260000 1650000  585000 1195000  390000 1964999 1425000  975000\n",
            " 1190000  930000  525000 1735000 1375000  900000 1300000 1400000  229999\n",
            " 1550000 1250000  625000 1050000  560000  290000  275000  411000  150000\n",
            "  500000  100000  725000  401000  750000  310000  665000  465000  160000\n",
            "  675000  300000   70000  151000  280000  350000  570000  125000  130000\n",
            "  925000  200000  248000   80000  650000  495000  371000 1025000 8150000\n",
            "  325000 1470000 2800000  210000 1150000 4500000 2750000 1975000  175000\n",
            " 2500000  628000  399000  315000  780000  434000  690000  555000  120000\n",
            "  165000   95000  800000  840000  490000  400000 1000000  530000   40000\n",
            "   75000  540000  700000  430000   65000  195000  170000  225000   99000\n",
            "  620000 2550000  320000  810000  282000   72000  640000  380000 1500000\n",
            "  434999  190000 2900000  425000  265000  890000  685000  940000  590000\n",
            "  385000 2000000  235000   52000   89999  180000  285000 1075000   90000\n",
            "  220000  110000  880000  115999  360000  680000  860000  270000  395000\n",
            "  624000  345000  106000 1800000  575000  370000   50000   55000  755000\n",
            "  720000 1100000  159000  335000  185000  470000  145000  595000 1600000\n",
            "  105000  409999  215000  475000  330000 1044999 1350000  420000  760000\n",
            "   43000 1850000 1125000  133000  352000  520000  509999  556000  484999\n",
            "  565000  295000 2050000 1475000 4400000  670000  770000  775000 1725000\n",
            " 2150000 3800000 1580000 4950000  535000  239000 2600000  114999  200999\n",
            "  710000  969999  155000  138000  311000   58000  183000  825000  299000\n",
            "  639000  415000 1199000  699000  269000  249000 1549000  254999  211000\n",
            "  599000 4000000 1200000   98000  790000 1700000   68000  875000 1330000\n",
            "  919999  611000  711000  851000  610000  744000  480000  950000   85000\n",
            "  615000  227000  222000  735000  271000 1490000  455000  421000 2700000\n",
            " 4700000 1900000 1770000  660000  716000  147000 1140000 3050000  375000\n",
            " 1950000  340000 3100000  245000  715000 1750000 3500000  835000 2490000\n",
            " 1015000   91200 2400000  635000  302000  204999  341000  819999  351000\n",
            "  630000 1085000  580000   78000 3200000  695000  355000  619000   81000\n",
            "  486000  802000 2300000  287000  250999   45000 1485000 1825000 3256000\n",
            "  451000  149000  163000  419000  990000  346000  509000   69000 1380000\n",
            "  256000   97000  199000 2595000  730000  368000  545000  641000  784000\n",
            "  324000 2100000  305000  221000  828999 1119000  746000 1030000 1334000\n",
            "  811999 1331000  852000  830000  213000   35000  869999  178000  515000\n",
            "  312000  111000  774000  148000   57000  284000  349000  458000  381000\n",
            "  751000  782000  321000   92800  291000   73000  655000  263000  217000\n",
            "  539000  142000  910000  740000  164000  999000   56000 3899000  440000\n",
            "  238000 1295000  541000  894999  844999  288000 1225000 1010000   30000\n",
            "  396000  281000   93000  459999   88000   22000   79000  198000  182000\n",
            "  861999  836000  696000  596000  612000   20000   61000  511000 1230000\n",
            "  426000   62000 1450000   71000 2200000 1249000 1240000 1068000 1189000\n",
            "  363000  821000  815000  738000  765000  516000  134000  347000 2650000\n",
            " 2675000  359000  980000  707000  471000  377000  763000  701000  277000\n",
            "  936999   82000  799000 1451000 1575000   78692  479000   48000  121000\n",
            "  785000  173000 4800000  587000  123000 1290000  193000  721000 1040000\n",
            " 2349000 1165000   42000 1680000  231999  841000 1280000 1090000  449000\n",
            "  724000  126000  795000 2575000 1035000 1260000 8900000 1860000 4200000\n",
            " 5500000  430999 1151000  927999   51111  212000  428000  219000  749000\n",
            "  233000  614000   37500  865000]\n",
            "The unique values in km_driven are [ 70000  50000 100000  46000 141000 125000  25000  60000  78000  35000\n",
            "  24000   5000  33000  28000  59000   4500 175900  14500  15000  33800\n",
            " 130400  80000  10000 119000  75800  40000  74000  64000 120000  79000\n",
            "  18500  10200  29000  90000  73300  92000  66764 350000 230000  31000\n",
            "  39000 166000 110000  54000  63000  76000  11958  20000   9000   6500\n",
            "  58000  62200  34000  53000  49000  63500   9800  13000  21000  29173\n",
            "  48000  30000  87000  16000  79350  81000   3600  14272  49213  57000\n",
            "   3240 114000  53772 140000 175000  36000 155500  23000  22155  78380\n",
            " 150000  80362  55000   1136  43000   2650 115962  65000  56000 213000\n",
            " 139000 160000 163000  32000  52000  11240  66000  26500  72000  44000\n",
            " 130000 195000 155000   4000  41000  10832  14681  51000 200000  19600\n",
            "  46730  21170 167223 141440 212814  88635 149674   8000  68000  38000\n",
            "  75000  98000  81925  82080  97000  52047  62009  33100 220000  45000\n",
            " 180000  22000  80577 127500  40903  22288  61690  64484  75976  85962\n",
            "  57035  72104 164000 124439  77000   1250  17152  24005 149000  19000\n",
            " 109000  61000  27633  12586  38083  55328  81632 155201  93283 217871\n",
            "  90165 101504  86017  85036  91086 160254 125531  82000  84000 560000\n",
            "  14365  61083  66363  11700   7104  45974  55340  61585  39415  29654\n",
            "  64672  54634  66521  23974   1000  86000  52600  19890  11918  10510\n",
            "  47162  49824  58500  56580  46507  11451 172000  66508  29900   3000\n",
            "  85000   7900  17500 206500  88600 186000  11000 138000  27974  18000\n",
            "   1400 124000  42000  28205  32670  30093  56228  59319  39503  35299\n",
            "  51687  76259  44049  45087  41125  42215  54206  52547  59110  54565\n",
            "  47564  45143  61624 132000  10980  20629  69782  63654  59385  70378\n",
            "  55425  78413  40890  34823  55545  56541  43700  27483  56207   1440\n",
            "  91195  63657  97248  89000  12000  12997  26430  24600  28481  41988\n",
            "  30375   7658  34400  28942  53600  53652 106000 205000  79500 197000\n",
            "   9161  19077 128000  21302  10500 107000  55300  74300  48781  87620\n",
            "  40219  11473   8352   9745   9748  20694  31080  37605  55850  58850\n",
            "  23839  45454  46957 190000   1500  47000 116000  26350  71042 167870\n",
            " 133564  23038  43608  11212  49217  28838 135000  19571  29600  13500\n",
            "  48600 127643 102354  62237  21394  32686   1001  53261  14000  39895\n",
            "  73000  17000  18591  26766 300000  27620 223000 161327   6000  71000\n",
            " 144000  37000  26000  27000  13250 101000   8500  90246  60400  70950\n",
            "   1100  31491 107143  46412 107500  43826  55838 112880  30300  80659\n",
            "  81324 127884  66755 123084 806599  95851 234000 170000  96000  19014\n",
            "  23262  35925  40771  30500  55800  66569  81358  82695  68293 190621\n",
            "  64700  88470 126000  74183      1 192000  83411  13270  88000   7000\n",
            "  13770 102000 143000 115000 136906 133000  28689  80322  61658 185000\n",
            "  30600 235000  67000  74500 118700 223660   2000  73756  16400  41395\n",
            "  71014 181000  89550 149500  83000  44800 156000 146000  99000  37516\n",
            "  25880 136000   2020  94000  88500  52536   1950 118400   6480  32077\n",
            "  19107  18469  28217  72787  31063  79641  58692  54784  64156   9500\n",
            "  81366 244000 312000 145000   7300  72539    101  52328  91505  20500\n",
            " 154000  41723  68745  27289  24662  28245  27005  39227  31367  35008\n",
            " 100005  45264  39093  45241   2769  43128  22255  59213   1010   1111\n",
            "  48965   5166  76290  45766  78771  79357  76736  92645 101849 155836\n",
            "  63230   1758   1452  35122  92621  92198 152000  78322  54309  34600\n",
            "  38217  77073  16584  81257   3917  69069  59059  39039  33033  55168\n",
            "  41041  67067  66066  82082  70070  63063   9528 135200  50300 151624\n",
            "  74820 129000  66778  63400 157000  38500 103921  14825  43377 102307\n",
            " 245244  68500   5007  49600  43100  10171  41123  20118  52517  99117\n",
            "   3700  43500 137250   5400  11200  93000  62000   5800 267000 250000\n",
            "  28635  32114  95149  68458 105546 104000 132343  26134  52895  42324\n",
            "  60236  10300 142000  28643   7600  47253   4432  68523  80251  34500\n",
            "  42743  93900  55766 113600 138925 121764 105429  23122  44500  13599\n",
            "   5200  12700  95000  45839  74510  87293 156040  93415 101159  68519\n",
            "  55130  65239  58182  91245 102989 108000 178000  75118   4637  42655\n",
            "  69000 117000 105000 182000  24585  13900  17563 173000 151000 117780\n",
            "  81595   9700 221000  28740  48500 148620 270000  41090 296823  89255\n",
            " 168000   5550   1700  45217  44440  91365  90010  31800  59100  31200\n",
            "  22700  50900   2417  65500 140300  10211 260000  32933  54551  57112\n",
            "  41025  53122  64111  78892  74113  84775  20778  64441  43192  44416\n",
            "  79991  62601  89600  60800  69111  20969  20194  34982  44588  57904\n",
            "  59258  60826   1300  31707 115992 109052  90658  25552  40700  11174\n",
            "  72500  76600  97700  37500  23800  44077 210000   9422 240000  17100\n",
            " 224642 222435 159000 101100   1200 134444 238000 165000  63700  74800\n",
            "  60516  76731  63840  76400  31489 295000 158000 400000  19495  62668\n",
            "  85710  63356 129627   4400  14987  25061  42494  44875  89741 347089\n",
            " 222252  55250  12500 162000  22038   2500  89126 134000  42500 131365\n",
            "  48980  98900  13800  99700  49654  45457  39221  48220  11114  60208\n",
            "  98600  85441  64541  16267  71500  12999  14700  92686  49359 108731\n",
            "  29976  30646  23600  71318  78098  18054  38406  54350  32260  58231\n",
            "  59858  73350  88473  96987  77350  61187  68350  81150 280000 105700\n",
            "  37091  38900   9400  14100  37555  56600  67580  48238  38365  23670\n",
            "  49834  57353  68308  63240  64916  37161 118000  50852  53500  51500\n",
            "  79800   6590  49957  43235  50699 140730 256000 218000  66782 112198]\n",
            "The unique values in fuel are ['Petrol' 'Diesel' 'CNG' 'LPG' 'Electric']\n",
            "The unique values in seller_type are ['Individual' 'Dealer' 'Trustmark Dealer']\n",
            "The unique values in transmission are ['Manual' 'Automatic']\n",
            "The unique values in owner are ['First Owner' 'Second Owner' 'Fourth & Above Owner' 'Third Owner'\n",
            " 'Test Drive Car']\n"
          ]
        }
      ],
      "source": [
        "# Check Unique Values for each variable.\n",
        "\n",
        "for col in df.columns:\n",
        "  print(f'The unique values in {col} are {df[col].unique()}' )"
      ]
    },
    {
      "cell_type": "markdown",
      "metadata": {
        "id": "aJVzjfvx2MVy"
      },
      "source": [
        "## 3. ***Data Wrangling and visualization***"
      ]
    },
    {
      "cell_type": "code",
      "execution_count": null,
      "metadata": {
        "colab": {
          "base_uri": "https://localhost:8080/",
          "height": 591
        },
        "id": "C5zjfeGMKnVA",
        "outputId": "df732aba-2a10-4838-a12a-2b20d1bfbe51"
      },
      "outputs": [
        {
          "output_type": "display_data",
          "data": {
            "text/plain": [
              "<Figure size 720x720 with 1 Axes>"
            ],
            "image/png": "[encoded data removed]"
          },
          "metadata": {}
        }
      ],
      "source": [
        "# Get the counts of each category in the column\n",
        "counts = df['fuel'].value_counts()\n",
        "\n",
        "# Create a pie chart\n",
        "fig, ax = plt.subplots(figsize=(10, 10))\n",
        "plt.pie(counts.values, labels=counts.index, autopct='%1.1f%%' , startangle=45 , textprops={'fontsize': 10})\n",
        "plt.axis('equal')\n",
        "plt.title('Car_type')\n",
        "plt.show()"
      ]
    },
    {
      "cell_type": "code",
      "execution_count": null,
      "metadata": {
        "colab": {
          "base_uri": "https://localhost:8080/"
        },
        "id": "nh7UDfAM2yOM",
        "outputId": "f78541f2-a1da-4fd8-e4f1-8b38173754f9"
      },
      "outputs": [
        {
          "output_type": "stream",
          "name": "stdout",
          "text": [
            "The number of unique car count variables is: 1491\n"
          ]
        }
      ],
      "source": [
        "unique_car = df[\"name\"].nunique()\n",
        "print(\"The number of unique car count variables is:\", unique_car)"
      ]
    },
    {
      "cell_type": "code",
      "execution_count": null,
      "metadata": {
        "colab": {
          "base_uri": "https://localhost:8080/",
          "height": 206
        },
        "id": "0XxcI08LLwZi",
        "outputId": "a029a519-7fc6-467c-a23a-39ab033a29f5"
      },
      "outputs": [
        {
          "output_type": "execute_result",
          "data": {
            "text/plain": [
              "                  owner  name\n",
              "0           First Owner  2832\n",
              "1  Fourth & Above Owner    81\n",
              "2          Second Owner  1106\n",
              "3        Test Drive Car    17\n",
              "4           Third Owner   304"
            ],
            "text/html": [
              "\n",
              "  <div id=\"df-5696b4c8-23f0-445c-bb0d-bc8c44148df3\">\n",
              "    <div class=\"colab-df-container\">\n",
              "      <div>\n",
              "<style scoped>\n",
              "    .dataframe tbody tr th:only-of-type {\n",
              "        vertical-align: middle;\n",
              "    }\n",
              "\n",
              "    .dataframe tbody tr th {\n",
              "        vertical-align: top;\n",
              "    }\n",
              "\n",
              "    .dataframe thead th {\n",
              "        text-align: right;\n",
              "    }\n",
              "</style>\n",
              "<table border=\"1\" class=\"dataframe\">\n",
              "  <thead>\n",
              "    <tr style=\"text-align: right;\">\n",
              "      <th></th>\n",
              "      <th>owner</th>\n",
              "      <th>name</th>\n",
              "    </tr>\n",
              "  </thead>\n",
              "  <tbody>\n",
              "    <tr>\n",
              "      <th>0</th>\n",
              "      <td>First Owner</td>\n",
              "      <td>2832</td>\n",
              "    </tr>\n",
              "    <tr>\n",
              "      <th>1</th>\n",
              "      <td>Fourth &amp; Above Owner</td>\n",
              "      <td>81</td>\n",
              "    </tr>\n",
              "    <tr>\n",
              "      <th>2</th>\n",
              "      <td>Second Owner</td>\n",
              "      <td>1106</td>\n",
              "    </tr>\n",
              "    <tr>\n",
              "      <th>3</th>\n",
              "      <td>Test Drive Car</td>\n",
              "      <td>17</td>\n",
              "    </tr>\n",
              "    <tr>\n",
              "      <th>4</th>\n",
              "      <td>Third Owner</td>\n",
              "      <td>304</td>\n",
              "    </tr>\n",
              "  </tbody>\n",
              "</table>\n",
              "</div>\n",
              "      <button class=\"colab-df-convert\" onclick=\"convertToInteractive('df-5696b4c8-23f0-445c-bb0d-bc8c44148df3')\"\n",
              "              title=\"Convert this dataframe to an interactive table.\"\n",
              "              style=\"display:none;\">\n",
              "        \n",
              "  <svg xmlns=\"http://www.w3.org/2000/svg\" height=\"24px\"viewBox=\"0 0 24 24\"\n",
              "       width=\"24px\">\n",
              "    <path d=\"M0 0h24v24H0V0z\" fill=\"none\"/>\n",
              "    <path d=\"M18.56 5.44l.94 2.06.94-2.06 2.06-.94-2.06-.94-.94-2.06-.94 2.06-2.06.94zm-11 1L8.5 8.5l.94-2.06 2.06-.94-2.06-.94L8.5 2.5l-.94 2.06-2.06.94zm10 10l.94 2.06.94-2.06 2.06-.94-2.06-.94-.94-2.06-.94 2.06-2.06.94z\"/><path d=\"M17.41 7.96l-1.37-1.37c-.4-.4-.92-.59-1.43-.59-.52 0-1.04.2-1.43.59L10.3 9.45l-7.72 7.72c-.78.78-.78 2.05 0 2.83L4 21.41c.39.39.9.59 1.41.59.51 0 1.02-.2 1.41-.59l7.78-7.78 2.81-2.81c.8-.78.8-2.07 0-2.86zM5.41 20L4 18.59l7.72-7.72 1.47 1.35L5.41 20z\"/>\n",
              "  </svg>\n",
              "      </button>\n",
              "      \n",
              "  <style>\n",
              "    .colab-df-container {\n",
              "      display:flex;\n",
              "      flex-wrap:wrap;\n",
              "      gap: 12px;\n",
              "    }\n",
              "\n",
              "    .colab-df-convert {\n",
              "      background-color: #E8F0FE;\n",
              "      border: none;\n",
              "      border-radius: 50%;\n",
              "      cursor: pointer;\n",
              "      display: none;\n",
              "      fill: #1967D2;\n",
              "      height: 32px;\n",
              "      padding: 0 0 0 0;\n",
              "      width: 32px;\n",
              "    }\n",
              "\n",
              "    .colab-df-convert:hover {\n",
              "      background-color: #E2EBFA;\n",
              "      box-shadow: 0px 1px 2px rgba(60, 64, 67, 0.3), 0px 1px 3px 1px rgba(60, 64, 67, 0.15);\n",
              "      fill: #174EA6;\n",
              "    }\n",
              "\n",
              "    [theme=dark] .colab-df-convert {\n",
              "      background-color: #3B4455;\n",
              "      fill: #D2E3FC;\n",
              "    }\n",
              "\n",
              "    [theme=dark] .colab-df-convert:hover {\n",
              "      background-color: #434B5C;\n",
              "      box-shadow: 0px 1px 3px 1px rgba(0, 0, 0, 0.15);\n",
              "      filter: drop-shadow(0px 1px 2px rgba(0, 0, 0, 0.3));\n",
              "      fill: #FFFFFF;\n",
              "    }\n",
              "  </style>\n",
              "\n",
              "      <script>\n",
              "        const buttonEl =\n",
              "          document.querySelector('#df-5696b4c8-23f0-445c-bb0d-bc8c44148df3 button.colab-df-convert');\n",
              "        buttonEl.style.display =\n",
              "          google.colab.kernel.accessAllowed ? 'block' : 'none';\n",
              "\n",
              "        async function convertToInteractive(key) {\n",
              "          const element = document.querySelector('#df-5696b4c8-23f0-445c-bb0d-bc8c44148df3');\n",
              "          const dataTable =\n",
              "            await google.colab.kernel.invokeFunction('convertToInteractive',\n",
              "                                                     [key], {});\n",
              "          if (!dataTable) return;\n",
              "\n",
              "          const docLinkHtml = 'Like what you see? Visit the ' +\n",
              "            '<a target=\"_blank\" href=https://colab.research.google.com/notebooks/data_table.ipynb>data table notebook</a>'\n",
              "            + ' to learn more about interactive tables.';\n",
              "          element.innerHTML = '';\n",
              "          dataTable['output_type'] = 'display_data';\n",
              "          await google.colab.output.renderOutput(dataTable, element);\n",
              "          const docLink = document.createElement('div');\n",
              "          docLink.innerHTML = docLinkHtml;\n",
              "          element.appendChild(docLink);\n",
              "        }\n",
              "      </script>\n",
              "    </div>\n",
              "  </div>\n",
              "  "
            ]
          },
          "metadata": {},
          "execution_count": 15
        }
      ],
      "source": [
        "car_owner = df.groupby(\"owner\")[\"name\"].count().reset_index()\n",
        "car_owner\n"
      ]
    },
    {
      "cell_type": "code",
      "execution_count": null,
      "metadata": {
        "colab": {
          "base_uri": "https://localhost:8080/",
          "height": 531
        },
        "id": "QtZAdq3UJehr",
        "outputId": "7135c8f7-86de-4e8a-afe5-c082f9d1d1f2"
      },
      "outputs": [
        {
          "output_type": "execute_result",
          "data": {
            "text/plain": [
              "<AxesSubplot:title={'center':'car_owner Type'}, xlabel='owner', ylabel='name'>"
            ]
          },
          "metadata": {},
          "execution_count": 16
        },
        {
          "output_type": "display_data",
          "data": {
            "text/plain": [
              "<Figure size 936x576 with 1 Axes>"
            ],
            "image/png": "[encoded data removed]"
          },
          "metadata": {
            "needs_background": "light"
          }
        }
      ],
      "source": [
        "plt.figure(figsize=(13,8))\n",
        "plt.title('car_owner Type')\n",
        "sns.barplot(x='owner',y='name',data=car_owner)"
      ]
    },
    {
      "cell_type": "code",
      "execution_count": null,
      "metadata": {
        "colab": {
          "base_uri": "https://localhost:8080/",
          "height": 112
        },
        "id": "5J7b0GyVKdW9",
        "outputId": "29959959-b34a-47b5-af57-71259a2f3a47"
      },
      "outputs": [
        {
          "output_type": "execute_result",
          "data": {
            "text/plain": [
              "                       name  year  selling_price  km_driven    fuel  \\\n",
              "0             Maruti 800 AC  2007          60000      70000  Petrol   \n",
              "1  Maruti Wagon R LXI Minor  2007         135000      50000  Petrol   \n",
              "\n",
              "  seller_type transmission        owner  \n",
              "0  Individual       Manual  First Owner  \n",
              "1  Individual       Manual  First Owner  "
            ],
            "text/html": [
              "\n",
              "  <div id=\"df-abacf01c-09f8-4097-bf89-652f57713ba3\">\n",
              "    <div class=\"colab-df-container\">\n",
              "      <div>\n",
              "<style scoped>\n",
              "    .dataframe tbody tr th:only-of-type {\n",
              "        vertical-align: middle;\n",
              "    }\n",
              "\n",
              "    .dataframe tbody tr th {\n",
              "        vertical-align: top;\n",
              "    }\n",
              "\n",
              "    .dataframe thead th {\n",
              "        text-align: right;\n",
              "    }\n",
              "</style>\n",
              "<table border=\"1\" class=\"dataframe\">\n",
              "  <thead>\n",
              "    <tr style=\"text-align: right;\">\n",
              "      <th></th>\n",
              "      <th>name</th>\n",
              "      <th>year</th>\n",
              "      <th>selling_price</th>\n",
              "      <th>km_driven</th>\n",
              "      <th>fuel</th>\n",
              "      <th>seller_type</th>\n",
              "      <th>transmission</th>\n",
              "      <th>owner</th>\n",
              "    </tr>\n",
              "  </thead>\n",
              "  <tbody>\n",
              "    <tr>\n",
              "      <th>0</th>\n",
              "      <td>Maruti 800 AC</td>\n",
              "      <td>2007</td>\n",
              "      <td>60000</td>\n",
              "      <td>70000</td>\n",
              "      <td>Petrol</td>\n",
              "      <td>Individual</td>\n",
              "      <td>Manual</td>\n",
              "      <td>First Owner</td>\n",
              "    </tr>\n",
              "    <tr>\n",
              "      <th>1</th>\n",
              "      <td>Maruti Wagon R LXI Minor</td>\n",
              "      <td>2007</td>\n",
              "      <td>135000</td>\n",
              "      <td>50000</td>\n",
              "      <td>Petrol</td>\n",
              "      <td>Individual</td>\n",
              "      <td>Manual</td>\n",
              "      <td>First Owner</td>\n",
              "    </tr>\n",
              "  </tbody>\n",
              "</table>\n",
              "</div>\n",
              "      <button class=\"colab-df-convert\" onclick=\"convertToInteractive('df-abacf01c-09f8-4097-bf89-652f57713ba3')\"\n",
              "              title=\"Convert this dataframe to an interactive table.\"\n",
              "              style=\"display:none;\">\n",
              "        \n",
              "  <svg xmlns=\"http://www.w3.org/2000/svg\" height=\"24px\"viewBox=\"0 0 24 24\"\n",
              "       width=\"24px\">\n",
              "    <path d=\"M0 0h24v24H0V0z\" fill=\"none\"/>\n",
              "    <path d=\"M18.56 5.44l.94 2.06.94-2.06 2.06-.94-2.06-.94-.94-2.06-.94 2.06-2.06.94zm-11 1L8.5 8.5l.94-2.06 2.06-.94-2.06-.94L8.5 2.5l-.94 2.06-2.06.94zm10 10l.94 2.06.94-2.06 2.06-.94-2.06-.94-.94-2.06-.94 2.06-2.06.94z\"/><path d=\"M17.41 7.96l-1.37-1.37c-.4-.4-.92-.59-1.43-.59-.52 0-1.04.2-1.43.59L10.3 9.45l-7.72 7.72c-.78.78-.78 2.05 0 2.83L4 21.41c.39.39.9.59 1.41.59.51 0 1.02-.2 1.41-.59l7.78-7.78 2.81-2.81c.8-.78.8-2.07 0-2.86zM5.41 20L4 18.59l7.72-7.72 1.47 1.35L5.41 20z\"/>\n",
              "  </svg>\n",
              "      </button>\n",
              "      \n",
              "  <style>\n",
              "    .colab-df-container {\n",
              "      display:flex;\n",
              "      flex-wrap:wrap;\n",
              "      gap: 12px;\n",
              "    }\n",
              "\n",
              "    .colab-df-convert {\n",
              "      background-color: #E8F0FE;\n",
              "      border: none;\n",
              "      border-radius: 50%;\n",
              "      cursor: pointer;\n",
              "      display: none;\n",
              "      fill: #1967D2;\n",
              "      height: 32px;\n",
              "      padding: 0 0 0 0;\n",
              "      width: 32px;\n",
              "    }\n",
              "\n",
              "    .colab-df-convert:hover {\n",
              "      background-color: #E2EBFA;\n",
              "      box-shadow: 0px 1px 2px rgba(60, 64, 67, 0.3), 0px 1px 3px 1px rgba(60, 64, 67, 0.15);\n",
              "      fill: #174EA6;\n",
              "    }\n",
              "\n",
              "    [theme=dark] .colab-df-convert {\n",
              "      background-color: #3B4455;\n",
              "      fill: #D2E3FC;\n",
              "    }\n",
              "\n",
              "    [theme=dark] .colab-df-convert:hover {\n",
              "      background-color: #434B5C;\n",
              "      box-shadow: 0px 1px 3px 1px rgba(0, 0, 0, 0.15);\n",
              "      filter: drop-shadow(0px 1px 2px rgba(0, 0, 0, 0.3));\n",
              "      fill: #FFFFFF;\n",
              "    }\n",
              "  </style>\n",
              "\n",
              "      <script>\n",
              "        const buttonEl =\n",
              "          document.querySelector('#df-abacf01c-09f8-4097-bf89-652f57713ba3 button.colab-df-convert');\n",
              "        buttonEl.style.display =\n",
              "          google.colab.kernel.accessAllowed ? 'block' : 'none';\n",
              "\n",
              "        async function convertToInteractive(key) {\n",
              "          const element = document.querySelector('#df-abacf01c-09f8-4097-bf89-652f57713ba3');\n",
              "          const dataTable =\n",
              "            await google.colab.kernel.invokeFunction('convertToInteractive',\n",
              "                                                     [key], {});\n",
              "          if (!dataTable) return;\n",
              "\n",
              "          const docLinkHtml = 'Like what you see? Visit the ' +\n",
              "            '<a target=\"_blank\" href=https://colab.research.google.com/notebooks/data_table.ipynb>data table notebook</a>'\n",
              "            + ' to learn more about interactive tables.';\n",
              "          element.innerHTML = '';\n",
              "          dataTable['output_type'] = 'display_data';\n",
              "          await google.colab.output.renderOutput(dataTable, element);\n",
              "          const docLink = document.createElement('div');\n",
              "          docLink.innerHTML = docLinkHtml;\n",
              "          element.appendChild(docLink);\n",
              "        }\n",
              "      </script>\n",
              "    </div>\n",
              "  </div>\n",
              "  "
            ]
          },
          "metadata": {},
          "execution_count": 17
        }
      ],
      "source": [
        "df.head(2)"
      ]
    },
    {
      "cell_type": "code",
      "execution_count": null,
      "metadata": {
        "colab": {
          "base_uri": "https://localhost:8080/",
          "height": 206
        },
        "id": "E4bMejwWPD32",
        "outputId": "0208e482-6d7e-44ea-822f-aaa205f5e8b9"
      },
      "outputs": [
        {
          "output_type": "execute_result",
          "data": {
            "text/plain": [
              "       fuel  selling_price\n",
              "0       CNG       11086997\n",
              "1    Diesel     1440559925\n",
              "2  Electric         310000\n",
              "3       LPG        3859999\n",
              "4    Petrol      732095612"
            ],
            "text/html": [
              "\n",
              "  <div id=\"df-185f5c94-1e3d-47a8-b270-b257b3bc93b0\">\n",
              "    <div class=\"colab-df-container\">\n",
              "      <div>\n",
              "<style scoped>\n",
              "    .dataframe tbody tr th:only-of-type {\n",
              "        vertical-align: middle;\n",
              "    }\n",
              "\n",
              "    .dataframe tbody tr th {\n",
              "        vertical-align: top;\n",
              "    }\n",
              "\n",
              "    .dataframe thead th {\n",
              "        text-align: right;\n",
              "    }\n",
              "</style>\n",
              "<table border=\"1\" class=\"dataframe\">\n",
              "  <thead>\n",
              "    <tr style=\"text-align: right;\">\n",
              "      <th></th>\n",
              "      <th>fuel</th>\n",
              "      <th>selling_price</th>\n",
              "    </tr>\n",
              "  </thead>\n",
              "  <tbody>\n",
              "    <tr>\n",
              "      <th>0</th>\n",
              "      <td>CNG</td>\n",
              "      <td>11086997</td>\n",
              "    </tr>\n",
              "    <tr>\n",
              "      <th>1</th>\n",
              "      <td>Diesel</td>\n",
              "      <td>1440559925</td>\n",
              "    </tr>\n",
              "    <tr>\n",
              "      <th>2</th>\n",
              "      <td>Electric</td>\n",
              "      <td>310000</td>\n",
              "    </tr>\n",
              "    <tr>\n",
              "      <th>3</th>\n",
              "      <td>LPG</td>\n",
              "      <td>3859999</td>\n",
              "    </tr>\n",
              "    <tr>\n",
              "      <th>4</th>\n",
              "      <td>Petrol</td>\n",
              "      <td>732095612</td>\n",
              "    </tr>\n",
              "  </tbody>\n",
              "</table>\n",
              "</div>\n",
              "      <button class=\"colab-df-convert\" onclick=\"convertToInteractive('df-185f5c94-1e3d-47a8-b270-b257b3bc93b0')\"\n",
              "              title=\"Convert this dataframe to an interactive table.\"\n",
              "              style=\"display:none;\">\n",
              "        \n",
              "  <svg xmlns=\"http://www.w3.org/2000/svg\" height=\"24px\"viewBox=\"0 0 24 24\"\n",
              "       width=\"24px\">\n",
              "    <path d=\"M0 0h24v24H0V0z\" fill=\"none\"/>\n",
              "    <path d=\"M18.56 5.44l.94 2.06.94-2.06 2.06-.94-2.06-.94-.94-2.06-.94 2.06-2.06.94zm-11 1L8.5 8.5l.94-2.06 2.06-.94-2.06-.94L8.5 2.5l-.94 2.06-2.06.94zm10 10l.94 2.06.94-2.06 2.06-.94-2.06-.94-.94-2.06-.94 2.06-2.06.94z\"/><path d=\"M17.41 7.96l-1.37-1.37c-.4-.4-.92-.59-1.43-.59-.52 0-1.04.2-1.43.59L10.3 9.45l-7.72 7.72c-.78.78-.78 2.05 0 2.83L4 21.41c.39.39.9.59 1.41.59.51 0 1.02-.2 1.41-.59l7.78-7.78 2.81-2.81c.8-.78.8-2.07 0-2.86zM5.41 20L4 18.59l7.72-7.72 1.47 1.35L5.41 20z\"/>\n",
              "  </svg>\n",
              "      </button>\n",
              "      \n",
              "  <style>\n",
              "    .colab-df-container {\n",
              "      display:flex;\n",
              "      flex-wrap:wrap;\n",
              "      gap: 12px;\n",
              "    }\n",
              "\n",
              "    .colab-df-convert {\n",
              "      background-color: #E8F0FE;\n",
              "      border: none;\n",
              "      border-radius: 50%;\n",
              "      cursor: pointer;\n",
              "      display: none;\n",
              "      fill: #1967D2;\n",
              "      height: 32px;\n",
              "      padding: 0 0 0 0;\n",
              "      width: 32px;\n",
              "    }\n",
              "\n",
              "    .colab-df-convert:hover {\n",
              "      background-color: #E2EBFA;\n",
              "      box-shadow: 0px 1px 2px rgba(60, 64, 67, 0.3), 0px 1px 3px 1px rgba(60, 64, 67, 0.15);\n",
              "      fill: #174EA6;\n",
              "    }\n",
              "\n",
              "    [theme=dark] .colab-df-convert {\n",
              "      background-color: #3B4455;\n",
              "      fill: #D2E3FC;\n",
              "    }\n",
              "\n",
              "    [theme=dark] .colab-df-convert:hover {\n",
              "      background-color: #434B5C;\n",
              "      box-shadow: 0px 1px 3px 1px rgba(0, 0, 0, 0.15);\n",
              "      filter: drop-shadow(0px 1px 2px rgba(0, 0, 0, 0.3));\n",
              "      fill: #FFFFFF;\n",
              "    }\n",
              "  </style>\n",
              "\n",
              "      <script>\n",
              "        const buttonEl =\n",
              "          document.querySelector('#df-185f5c94-1e3d-47a8-b270-b257b3bc93b0 button.colab-df-convert');\n",
              "        buttonEl.style.display =\n",
              "          google.colab.kernel.accessAllowed ? 'block' : 'none';\n",
              "\n",
              "        async function convertToInteractive(key) {\n",
              "          const element = document.querySelector('#df-185f5c94-1e3d-47a8-b270-b257b3bc93b0');\n",
              "          const dataTable =\n",
              "            await google.colab.kernel.invokeFunction('convertToInteractive',\n",
              "                                                     [key], {});\n",
              "          if (!dataTable) return;\n",
              "\n",
              "          const docLinkHtml = 'Like what you see? Visit the ' +\n",
              "            '<a target=\"_blank\" href=https://colab.research.google.com/notebooks/data_table.ipynb>data table notebook</a>'\n",
              "            + ' to learn more about interactive tables.';\n",
              "          element.innerHTML = '';\n",
              "          dataTable['output_type'] = 'display_data';\n",
              "          await google.colab.output.renderOutput(dataTable, element);\n",
              "          const docLink = document.createElement('div');\n",
              "          docLink.innerHTML = docLinkHtml;\n",
              "          element.appendChild(docLink);\n",
              "        }\n",
              "      </script>\n",
              "    </div>\n",
              "  </div>\n",
              "  "
            ]
          },
          "metadata": {},
          "execution_count": 18
        }
      ],
      "source": [
        "selling_price = df.groupby(\"fuel\")[\"selling_price\"].sum().reset_index()\n",
        "selling_price"
      ]
    },
    {
      "cell_type": "code",
      "execution_count": null,
      "metadata": {
        "colab": {
          "base_uri": "https://localhost:8080/",
          "height": 531
        },
        "id": "zPCYDeYLQFjH",
        "outputId": "38cdc0d5-031c-48de-de6f-a35067be2029"
      },
      "outputs": [
        {
          "output_type": "execute_result",
          "data": {
            "text/plain": [
              "<AxesSubplot:title={'center':'max_sell_CAR_Type'}, xlabel='fuel', ylabel='selling_price'>"
            ]
          },
          "metadata": {},
          "execution_count": 19
        },
        {
          "output_type": "display_data",
          "data": {
            "text/plain": [
              "<Figure size 936x576 with 1 Axes>"
            ],
            "image/png": "[encoded data removed]"
          },
          "metadata": {
            "needs_background": "light"
          }
        }
      ],
      "source": [
        "plt.figure(figsize=(13,8))\n",
        "plt.title('max_sell_CAR_Type')\n",
        "sns.barplot(x='fuel',y='selling_price',data=selling_price)"
      ]
    },
    {
      "cell_type": "code",
      "execution_count": null,
      "metadata": {
        "colab": {
          "base_uri": "https://localhost:8080/",
          "height": 1000
        },
        "id": "SXPuqXY3QzJE",
        "outputId": "f29fac90-0d73-4c10-d030-382def2eb1a6"
      },
      "outputs": [
        {
          "output_type": "stream",
          "name": "stdout",
          "text": [
            "owner        selling_price\n",
            "First Owner  300000           114\n",
            "             550000            87\n",
            "             600000            84\n",
            "Name: selling_price, dtype: int64\n",
            "owner         selling_price\n",
            "Second Owner  150000           43\n",
            "              300000           42\n",
            "              450000           41\n",
            "Name: selling_price, dtype: int64\n",
            "owner                 selling_price\n",
            "Fourth & Above Owner  110000           7\n",
            "                      70000            6\n",
            "                      250000           6\n",
            "Name: selling_price, dtype: int64\n",
            "owner        selling_price\n",
            "Third Owner  150000           14\n",
            "             120000           11\n",
            "             110000            9\n",
            "Name: selling_price, dtype: int64\n",
            "owner           selling_price\n",
            "Test Drive Car  541000           1\n",
            "                635000           1\n",
            "                700000           1\n",
            "Name: selling_price, dtype: int64\n"
          ]
        },
        {
          "output_type": "display_data",
          "data": {
            "text/plain": [
              "<Figure size 360x216 with 1 Axes>"
            ],
            "image/png": "[encoded data removed]"
          },
          "metadata": {
            "needs_background": "light"
          }
        },
        {
          "output_type": "display_data",
          "data": {
            "text/plain": [
              "<Figure size 360x216 with 1 Axes>"
            ],
            "image/png": "[encoded data removed]"
          },
          "metadata": {
            "needs_background": "light"
          }
        },
        {
          "output_type": "display_data",
          "data": {
            "text/plain": [
              "<Figure size 360x216 with 1 Axes>"
            ],
            "image/png": "[encoded data removed]"
          },
          "metadata": {
            "needs_background": "light"
          }
        },
        {
          "output_type": "display_data",
          "data": {
            "text/plain": [
              "<Figure size 360x216 with 1 Axes>"
            ],
            "image/png": "[encoded data removed]"
          },
          "metadata": {
            "needs_background": "light"
          }
        },
        {
          "output_type": "display_data",
          "data": {
            "text/plain": [
              "<Figure size 360x216 with 1 Axes>"
            ],
            "image/png": "[encoded data removed]"
          },
          "metadata": {
            "needs_background": "light"
          }
        }
      ],
      "source": [
        "# Chart - 4 visualization code\n",
        "newlist=df['owner'].unique()\n",
        "y=list(newlist)\n",
        "# Applying for loop operation\n",
        "for x in y:\n",
        "  sub_1=df.loc[df['owner'] == x]\n",
        "  p_sub1=sub_1.groupby(['owner'])['selling_price'].value_counts().head(3)\n",
        "  print(p_sub1)\n",
        "  plt.figure(figsize=(5,3))\n",
        "  p_sub1.plot(kind='bar')\n",
        "  plt.title('Top 3 sold car of '+str(x))\n",
        "  plt.xlabel(\"car\")\n",
        "  plt.ylabel(\"Counting\")"
      ]
    },
    {
      "cell_type": "code",
      "execution_count": null,
      "metadata": {
        "colab": {
          "base_uri": "https://localhost:8080/",
          "height": 143
        },
        "id": "1qs6mWLOWup-",
        "outputId": "5bc22a29-4fd8-4ec2-d858-5fd62ab359f1"
      },
      "outputs": [
        {
          "output_type": "execute_result",
          "data": {
            "text/plain": [
              "        seller_type  name\n",
              "0            Dealer   994\n",
              "1        Individual  3244\n",
              "2  Trustmark Dealer   102"
            ],
            "text/html": [
              "\n",
              "  <div id=\"df-24de9b9d-2835-480a-8c62-615c68f88fa7\">\n",
              "    <div class=\"colab-df-container\">\n",
              "      <div>\n",
              "<style scoped>\n",
              "    .dataframe tbody tr th:only-of-type {\n",
              "        vertical-align: middle;\n",
              "    }\n",
              "\n",
              "    .dataframe tbody tr th {\n",
              "        vertical-align: top;\n",
              "    }\n",
              "\n",
              "    .dataframe thead th {\n",
              "        text-align: right;\n",
              "    }\n",
              "</style>\n",
              "<table border=\"1\" class=\"dataframe\">\n",
              "  <thead>\n",
              "    <tr style=\"text-align: right;\">\n",
              "      <th></th>\n",
              "      <th>seller_type</th>\n",
              "      <th>name</th>\n",
              "    </tr>\n",
              "  </thead>\n",
              "  <tbody>\n",
              "    <tr>\n",
              "      <th>0</th>\n",
              "      <td>Dealer</td>\n",
              "      <td>994</td>\n",
              "    </tr>\n",
              "    <tr>\n",
              "      <th>1</th>\n",
              "      <td>Individual</td>\n",
              "      <td>3244</td>\n",
              "    </tr>\n",
              "    <tr>\n",
              "      <th>2</th>\n",
              "      <td>Trustmark Dealer</td>\n",
              "      <td>102</td>\n",
              "    </tr>\n",
              "  </tbody>\n",
              "</table>\n",
              "</div>\n",
              "      <button class=\"colab-df-convert\" onclick=\"convertToInteractive('df-24de9b9d-2835-480a-8c62-615c68f88fa7')\"\n",
              "              title=\"Convert this dataframe to an interactive table.\"\n",
              "              style=\"display:none;\">\n",
              "        \n",
              "  <svg xmlns=\"http://www.w3.org/2000/svg\" height=\"24px\"viewBox=\"0 0 24 24\"\n",
              "       width=\"24px\">\n",
              "    <path d=\"M0 0h24v24H0V0z\" fill=\"none\"/>\n",
              "    <path d=\"M18.56 5.44l.94 2.06.94-2.06 2.06-.94-2.06-.94-.94-2.06-.94 2.06-2.06.94zm-11 1L8.5 8.5l.94-2.06 2.06-.94-2.06-.94L8.5 2.5l-.94 2.06-2.06.94zm10 10l.94 2.06.94-2.06 2.06-.94-2.06-.94-.94-2.06-.94 2.06-2.06.94z\"/><path d=\"M17.41 7.96l-1.37-1.37c-.4-.4-.92-.59-1.43-.59-.52 0-1.04.2-1.43.59L10.3 9.45l-7.72 7.72c-.78.78-.78 2.05 0 2.83L4 21.41c.39.39.9.59 1.41.59.51 0 1.02-.2 1.41-.59l7.78-7.78 2.81-2.81c.8-.78.8-2.07 0-2.86zM5.41 20L4 18.59l7.72-7.72 1.47 1.35L5.41 20z\"/>\n",
              "  </svg>\n",
              "      </button>\n",
              "      \n",
              "  <style>\n",
              "    .colab-df-container {\n",
              "      display:flex;\n",
              "      flex-wrap:wrap;\n",
              "      gap: 12px;\n",
              "    }\n",
              "\n",
              "    .colab-df-convert {\n",
              "      background-color: #E8F0FE;\n",
              "      border: none;\n",
              "      border-radius: 50%;\n",
              "      cursor: pointer;\n",
              "      display: none;\n",
              "      fill: #1967D2;\n",
              "      height: 32px;\n",
              "      padding: 0 0 0 0;\n",
              "      width: 32px;\n",
              "    }\n",
              "\n",
              "    .colab-df-convert:hover {\n",
              "      background-color: #E2EBFA;\n",
              "      box-shadow: 0px 1px 2px rgba(60, 64, 67, 0.3), 0px 1px 3px 1px rgba(60, 64, 67, 0.15);\n",
              "      fill: #174EA6;\n",
              "    }\n",
              "\n",
              "    [theme=dark] .colab-df-convert {\n",
              "      background-color: #3B4455;\n",
              "      fill: #D2E3FC;\n",
              "    }\n",
              "\n",
              "    [theme=dark] .colab-df-convert:hover {\n",
              "      background-color: #434B5C;\n",
              "      box-shadow: 0px 1px 3px 1px rgba(0, 0, 0, 0.15);\n",
              "      filter: drop-shadow(0px 1px 2px rgba(0, 0, 0, 0.3));\n",
              "      fill: #FFFFFF;\n",
              "    }\n",
              "  </style>\n",
              "\n",
              "      <script>\n",
              "        const buttonEl =\n",
              "          document.querySelector('#df-24de9b9d-2835-480a-8c62-615c68f88fa7 button.colab-df-convert');\n",
              "        buttonEl.style.display =\n",
              "          google.colab.kernel.accessAllowed ? 'block' : 'none';\n",
              "\n",
              "        async function convertToInteractive(key) {\n",
              "          const element = document.querySelector('#df-24de9b9d-2835-480a-8c62-615c68f88fa7');\n",
              "          const dataTable =\n",
              "            await google.colab.kernel.invokeFunction('convertToInteractive',\n",
              "                                                     [key], {});\n",
              "          if (!dataTable) return;\n",
              "\n",
              "          const docLinkHtml = 'Like what you see? Visit the ' +\n",
              "            '<a target=\"_blank\" href=https://colab.research.google.com/notebooks/data_table.ipynb>data table notebook</a>'\n",
              "            + ' to learn more about interactive tables.';\n",
              "          element.innerHTML = '';\n",
              "          dataTable['output_type'] = 'display_data';\n",
              "          await google.colab.output.renderOutput(dataTable, element);\n",
              "          const docLink = document.createElement('div');\n",
              "          docLink.innerHTML = docLinkHtml;\n",
              "          element.appendChild(docLink);\n",
              "        }\n",
              "      </script>\n",
              "    </div>\n",
              "  </div>\n",
              "  "
            ]
          },
          "metadata": {},
          "execution_count": 21
        }
      ],
      "source": [
        "df_plot=df.groupby(['seller_type'])['name'].count().reset_index()\n",
        "df_plot"
      ]
    },
    {
      "cell_type": "code",
      "execution_count": null,
      "metadata": {
        "colab": {
          "base_uri": "https://localhost:8080/",
          "height": 418
        },
        "id": "Nx0kEkUkGD7I",
        "outputId": "74fb3f2a-b8ad-4bc9-dbc2-874603e76232"
      },
      "outputs": [
        {
          "output_type": "execute_result",
          "data": {
            "text/plain": [
              "<AxesSubplot:xlabel='km_driven', ylabel='selling_price'>"
            ]
          },
          "metadata": {},
          "execution_count": 22
        },
        {
          "output_type": "display_data",
          "data": {
            "text/plain": [
              "<Figure size 720x432 with 1 Axes>"
            ],
            "image/png": "[encoded data removed]"
          },
          "metadata": {
            "needs_background": "light"
          }
        }
      ],
      "source": [
        "#visualization code\n",
        "#Writing a code for plotting line plot between the target variable and age, cigsPerDay, and heartRate\n",
        "plt.figure(figsize=(10, 6))\n",
        "sns.lineplot(x='km_driven', y=\"selling_price\", data=df.head(200))\n"
      ]
    },
    {
      "cell_type": "markdown",
      "metadata": {
        "id": "bqKmuiVOa-4f"
      },
      "source": [
        "## ***6. Feature Engineering & Data Pre-processing***"
      ]
    },
    {
      "cell_type": "code",
      "execution_count": null,
      "metadata": {
        "id": "5rZnK3DHtOZu"
      },
      "outputs": [],
      "source": [
        "df1 = df [['year', 'selling_price', 'km_driven',\n",
        "       'fuel', 'seller_type', 'transmission', 'owner']]"
      ]
    },
    {
      "cell_type": "code",
      "execution_count": null,
      "metadata": {
        "id": "-kvPr3m9jV9C"
      },
      "outputs": [],
      "source": [
        "df1['Current_Year'] = 2022"
      ]
    },
    {
      "cell_type": "code",
      "execution_count": null,
      "metadata": {
        "colab": {
          "base_uri": "https://localhost:8080/",
          "height": 206
        },
        "id": "bi6j_l0sjrIL",
        "outputId": "3503a0f8-4c7c-4300-d3b5-97fb835f1f39"
      },
      "outputs": [
        {
          "output_type": "execute_result",
          "data": {
            "text/plain": [
              "   year  selling_price  km_driven    fuel seller_type transmission  \\\n",
              "0  2007          60000      70000  Petrol  Individual       Manual   \n",
              "1  2007         135000      50000  Petrol  Individual       Manual   \n",
              "2  2012         600000     100000  Diesel  Individual       Manual   \n",
              "3  2017         250000      46000  Petrol  Individual       Manual   \n",
              "4  2014         450000     141000  Diesel  Individual       Manual   \n",
              "\n",
              "          owner  Current_Year  \n",
              "0   First Owner          2022  \n",
              "1   First Owner          2022  \n",
              "2   First Owner          2022  \n",
              "3   First Owner          2022  \n",
              "4  Second Owner          2022  "
            ],
            "text/html": [
              "\n",
              "  <div id=\"df-548d1903-2814-49ab-8941-970500076242\">\n",
              "    <div class=\"colab-df-container\">\n",
              "      <div>\n",
              "<style scoped>\n",
              "    .dataframe tbody tr th:only-of-type {\n",
              "        vertical-align: middle;\n",
              "    }\n",
              "\n",
              "    .dataframe tbody tr th {\n",
              "        vertical-align: top;\n",
              "    }\n",
              "\n",
              "    .dataframe thead th {\n",
              "        text-align: right;\n",
              "    }\n",
              "</style>\n",
              "<table border=\"1\" class=\"dataframe\">\n",
              "  <thead>\n",
              "    <tr style=\"text-align: right;\">\n",
              "      <th></th>\n",
              "      <th>year</th>\n",
              "      <th>selling_price</th>\n",
              "      <th>km_driven</th>\n",
              "      <th>fuel</th>\n",
              "      <th>seller_type</th>\n",
              "      <th>transmission</th>\n",
              "      <th>owner</th>\n",
              "      <th>Current_Year</th>\n",
              "    </tr>\n",
              "  </thead>\n",
              "  <tbody>\n",
              "    <tr>\n",
              "      <th>0</th>\n",
              "      <td>2007</td>\n",
              "      <td>60000</td>\n",
              "      <td>70000</td>\n",
              "      <td>Petrol</td>\n",
              "      <td>Individual</td>\n",
              "      <td>Manual</td>\n",
              "      <td>First Owner</td>\n",
              "      <td>2022</td>\n",
              "    </tr>\n",
              "    <tr>\n",
              "      <th>1</th>\n",
              "      <td>2007</td>\n",
              "      <td>135000</td>\n",
              "      <td>50000</td>\n",
              "      <td>Petrol</td>\n",
              "      <td>Individual</td>\n",
              "      <td>Manual</td>\n",
              "      <td>First Owner</td>\n",
              "      <td>2022</td>\n",
              "    </tr>\n",
              "    <tr>\n",
              "      <th>2</th>\n",
              "      <td>2012</td>\n",
              "      <td>600000</td>\n",
              "      <td>100000</td>\n",
              "      <td>Diesel</td>\n",
              "      <td>Individual</td>\n",
              "      <td>Manual</td>\n",
              "      <td>First Owner</td>\n",
              "      <td>2022</td>\n",
              "    </tr>\n",
              "    <tr>\n",
              "      <th>3</th>\n",
              "      <td>2017</td>\n",
              "      <td>250000</td>\n",
              "      <td>46000</td>\n",
              "      <td>Petrol</td>\n",
              "      <td>Individual</td>\n",
              "      <td>Manual</td>\n",
              "      <td>First Owner</td>\n",
              "      <td>2022</td>\n",
              "    </tr>\n",
              "    <tr>\n",
              "      <th>4</th>\n",
              "      <td>2014</td>\n",
              "      <td>450000</td>\n",
              "      <td>141000</td>\n",
              "      <td>Diesel</td>\n",
              "      <td>Individual</td>\n",
              "      <td>Manual</td>\n",
              "      <td>Second Owner</td>\n",
              "      <td>2022</td>\n",
              "    </tr>\n",
              "  </tbody>\n",
              "</table>\n",
              "</div>\n",
              "      <button class=\"colab-df-convert\" onclick=\"convertToInteractive('df-548d1903-2814-49ab-8941-970500076242')\"\n",
              "              title=\"Convert this dataframe to an interactive table.\"\n",
              "              style=\"display:none;\">\n",
              "        \n",
              "  <svg xmlns=\"http://www.w3.org/2000/svg\" height=\"24px\"viewBox=\"0 0 24 24\"\n",
              "       width=\"24px\">\n",
              "    <path d=\"M0 0h24v24H0V0z\" fill=\"none\"/>\n",
              "    <path d=\"M18.56 5.44l.94 2.06.94-2.06 2.06-.94-2.06-.94-.94-2.06-.94 2.06-2.06.94zm-11 1L8.5 8.5l.94-2.06 2.06-.94-2.06-.94L8.5 2.5l-.94 2.06-2.06.94zm10 10l.94 2.06.94-2.06 2.06-.94-2.06-.94-.94-2.06-.94 2.06-2.06.94z\"/><path d=\"M17.41 7.96l-1.37-1.37c-.4-.4-.92-.59-1.43-.59-.52 0-1.04.2-1.43.59L10.3 9.45l-7.72 7.72c-.78.78-.78 2.05 0 2.83L4 21.41c.39.39.9.59 1.41.59.51 0 1.02-.2 1.41-.59l7.78-7.78 2.81-2.81c.8-.78.8-2.07 0-2.86zM5.41 20L4 18.59l7.72-7.72 1.47 1.35L5.41 20z\"/>\n",
              "  </svg>\n",
              "      </button>\n",
              "      \n",
              "  <style>\n",
              "    .colab-df-container {\n",
              "      display:flex;\n",
              "      flex-wrap:wrap;\n",
              "      gap: 12px;\n",
              "    }\n",
              "\n",
              "    .colab-df-convert {\n",
              "      background-color: #E8F0FE;\n",
              "      border: none;\n",
              "      border-radius: 50%;\n",
              "      cursor: pointer;\n",
              "      display: none;\n",
              "      fill: #1967D2;\n",
              "      height: 32px;\n",
              "      padding: 0 0 0 0;\n",
              "      width: 32px;\n",
              "    }\n",
              "\n",
              "    .colab-df-convert:hover {\n",
              "      background-color: #E2EBFA;\n",
              "      box-shadow: 0px 1px 2px rgba(60, 64, 67, 0.3), 0px 1px 3px 1px rgba(60, 64, 67, 0.15);\n",
              "      fill: #174EA6;\n",
              "    }\n",
              "\n",
              "    [theme=dark] .colab-df-convert {\n",
              "      background-color: #3B4455;\n",
              "      fill: #D2E3FC;\n",
              "    }\n",
              "\n",
              "    [theme=dark] .colab-df-convert:hover {\n",
              "      background-color: #434B5C;\n",
              "      box-shadow: 0px 1px 3px 1px rgba(0, 0, 0, 0.15);\n",
              "      filter: drop-shadow(0px 1px 2px rgba(0, 0, 0, 0.3));\n",
              "      fill: #FFFFFF;\n",
              "    }\n",
              "  </style>\n",
              "\n",
              "      <script>\n",
              "        const buttonEl =\n",
              "          document.querySelector('#df-548d1903-2814-49ab-8941-970500076242 button.colab-df-convert');\n",
              "        buttonEl.style.display =\n",
              "          google.colab.kernel.accessAllowed ? 'block' : 'none';\n",
              "\n",
              "        async function convertToInteractive(key) {\n",
              "          const element = document.querySelector('#df-548d1903-2814-49ab-8941-970500076242');\n",
              "          const dataTable =\n",
              "            await google.colab.kernel.invokeFunction('convertToInteractive',\n",
              "                                                     [key], {});\n",
              "          if (!dataTable) return;\n",
              "\n",
              "          const docLinkHtml = 'Like what you see? Visit the ' +\n",
              "            '<a target=\"_blank\" href=https://colab.research.google.com/notebooks/data_table.ipynb>data table notebook</a>'\n",
              "            + ' to learn more about interactive tables.';\n",
              "          element.innerHTML = '';\n",
              "          dataTable['output_type'] = 'display_data';\n",
              "          await google.colab.output.renderOutput(dataTable, element);\n",
              "          const docLink = document.createElement('div');\n",
              "          docLink.innerHTML = docLinkHtml;\n",
              "          element.appendChild(docLink);\n",
              "        }\n",
              "      </script>\n",
              "    </div>\n",
              "  </div>\n",
              "  "
            ]
          },
          "metadata": {},
          "execution_count": 25
        }
      ],
      "source": [
        "df1.head()"
      ]
    },
    {
      "cell_type": "code",
      "execution_count": null,
      "metadata": {
        "id": "05ckY792jwzO"
      },
      "outputs": [],
      "source": [
        "#Creating our new column no_of_year\n",
        "df1['Year_old'] = df1['Current_Year'] - df1['year']"
      ]
    },
    {
      "cell_type": "code",
      "execution_count": null,
      "metadata": {
        "id": "9DdXY_6Jkm3Y"
      },
      "outputs": [],
      "source": [
        "#One Hot Encoding for Categorical variables by creating dummy variables\n",
        "df1 = pd.get_dummies(df1, drop_first = True)"
      ]
    },
    {
      "cell_type": "code",
      "execution_count": null,
      "metadata": {
        "id": "tfpBkBHEu0YC"
      },
      "outputs": [],
      "source": [
        "df1.drop(['year','Current_Year'], axis=1, inplace=True)"
      ]
    },
    {
      "cell_type": "code",
      "execution_count": null,
      "metadata": {
        "colab": {
          "base_uri": "https://localhost:8080/",
          "height": 305
        },
        "id": "4Spln_pRu_8F",
        "outputId": "74c3e7af-0413-4fa3-da9b-64fed8d08d54"
      },
      "outputs": [
        {
          "output_type": "execute_result",
          "data": {
            "text/plain": [
              "   selling_price  km_driven  Year_old  fuel_Diesel  fuel_Electric  fuel_LPG  \\\n",
              "0          60000      70000        15            0              0         0   \n",
              "1         135000      50000        15            0              0         0   \n",
              "2         600000     100000        10            1              0         0   \n",
              "3         250000      46000         5            0              0         0   \n",
              "4         450000     141000         8            1              0         0   \n",
              "\n",
              "   fuel_Petrol  seller_type_Individual  seller_type_Trustmark Dealer  \\\n",
              "0            1                       1                             0   \n",
              "1            1                       1                             0   \n",
              "2            0                       1                             0   \n",
              "3            1                       1                             0   \n",
              "4            0                       1                             0   \n",
              "\n",
              "   transmission_Manual  owner_Fourth & Above Owner  owner_Second Owner  \\\n",
              "0                    1                           0                   0   \n",
              "1                    1                           0                   0   \n",
              "2                    1                           0                   0   \n",
              "3                    1                           0                   0   \n",
              "4                    1                           0                   1   \n",
              "\n",
              "   owner_Test Drive Car  owner_Third Owner  \n",
              "0                     0                  0  \n",
              "1                     0                  0  \n",
              "2                     0                  0  \n",
              "3                     0                  0  \n",
              "4                     0                  0  "
            ],
            "text/html": [
              "\n",
              "  <div id=\"df-3c5302c7-e0ee-4449-a718-28f7b04247f4\">\n",
              "    <div class=\"colab-df-container\">\n",
              "      <div>\n",
              "<style scoped>\n",
              "    .dataframe tbody tr th:only-of-type {\n",
              "        vertical-align: middle;\n",
              "    }\n",
              "\n",
              "    .dataframe tbody tr th {\n",
              "        vertical-align: top;\n",
              "    }\n",
              "\n",
              "    .dataframe thead th {\n",
              "        text-align: right;\n",
              "    }\n",
              "</style>\n",
              "<table border=\"1\" class=\"dataframe\">\n",
              "  <thead>\n",
              "    <tr style=\"text-align: right;\">\n",
              "      <th></th>\n",
              "      <th>selling_price</th>\n",
              "      <th>km_driven</th>\n",
              "      <th>Year_old</th>\n",
              "      <th>fuel_Diesel</th>\n",
              "      <th>fuel_Electric</th>\n",
              "      <th>fuel_LPG</th>\n",
              "      <th>fuel_Petrol</th>\n",
              "      <th>seller_type_Individual</th>\n",
              "      <th>seller_type_Trustmark Dealer</th>\n",
              "      <th>transmission_Manual</th>\n",
              "      <th>owner_Fourth &amp; Above Owner</th>\n",
              "      <th>owner_Second Owner</th>\n",
              "      <th>owner_Test Drive Car</th>\n",
              "      <th>owner_Third Owner</th>\n",
              "    </tr>\n",
              "  </thead>\n",
              "  <tbody>\n",
              "    <tr>\n",
              "      <th>0</th>\n",
              "      <td>60000</td>\n",
              "      <td>70000</td>\n",
              "      <td>15</td>\n",
              "      <td>0</td>\n",
              "      <td>0</td>\n",
              "      <td>0</td>\n",
              "      <td>1</td>\n",
              "      <td>1</td>\n",
              "      <td>0</td>\n",
              "      <td>1</td>\n",
              "      <td>0</td>\n",
              "      <td>0</td>\n",
              "      <td>0</td>\n",
              "      <td>0</td>\n",
              "    </tr>\n",
              "    <tr>\n",
              "      <th>1</th>\n",
              "      <td>135000</td>\n",
              "      <td>50000</td>\n",
              "      <td>15</td>\n",
              "      <td>0</td>\n",
              "      <td>0</td>\n",
              "      <td>0</td>\n",
              "      <td>1</td>\n",
              "      <td>1</td>\n",
              "      <td>0</td>\n",
              "      <td>1</td>\n",
              "      <td>0</td>\n",
              "      <td>0</td>\n",
              "      <td>0</td>\n",
              "      <td>0</td>\n",
              "    </tr>\n",
              "    <tr>\n",
              "      <th>2</th>\n",
              "      <td>600000</td>\n",
              "      <td>100000</td>\n",
              "      <td>10</td>\n",
              "      <td>1</td>\n",
              "      <td>0</td>\n",
              "      <td>0</td>\n",
              "      <td>0</td>\n",
              "      <td>1</td>\n",
              "      <td>0</td>\n",
              "      <td>1</td>\n",
              "      <td>0</td>\n",
              "      <td>0</td>\n",
              "      <td>0</td>\n",
              "      <td>0</td>\n",
              "    </tr>\n",
              "    <tr>\n",
              "      <th>3</th>\n",
              "      <td>250000</td>\n",
              "      <td>46000</td>\n",
              "      <td>5</td>\n",
              "      <td>0</td>\n",
              "      <td>0</td>\n",
              "      <td>0</td>\n",
              "      <td>1</td>\n",
              "      <td>1</td>\n",
              "      <td>0</td>\n",
              "      <td>1</td>\n",
              "      <td>0</td>\n",
              "      <td>0</td>\n",
              "      <td>0</td>\n",
              "      <td>0</td>\n",
              "    </tr>\n",
              "    <tr>\n",
              "      <th>4</th>\n",
              "      <td>450000</td>\n",
              "      <td>141000</td>\n",
              "      <td>8</td>\n",
              "      <td>1</td>\n",
              "      <td>0</td>\n",
              "      <td>0</td>\n",
              "      <td>0</td>\n",
              "      <td>1</td>\n",
              "      <td>0</td>\n",
              "      <td>1</td>\n",
              "      <td>0</td>\n",
              "      <td>1</td>\n",
              "      <td>0</td>\n",
              "      <td>0</td>\n",
              "    </tr>\n",
              "  </tbody>\n",
              "</table>\n",
              "</div>\n",
              "      <button class=\"colab-df-convert\" onclick=\"convertToInteractive('df-3c5302c7-e0ee-4449-a718-28f7b04247f4')\"\n",
              "              title=\"Convert this dataframe to an interactive table.\"\n",
              "              style=\"display:none;\">\n",
              "        \n",
              "  <svg xmlns=\"http://www.w3.org/2000/svg\" height=\"24px\"viewBox=\"0 0 24 24\"\n",
              "       width=\"24px\">\n",
              "    <path d=\"M0 0h24v24H0V0z\" fill=\"none\"/>\n",
              "    <path d=\"M18.56 5.44l.94 2.06.94-2.06 2.06-.94-2.06-.94-.94-2.06-.94 2.06-2.06.94zm-11 1L8.5 8.5l.94-2.06 2.06-.94-2.06-.94L8.5 2.5l-.94 2.06-2.06.94zm10 10l.94 2.06.94-2.06 2.06-.94-2.06-.94-.94-2.06-.94 2.06-2.06.94z\"/><path d=\"M17.41 7.96l-1.37-1.37c-.4-.4-.92-.59-1.43-.59-.52 0-1.04.2-1.43.59L10.3 9.45l-7.72 7.72c-.78.78-.78 2.05 0 2.83L4 21.41c.39.39.9.59 1.41.59.51 0 1.02-.2 1.41-.59l7.78-7.78 2.81-2.81c.8-.78.8-2.07 0-2.86zM5.41 20L4 18.59l7.72-7.72 1.47 1.35L5.41 20z\"/>\n",
              "  </svg>\n",
              "      </button>\n",
              "      \n",
              "  <style>\n",
              "    .colab-df-container {\n",
              "      display:flex;\n",
              "      flex-wrap:wrap;\n",
              "      gap: 12px;\n",
              "    }\n",
              "\n",
              "    .colab-df-convert {\n",
              "      background-color: #E8F0FE;\n",
              "      border: none;\n",
              "      border-radius: 50%;\n",
              "      cursor: pointer;\n",
              "      display: none;\n",
              "      fill: #1967D2;\n",
              "      height: 32px;\n",
              "      padding: 0 0 0 0;\n",
              "      width: 32px;\n",
              "    }\n",
              "\n",
              "    .colab-df-convert:hover {\n",
              "      background-color: #E2EBFA;\n",
              "      box-shadow: 0px 1px 2px rgba(60, 64, 67, 0.3), 0px 1px 3px 1px rgba(60, 64, 67, 0.15);\n",
              "      fill: #174EA6;\n",
              "    }\n",
              "\n",
              "    [theme=dark] .colab-df-convert {\n",
              "      background-color: #3B4455;\n",
              "      fill: #D2E3FC;\n",
              "    }\n",
              "\n",
              "    [theme=dark] .colab-df-convert:hover {\n",
              "      background-color: #434B5C;\n",
              "      box-shadow: 0px 1px 3px 1px rgba(0, 0, 0, 0.15);\n",
              "      filter: drop-shadow(0px 1px 2px rgba(0, 0, 0, 0.3));\n",
              "      fill: #FFFFFF;\n",
              "    }\n",
              "  </style>\n",
              "\n",
              "      <script>\n",
              "        const buttonEl =\n",
              "          document.querySelector('#df-3c5302c7-e0ee-4449-a718-28f7b04247f4 button.colab-df-convert');\n",
              "        buttonEl.style.display =\n",
              "          google.colab.kernel.accessAllowed ? 'block' : 'none';\n",
              "\n",
              "        async function convertToInteractive(key) {\n",
              "          const element = document.querySelector('#df-3c5302c7-e0ee-4449-a718-28f7b04247f4');\n",
              "          const dataTable =\n",
              "            await google.colab.kernel.invokeFunction('convertToInteractive',\n",
              "                                                     [key], {});\n",
              "          if (!dataTable) return;\n",
              "\n",
              "          const docLinkHtml = 'Like what you see? Visit the ' +\n",
              "            '<a target=\"_blank\" href=https://colab.research.google.com/notebooks/data_table.ipynb>data table notebook</a>'\n",
              "            + ' to learn more about interactive tables.';\n",
              "          element.innerHTML = '';\n",
              "          dataTable['output_type'] = 'display_data';\n",
              "          await google.colab.output.renderOutput(dataTable, element);\n",
              "          const docLink = document.createElement('div');\n",
              "          docLink.innerHTML = docLinkHtml;\n",
              "          element.appendChild(docLink);\n",
              "        }\n",
              "      </script>\n",
              "    </div>\n",
              "  </div>\n",
              "  "
            ]
          },
          "metadata": {},
          "execution_count": 29
        }
      ],
      "source": [
        "df1.head()"
      ]
    },
    {
      "cell_type": "markdown",
      "metadata": {
        "id": "nmf_CokoZDkn"
      },
      "source": [
        "### 2. Handling Outliers"
      ]
    },
    {
      "cell_type": "code",
      "execution_count": null,
      "metadata": {
        "colab": {
          "base_uri": "https://localhost:8080/",
          "height": 307
        },
        "id": "mARcH0e0F02K",
        "outputId": "622ff839-a90b-4c6a-dd25-350fa658f9d2"
      },
      "outputs": [
        {
          "output_type": "execute_result",
          "data": {
            "text/plain": [
              "<AxesSubplot:ylabel='Density'>"
            ]
          },
          "metadata": {},
          "execution_count": 30
        },
        {
          "output_type": "display_data",
          "data": {
            "text/plain": [
              "<Figure size 432x288 with 1 Axes>"
            ],
            "image/png": "[encoded data removed]"
          },
          "metadata": {
            "needs_background": "light"
          }
        }
      ],
      "source": [
        "#plotting distribution plot of target Variables\n",
        "sns.distplot(x=df1.selling_price)"
      ]
    },
    {
      "cell_type": "code",
      "execution_count": null,
      "metadata": {
        "colab": {
          "base_uri": "https://localhost:8080/",
          "height": 294
        },
        "id": "A_1znpevd7wc",
        "outputId": "bc449727-ad7a-4d06-e3d1-cbbc9f3aec04"
      },
      "outputs": [
        {
          "output_type": "execute_result",
          "data": {
            "text/plain": [
              "<AxesSubplot:ylabel='Density'>"
            ]
          },
          "metadata": {},
          "execution_count": 31
        },
        {
          "output_type": "display_data",
          "data": {
            "text/plain": [
              "<Figure size 432x288 with 1 Axes>"
            ],
            "image/png": "[encoded data removed]"
          },
          "metadata": {
            "needs_background": "light"
          }
        }
      ],
      "source": [
        "#plotting distribution plot of target Variables\n",
        "sns.distplot(x=df1.km_driven)"
      ]
    },
    {
      "cell_type": "markdown",
      "metadata": {
        "id": "WCNtri6GZ8fr"
      },
      "source": [
        "A Distplot or distribution plot, depicts the variation in the data distribution. Seaborn Distplot represents the overall distribution of continuous data variables i.e. data distribution of a variable against the density distribution. In above graph we can see that our graph have right tail(right skewed) it means tha our most of data centered near peak of the graph but there is a some highly expensive price that leads to a seperate trends that's why our graph showing right trends."
      ]
    },
    {
      "cell_type": "code",
      "execution_count": null,
      "metadata": {
        "id": "qXq5iDUXhvja"
      },
      "outputs": [],
      "source": [
        "\n",
        "# calculate the upper and lower limits for the km_driven column using the capping method\n",
        "Q1 = df1[\"km_driven\"].quantile(0.25)\n",
        "Q3 = df1[\"km_driven\"].quantile(0.75)\n",
        "IQR = Q3 - Q1\n",
        "upper_limit = Q3 + 1.5*IQR\n",
        "lower_limit = Q1 - 1.5*IQR\n",
        "\n",
        "# replace outliers above the upper limit with the nearest non-outlier value, and outliers below the lower limit with the nearest non-outlier value\n",
        "df1[\"km_driven\"] = np.where(df1[\"km_driven\"] > upper_limit, df1[\"km_driven\"].quantile(0.95), df1[\"km_driven\"])\n",
        "df1[\"km_driven\"] = np.where(df1[\"km_driven\"] < lower_limit, df1[\"km_driven\"].quantile(0.05), df1[\"km_driven\"])\n"
      ]
    },
    {
      "cell_type": "markdown",
      "metadata": {
        "id": "-4ACsceSregF"
      },
      "source": [
        "In above, the upper and lower limits are calculated using the interquartile range (IQR) multiplied by 1.5. Any values above the upper limit or below the lower limit are replaced with the 99th or 1st percentile value, respectively, using the NumPy where function"
      ]
    },
    {
      "cell_type": "code",
      "execution_count": null,
      "metadata": {
        "colab": {
          "base_uri": "https://localhost:8080/",
          "height": 294
        },
        "id": "wZ91fHyjfMUW",
        "outputId": "d0940fa4-a763-4b38-fcdd-a4ec61f72f4a"
      },
      "outputs": [
        {
          "output_type": "execute_result",
          "data": {
            "text/plain": [
              "<AxesSubplot:ylabel='Density'>"
            ]
          },
          "metadata": {},
          "execution_count": 33
        },
        {
          "output_type": "display_data",
          "data": {
            "text/plain": [
              "<Figure size 432x288 with 1 Axes>"
            ],
            "image/png": "[encoded data removed]"
          },
          "metadata": {
            "needs_background": "light"
          }
        }
      ],
      "source": [
        "sns.distplot(x=df1.km_driven)"
      ]
    },
    {
      "cell_type": "code",
      "execution_count": null,
      "metadata": {
        "id": "M3SIrlJiiVS2"
      },
      "outputs": [],
      "source": [
        "df1[\"km_driven_sqrt\"] = np.sqrt(df1[\"km_driven\"])"
      ]
    },
    {
      "cell_type": "code",
      "execution_count": null,
      "metadata": {
        "colab": {
          "base_uri": "https://localhost:8080/",
          "height": 285
        },
        "id": "3eIw7dlkiY3H",
        "outputId": "95accf5e-416b-4ee4-f682-7162db016f85"
      },
      "outputs": [
        {
          "output_type": "execute_result",
          "data": {
            "text/plain": [
              "<AxesSubplot:ylabel='Density'>"
            ]
          },
          "metadata": {},
          "execution_count": 35
        },
        {
          "output_type": "display_data",
          "data": {
            "text/plain": [
              "<Figure size 432x288 with 1 Axes>"
            ],
            "image/png": "[encoded data removed]"
          },
          "metadata": {
            "needs_background": "light"
          }
        }
      ],
      "source": [
        "sns.distplot(x=df1.km_driven_sqrt)"
      ]
    },
    {
      "cell_type": "markdown",
      "metadata": {
        "id": "5miW3JNVcwHr"
      },
      "source": [
        "after transforming the data now we can see that our data looks good and Logarithmic transformation converted our data to a normal distribution. It is a type of data transformation that can be applied to data that has a wide range of values or is skewed in one direction."
      ]
    },
    {
      "cell_type": "code",
      "execution_count": null,
      "metadata": {
        "id": "rDMRcUBUWbV3"
      },
      "outputs": [],
      "source": [
        "# take the natural logarithm of a column called \"column_to_transform\"\n",
        "df1[\"selling_price_lg\"] = np.log(df1[\"selling_price\"])"
      ]
    },
    {
      "cell_type": "code",
      "execution_count": null,
      "metadata": {
        "colab": {
          "base_uri": "https://localhost:8080/",
          "height": 283
        },
        "id": "ajkgsTHRWm8w",
        "outputId": "42d24d6d-d4dd-4412-c73c-bf444f5d3f5c"
      },
      "outputs": [
        {
          "output_type": "execute_result",
          "data": {
            "text/plain": [
              "<AxesSubplot:ylabel='Density'>"
            ]
          },
          "metadata": {},
          "execution_count": 37
        },
        {
          "output_type": "display_data",
          "data": {
            "text/plain": [
              "<Figure size 432x288 with 1 Axes>"
            ],
            "image/png": "[encoded data removed]"
          },
          "metadata": {
            "needs_background": "light"
          }
        }
      ],
      "source": [
        "#plotting distribution plot of target Variables\n",
        "sns.distplot(x=df1.selling_price_lg)"
      ]
    },
    {
      "cell_type": "markdown",
      "metadata": {
        "id": "oRtVZIdHWidz"
      },
      "source": [
        "Logarithmic transformation is a mathematical operation used in data analysis and modeling to convert data that is not normally distributed to a normal distribution. It is a type of data transformation that can be applied to data that has a wide range of values or is skewed in one direction."
      ]
    },
    {
      "cell_type": "code",
      "execution_count": null,
      "metadata": {
        "colab": {
          "base_uri": "https://localhost:8080/",
          "height": 305
        },
        "id": "56G1gwAxrwRx",
        "outputId": "a6619ec3-2433-4d4c-d45d-2b55e43237f6"
      },
      "outputs": [
        {
          "output_type": "execute_result",
          "data": {
            "text/plain": [
              "   selling_price  km_driven  Year_old  fuel_Diesel  fuel_Electric  fuel_LPG  \\\n",
              "0          60000    70000.0        15            0              0         0   \n",
              "1         135000    50000.0        15            0              0         0   \n",
              "2         600000   100000.0        10            1              0         0   \n",
              "3         250000    46000.0         5            0              0         0   \n",
              "4         450000   141000.0         8            1              0         0   \n",
              "\n",
              "   fuel_Petrol  seller_type_Individual  seller_type_Trustmark Dealer  \\\n",
              "0            1                       1                             0   \n",
              "1            1                       1                             0   \n",
              "2            0                       1                             0   \n",
              "3            1                       1                             0   \n",
              "4            0                       1                             0   \n",
              "\n",
              "   transmission_Manual  owner_Fourth & Above Owner  owner_Second Owner  \\\n",
              "0                    1                           0                   0   \n",
              "1                    1                           0                   0   \n",
              "2                    1                           0                   0   \n",
              "3                    1                           0                   0   \n",
              "4                    1                           0                   1   \n",
              "\n",
              "   owner_Test Drive Car  owner_Third Owner  km_driven_sqrt  selling_price_lg  \n",
              "0                     0                  0      264.575131         11.002100  \n",
              "1                     0                  0      223.606798         11.813030  \n",
              "2                     0                  0      316.227766         13.304685  \n",
              "3                     0                  0      214.476106         12.429216  \n",
              "4                     0                  0      375.499667         13.017003  "
            ],
            "text/html": [
              "\n",
              "  <div id=\"df-c7eb5b5a-41d2-4b43-91b6-f880f01610df\">\n",
              "    <div class=\"colab-df-container\">\n",
              "      <div>\n",
              "<style scoped>\n",
              "    .dataframe tbody tr th:only-of-type {\n",
              "        vertical-align: middle;\n",
              "    }\n",
              "\n",
              "    .dataframe tbody tr th {\n",
              "        vertical-align: top;\n",
              "    }\n",
              "\n",
              "    .dataframe thead th {\n",
              "        text-align: right;\n",
              "    }\n",
              "</style>\n",
              "<table border=\"1\" class=\"dataframe\">\n",
              "  <thead>\n",
              "    <tr style=\"text-align: right;\">\n",
              "      <th></th>\n",
              "      <th>selling_price</th>\n",
              "      <th>km_driven</th>\n",
              "      <th>Year_old</th>\n",
              "      <th>fuel_Diesel</th>\n",
              "      <th>fuel_Electric</th>\n",
              "      <th>fuel_LPG</th>\n",
              "      <th>fuel_Petrol</th>\n",
              "      <th>seller_type_Individual</th>\n",
              "      <th>seller_type_Trustmark Dealer</th>\n",
              "      <th>transmission_Manual</th>\n",
              "      <th>owner_Fourth &amp; Above Owner</th>\n",
              "      <th>owner_Second Owner</th>\n",
              "      <th>owner_Test Drive Car</th>\n",
              "      <th>owner_Third Owner</th>\n",
              "      <th>km_driven_sqrt</th>\n",
              "      <th>selling_price_lg</th>\n",
              "    </tr>\n",
              "  </thead>\n",
              "  <tbody>\n",
              "    <tr>\n",
              "      <th>0</th>\n",
              "      <td>60000</td>\n",
              "      <td>70000.0</td>\n",
              "      <td>15</td>\n",
              "      <td>0</td>\n",
              "      <td>0</td>\n",
              "      <td>0</td>\n",
              "      <td>1</td>\n",
              "      <td>1</td>\n",
              "      <td>0</td>\n",
              "      <td>1</td>\n",
              "      <td>0</td>\n",
              "      <td>0</td>\n",
              "      <td>0</td>\n",
              "      <td>0</td>\n",
              "      <td>264.575131</td>\n",
              "      <td>11.002100</td>\n",
              "    </tr>\n",
              "    <tr>\n",
              "      <th>1</th>\n",
              "      <td>135000</td>\n",
              "      <td>50000.0</td>\n",
              "      <td>15</td>\n",
              "      <td>0</td>\n",
              "      <td>0</td>\n",
              "      <td>0</td>\n",
              "      <td>1</td>\n",
              "      <td>1</td>\n",
              "      <td>0</td>\n",
              "      <td>1</td>\n",
              "      <td>0</td>\n",
              "      <td>0</td>\n",
              "      <td>0</td>\n",
              "      <td>0</td>\n",
              "      <td>223.606798</td>\n",
              "      <td>11.813030</td>\n",
              "    </tr>\n",
              "    <tr>\n",
              "      <th>2</th>\n",
              "      <td>600000</td>\n",
              "      <td>100000.0</td>\n",
              "      <td>10</td>\n",
              "      <td>1</td>\n",
              "      <td>0</td>\n",
              "      <td>0</td>\n",
              "      <td>0</td>\n",
              "      <td>1</td>\n",
              "      <td>0</td>\n",
              "      <td>1</td>\n",
              "      <td>0</td>\n",
              "      <td>0</td>\n",
              "      <td>0</td>\n",
              "      <td>0</td>\n",
              "      <td>316.227766</td>\n",
              "      <td>13.304685</td>\n",
              "    </tr>\n",
              "    <tr>\n",
              "      <th>3</th>\n",
              "      <td>250000</td>\n",
              "      <td>46000.0</td>\n",
              "      <td>5</td>\n",
              "      <td>0</td>\n",
              "      <td>0</td>\n",
              "      <td>0</td>\n",
              "      <td>1</td>\n",
              "      <td>1</td>\n",
              "      <td>0</td>\n",
              "      <td>1</td>\n",
              "      <td>0</td>\n",
              "      <td>0</td>\n",
              "      <td>0</td>\n",
              "      <td>0</td>\n",
              "      <td>214.476106</td>\n",
              "      <td>12.429216</td>\n",
              "    </tr>\n",
              "    <tr>\n",
              "      <th>4</th>\n",
              "      <td>450000</td>\n",
              "      <td>141000.0</td>\n",
              "      <td>8</td>\n",
              "      <td>1</td>\n",
              "      <td>0</td>\n",
              "      <td>0</td>\n",
              "      <td>0</td>\n",
              "      <td>1</td>\n",
              "      <td>0</td>\n",
              "      <td>1</td>\n",
              "      <td>0</td>\n",
              "      <td>1</td>\n",
              "      <td>0</td>\n",
              "      <td>0</td>\n",
              "      <td>375.499667</td>\n",
              "      <td>13.017003</td>\n",
              "    </tr>\n",
              "  </tbody>\n",
              "</table>\n",
              "</div>\n",
              "      <button class=\"colab-df-convert\" onclick=\"convertToInteractive('df-c7eb5b5a-41d2-4b43-91b6-f880f01610df')\"\n",
              "              title=\"Convert this dataframe to an interactive table.\"\n",
              "              style=\"display:none;\">\n",
              "        \n",
              "  <svg xmlns=\"http://www.w3.org/2000/svg\" height=\"24px\"viewBox=\"0 0 24 24\"\n",
              "       width=\"24px\">\n",
              "    <path d=\"M0 0h24v24H0V0z\" fill=\"none\"/>\n",
              "    <path d=\"M18.56 5.44l.94 2.06.94-2.06 2.06-.94-2.06-.94-.94-2.06-.94 2.06-2.06.94zm-11 1L8.5 8.5l.94-2.06 2.06-.94-2.06-.94L8.5 2.5l-.94 2.06-2.06.94zm10 10l.94 2.06.94-2.06 2.06-.94-2.06-.94-.94-2.06-.94 2.06-2.06.94z\"/><path d=\"M17.41 7.96l-1.37-1.37c-.4-.4-.92-.59-1.43-.59-.52 0-1.04.2-1.43.59L10.3 9.45l-7.72 7.72c-.78.78-.78 2.05 0 2.83L4 21.41c.39.39.9.59 1.41.59.51 0 1.02-.2 1.41-.59l7.78-7.78 2.81-2.81c.8-.78.8-2.07 0-2.86zM5.41 20L4 18.59l7.72-7.72 1.47 1.35L5.41 20z\"/>\n",
              "  </svg>\n",
              "      </button>\n",
              "      \n",
              "  <style>\n",
              "    .colab-df-container {\n",
              "      display:flex;\n",
              "      flex-wrap:wrap;\n",
              "      gap: 12px;\n",
              "    }\n",
              "\n",
              "    .colab-df-convert {\n",
              "      background-color: #E8F0FE;\n",
              "      border: none;\n",
              "      border-radius: 50%;\n",
              "      cursor: pointer;\n",
              "      display: none;\n",
              "      fill: #1967D2;\n",
              "      height: 32px;\n",
              "      padding: 0 0 0 0;\n",
              "      width: 32px;\n",
              "    }\n",
              "\n",
              "    .colab-df-convert:hover {\n",
              "      background-color: #E2EBFA;\n",
              "      box-shadow: 0px 1px 2px rgba(60, 64, 67, 0.3), 0px 1px 3px 1px rgba(60, 64, 67, 0.15);\n",
              "      fill: #174EA6;\n",
              "    }\n",
              "\n",
              "    [theme=dark] .colab-df-convert {\n",
              "      background-color: #3B4455;\n",
              "      fill: #D2E3FC;\n",
              "    }\n",
              "\n",
              "    [theme=dark] .colab-df-convert:hover {\n",
              "      background-color: #434B5C;\n",
              "      box-shadow: 0px 1px 3px 1px rgba(0, 0, 0, 0.15);\n",
              "      filter: drop-shadow(0px 1px 2px rgba(0, 0, 0, 0.3));\n",
              "      fill: #FFFFFF;\n",
              "    }\n",
              "  </style>\n",
              "\n",
              "      <script>\n",
              "        const buttonEl =\n",
              "          document.querySelector('#df-c7eb5b5a-41d2-4b43-91b6-f880f01610df button.colab-df-convert');\n",
              "        buttonEl.style.display =\n",
              "          google.colab.kernel.accessAllowed ? 'block' : 'none';\n",
              "\n",
              "        async function convertToInteractive(key) {\n",
              "          const element = document.querySelector('#df-c7eb5b5a-41d2-4b43-91b6-f880f01610df');\n",
              "          const dataTable =\n",
              "            await google.colab.kernel.invokeFunction('convertToInteractive',\n",
              "                                                     [key], {});\n",
              "          if (!dataTable) return;\n",
              "\n",
              "          const docLinkHtml = 'Like what you see? Visit the ' +\n",
              "            '<a target=\"_blank\" href=https://colab.research.google.com/notebooks/data_table.ipynb>data table notebook</a>'\n",
              "            + ' to learn more about interactive tables.';\n",
              "          element.innerHTML = '';\n",
              "          dataTable['output_type'] = 'display_data';\n",
              "          await google.colab.output.renderOutput(dataTable, element);\n",
              "          const docLink = document.createElement('div');\n",
              "          docLink.innerHTML = docLinkHtml;\n",
              "          element.appendChild(docLink);\n",
              "        }\n",
              "      </script>\n",
              "    </div>\n",
              "  </div>\n",
              "  "
            ]
          },
          "metadata": {},
          "execution_count": 38
        }
      ],
      "source": [
        "df1.head()"
      ]
    },
    {
      "cell_type": "code",
      "execution_count": null,
      "metadata": {
        "id": "CETuzHHbtVLE"
      },
      "outputs": [],
      "source": [
        "#dropping un_necessary colmns\n",
        "df1.drop(['selling_price','km_driven'], axis=1, inplace=True)"
      ]
    },
    {
      "cell_type": "code",
      "execution_count": null,
      "metadata": {
        "colab": {
          "base_uri": "https://localhost:8080/"
        },
        "id": "NoD-cf8PUflp",
        "outputId": "51b9521d-12e6-411c-d079-f9ff37c792df"
      },
      "outputs": [
        {
          "output_type": "execute_result",
          "data": {
            "text/plain": [
              "Index(['Year_old', 'fuel_Diesel', 'fuel_Electric', 'fuel_LPG', 'fuel_Petrol',\n",
              "       'seller_type_Individual', 'seller_type_Trustmark Dealer',\n",
              "       'transmission_Manual', 'owner_Fourth & Above Owner',\n",
              "       'owner_Second Owner', 'owner_Test Drive Car', 'owner_Third Owner',\n",
              "       'km_driven_sqrt', 'selling_price_lg'],\n",
              "      dtype='object')"
            ]
          },
          "metadata": {},
          "execution_count": 40
        }
      ],
      "source": [
        "df1.columns"
      ]
    },
    {
      "cell_type": "markdown",
      "metadata": {
        "id": "0-5D5IiPVWUA"
      },
      "source": [
        "#### 2. Feature Selection"
      ]
    },
    {
      "cell_type": "code",
      "execution_count": null,
      "metadata": {
        "colab": {
          "base_uri": "https://localhost:8080/"
        },
        "id": "CmoHQ4gOMuxN",
        "outputId": "dca80e19-43c3-4b4e-888f-e30f9a495463"
      },
      "outputs": [
        {
          "output_type": "stream",
          "name": "stdout",
          "text": [
            "                         feature  importance\n",
            "0                       Year_old    0.554545\n",
            "12                km_driven_sqrt    0.163430\n",
            "7            transmission_Manual    0.126863\n",
            "1                    fuel_Diesel    0.080024\n",
            "5         seller_type_Individual    0.019546\n",
            "9             owner_Second Owner    0.017696\n",
            "4                    fuel_Petrol    0.017569\n",
            "11             owner_Third Owner    0.010034\n",
            "6   seller_type_Trustmark Dealer    0.005203\n",
            "8     owner_Fourth & Above Owner    0.004359\n",
            "3                       fuel_LPG    0.000467\n",
            "10          owner_Test Drive Car    0.000229\n",
            "2                  fuel_Electric    0.000034\n"
          ]
        }
      ],
      "source": [
        "\n",
        "from sklearn.ensemble import RandomForestRegressor\n",
        "\n",
        "# define your feature matrix X and target variable y\n",
        "X = df1.drop('selling_price_lg', axis=1)\n",
        "y = df1['selling_price_lg']\n",
        "\n",
        "# train a Random Forest regressor\n",
        "rf = RandomForestRegressor()\n",
        "rf.fit(X, y)\n",
        "\n",
        "# get feature importances and put them into a DataFrame\n",
        "importances = pd.DataFrame({'feature': X.columns, 'importance': rf.feature_importances_})\n",
        "\n",
        "# sort the DataFrame by importance (descending)\n",
        "importances = importances.sort_values('importance', ascending=False)\n",
        "\n",
        "# print the top 10 features by importance\n",
        "print(importances.head(16))\n"
      ]
    },
    {
      "cell_type": "code",
      "execution_count": null,
      "metadata": {
        "colab": {
          "base_uri": "https://localhost:8080/",
          "height": 418
        },
        "id": "RMUv2x4lUYpO",
        "outputId": "7bb6a44e-42f9-4ca5-da82-21b3e5069cc6"
      },
      "outputs": [
        {
          "output_type": "display_data",
          "data": {
            "text/plain": [
              "<Figure size 432x288 with 1 Axes>"
            ],
            "image/png": "[encoded data removed]"
          },
          "metadata": {
            "needs_background": "light"
          }
        }
      ],
      "source": [
        "import matplotlib.pyplot as plt\n",
        "\n",
        "# create a bar chart of feature importances\n",
        "plt.bar(importances['feature'], importances['importance'])\n",
        "plt.xticks(rotation=90)\n",
        "plt.ylabel('Importance')\n",
        "plt.xlabel('Feature')\n",
        "plt.show()\n"
      ]
    },
    {
      "cell_type": "code",
      "execution_count": null,
      "metadata": {
        "id": "Dqr-N7fcU2CC"
      },
      "outputs": [],
      "source": [
        "#removing un-necessary features\n",
        "df1.drop(['fuel_LPG', 'owner_Test Drive Car','fuel_Electric' ], axis=1, inplace=True)"
      ]
    },
    {
      "cell_type": "code",
      "execution_count": null,
      "metadata": {
        "colab": {
          "base_uri": "https://localhost:8080/"
        },
        "id": "f_X_eVmwWO2B",
        "outputId": "16afe9c3-aa03-4f66-e072-9cc1a9fb395a"
      },
      "outputs": [
        {
          "output_type": "execute_result",
          "data": {
            "text/plain": [
              "Index(['Year_old', 'fuel_Diesel', 'fuel_Petrol', 'seller_type_Individual',\n",
              "       'seller_type_Trustmark Dealer', 'transmission_Manual',\n",
              "       'owner_Fourth & Above Owner', 'owner_Second Owner', 'owner_Third Owner',\n",
              "       'km_driven_sqrt', 'selling_price_lg'],\n",
              "      dtype='object')"
            ]
          },
          "metadata": {},
          "execution_count": 44
        }
      ],
      "source": [
        "df1.columns"
      ]
    },
    {
      "cell_type": "markdown",
      "metadata": {
        "id": "oHADttELXx9O"
      },
      "source": [
        "### 6. Data Scaling"
      ]
    },
    {
      "cell_type": "markdown",
      "metadata": {
        "id": "xQwpYQTPh93v"
      },
      "source": [
        "StandardScaler is a popular method for scaling numerical data, typically used in machine learning and data analysis. It transforms your data so that it has a mean of 0 and a standard deviation of 1.\n",
        "\n",
        "StandardScaler is a commonly used scaling method that scales the data to have zero mean and unit variance. This ensures that the features are on the same scale and have similar ranges. Scaling is generally considered a good practice in machine learning and data analysis, and is often a necessary step in the preprocessing pipeline"
      ]
    },
    {
      "cell_type": "code",
      "execution_count": null,
      "metadata": {
        "id": "yElGFGESX9TS"
      },
      "outputs": [],
      "source": [
        "#making copy\n",
        "df2=df1.copy()"
      ]
    },
    {
      "cell_type": "code",
      "execution_count": null,
      "metadata": {
        "id": "9-5oKCYdYE6P"
      },
      "outputs": [],
      "source": [
        "#importing libraray\n",
        "from sklearn.preprocessing import StandardScaler"
      ]
    },
    {
      "cell_type": "code",
      "execution_count": null,
      "metadata": {
        "id": "QKfm-rCbaWMy"
      },
      "outputs": [],
      "source": [
        "#convering data type\n",
        "df2['Year_old'] = df2['Year_old'].astype(float)"
      ]
    },
    {
      "cell_type": "code",
      "execution_count": null,
      "metadata": {
        "id": "MFR-mu2hYIq-"
      },
      "outputs": [],
      "source": [
        "# Scaling your data\n",
        "#applying standardScaler \n",
        "scaler = StandardScaler()\n",
        "df3 = scaler.fit_transform(df2)"
      ]
    },
    {
      "cell_type": "code",
      "execution_count": null,
      "metadata": {
        "id": "V4okfEs_g0N7"
      },
      "outputs": [],
      "source": [
        "#converting back to dataframe\n",
        "df3 = pd.DataFrame(df3, columns=df2.columns)"
      ]
    },
    {
      "cell_type": "code",
      "execution_count": null,
      "metadata": {
        "colab": {
          "base_uri": "https://localhost:8080/",
          "height": 305
        },
        "id": "9cYyXGGmgQYk",
        "outputId": "3b5a30a5-b105-48f7-e44d-7c10f11aecfc"
      },
      "outputs": [
        {
          "output_type": "execute_result",
          "data": {
            "text/plain": [
              "   Year_old  fuel_Diesel  fuel_Petrol  seller_type_Individual  \\\n",
              "0  1.445074    -0.992196     1.021899                0.581253   \n",
              "1  1.445074    -0.992196     1.021899                0.581253   \n",
              "2  0.258795     1.007865    -0.978571                0.581253   \n",
              "3 -0.927485    -0.992196     1.021899                0.581253   \n",
              "4 -0.215717     1.007865    -0.978571                0.581253   \n",
              "\n",
              "   seller_type_Trustmark Dealer  transmission_Manual  \\\n",
              "0                     -0.155139             0.339276   \n",
              "1                     -0.155139             0.339276   \n",
              "2                     -0.155139             0.339276   \n",
              "3                     -0.155139             0.339276   \n",
              "4                     -0.155139             0.339276   \n",
              "\n",
              "   owner_Fourth & Above Owner  owner_Second Owner  owner_Third Owner  \\\n",
              "0                   -0.137908           -0.584800          -0.274449   \n",
              "1                   -0.137908           -0.584800          -0.274449   \n",
              "2                   -0.137908           -0.584800          -0.274449   \n",
              "3                   -0.137908           -0.584800          -0.274449   \n",
              "4                   -0.137908            1.709986          -0.274449   \n",
              "\n",
              "   km_driven_sqrt  selling_price_lg  \n",
              "0        0.310349         -2.099798  \n",
              "1       -0.196963         -1.133448  \n",
              "2        0.949966          0.644091  \n",
              "3       -0.310029         -0.399167  \n",
              "4        1.683932          0.301273  "
            ],
            "text/html": [
              "\n",
              "  <div id=\"df-261af8a4-a141-4345-9f14-ea93f2c6eda8\">\n",
              "    <div class=\"colab-df-container\">\n",
              "      <div>\n",
              "<style scoped>\n",
              "    .dataframe tbody tr th:only-of-type {\n",
              "        vertical-align: middle;\n",
              "    }\n",
              "\n",
              "    .dataframe tbody tr th {\n",
              "        vertical-align: top;\n",
              "    }\n",
              "\n",
              "    .dataframe thead th {\n",
              "        text-align: right;\n",
              "    }\n",
              "</style>\n",
              "<table border=\"1\" class=\"dataframe\">\n",
              "  <thead>\n",
              "    <tr style=\"text-align: right;\">\n",
              "      <th></th>\n",
              "      <th>Year_old</th>\n",
              "      <th>fuel_Diesel</th>\n",
              "      <th>fuel_Petrol</th>\n",
              "      <th>seller_type_Individual</th>\n",
              "      <th>seller_type_Trustmark Dealer</th>\n",
              "      <th>transmission_Manual</th>\n",
              "      <th>owner_Fourth &amp; Above Owner</th>\n",
              "      <th>owner_Second Owner</th>\n",
              "      <th>owner_Third Owner</th>\n",
              "      <th>km_driven_sqrt</th>\n",
              "      <th>selling_price_lg</th>\n",
              "    </tr>\n",
              "  </thead>\n",
              "  <tbody>\n",
              "    <tr>\n",
              "      <th>0</th>\n",
              "      <td>1.445074</td>\n",
              "      <td>-0.992196</td>\n",
              "      <td>1.021899</td>\n",
              "      <td>0.581253</td>\n",
              "      <td>-0.155139</td>\n",
              "      <td>0.339276</td>\n",
              "      <td>-0.137908</td>\n",
              "      <td>-0.584800</td>\n",
              "      <td>-0.274449</td>\n",
              "      <td>0.310349</td>\n",
              "      <td>-2.099798</td>\n",
              "    </tr>\n",
              "    <tr>\n",
              "      <th>1</th>\n",
              "      <td>1.445074</td>\n",
              "      <td>-0.992196</td>\n",
              "      <td>1.021899</td>\n",
              "      <td>0.581253</td>\n",
              "      <td>-0.155139</td>\n",
              "      <td>0.339276</td>\n",
              "      <td>-0.137908</td>\n",
              "      <td>-0.584800</td>\n",
              "      <td>-0.274449</td>\n",
              "      <td>-0.196963</td>\n",
              "      <td>-1.133448</td>\n",
              "    </tr>\n",
              "    <tr>\n",
              "      <th>2</th>\n",
              "      <td>0.258795</td>\n",
              "      <td>1.007865</td>\n",
              "      <td>-0.978571</td>\n",
              "      <td>0.581253</td>\n",
              "      <td>-0.155139</td>\n",
              "      <td>0.339276</td>\n",
              "      <td>-0.137908</td>\n",
              "      <td>-0.584800</td>\n",
              "      <td>-0.274449</td>\n",
              "      <td>0.949966</td>\n",
              "      <td>0.644091</td>\n",
              "    </tr>\n",
              "    <tr>\n",
              "      <th>3</th>\n",
              "      <td>-0.927485</td>\n",
              "      <td>-0.992196</td>\n",
              "      <td>1.021899</td>\n",
              "      <td>0.581253</td>\n",
              "      <td>-0.155139</td>\n",
              "      <td>0.339276</td>\n",
              "      <td>-0.137908</td>\n",
              "      <td>-0.584800</td>\n",
              "      <td>-0.274449</td>\n",
              "      <td>-0.310029</td>\n",
              "      <td>-0.399167</td>\n",
              "    </tr>\n",
              "    <tr>\n",
              "      <th>4</th>\n",
              "      <td>-0.215717</td>\n",
              "      <td>1.007865</td>\n",
              "      <td>-0.978571</td>\n",
              "      <td>0.581253</td>\n",
              "      <td>-0.155139</td>\n",
              "      <td>0.339276</td>\n",
              "      <td>-0.137908</td>\n",
              "      <td>1.709986</td>\n",
              "      <td>-0.274449</td>\n",
              "      <td>1.683932</td>\n",
              "      <td>0.301273</td>\n",
              "    </tr>\n",
              "  </tbody>\n",
              "</table>\n",
              "</div>\n",
              "      <button class=\"colab-df-convert\" onclick=\"convertToInteractive('df-261af8a4-a141-4345-9f14-ea93f2c6eda8')\"\n",
              "              title=\"Convert this dataframe to an interactive table.\"\n",
              "              style=\"display:none;\">\n",
              "        \n",
              "  <svg xmlns=\"http://www.w3.org/2000/svg\" height=\"24px\"viewBox=\"0 0 24 24\"\n",
              "       width=\"24px\">\n",
              "    <path d=\"M0 0h24v24H0V0z\" fill=\"none\"/>\n",
              "    <path d=\"M18.56 5.44l.94 2.06.94-2.06 2.06-.94-2.06-.94-.94-2.06-.94 2.06-2.06.94zm-11 1L8.5 8.5l.94-2.06 2.06-.94-2.06-.94L8.5 2.5l-.94 2.06-2.06.94zm10 10l.94 2.06.94-2.06 2.06-.94-2.06-.94-.94-2.06-.94 2.06-2.06.94z\"/><path d=\"M17.41 7.96l-1.37-1.37c-.4-.4-.92-.59-1.43-.59-.52 0-1.04.2-1.43.59L10.3 9.45l-7.72 7.72c-.78.78-.78 2.05 0 2.83L4 21.41c.39.39.9.59 1.41.59.51 0 1.02-.2 1.41-.59l7.78-7.78 2.81-2.81c.8-.78.8-2.07 0-2.86zM5.41 20L4 18.59l7.72-7.72 1.47 1.35L5.41 20z\"/>\n",
              "  </svg>\n",
              "      </button>\n",
              "      \n",
              "  <style>\n",
              "    .colab-df-container {\n",
              "      display:flex;\n",
              "      flex-wrap:wrap;\n",
              "      gap: 12px;\n",
              "    }\n",
              "\n",
              "    .colab-df-convert {\n",
              "      background-color: #E8F0FE;\n",
              "      border: none;\n",
              "      border-radius: 50%;\n",
              "      cursor: pointer;\n",
              "      display: none;\n",
              "      fill: #1967D2;\n",
              "      height: 32px;\n",
              "      padding: 0 0 0 0;\n",
              "      width: 32px;\n",
              "    }\n",
              "\n",
              "    .colab-df-convert:hover {\n",
              "      background-color: #E2EBFA;\n",
              "      box-shadow: 0px 1px 2px rgba(60, 64, 67, 0.3), 0px 1px 3px 1px rgba(60, 64, 67, 0.15);\n",
              "      fill: #174EA6;\n",
              "    }\n",
              "\n",
              "    [theme=dark] .colab-df-convert {\n",
              "      background-color: #3B4455;\n",
              "      fill: #D2E3FC;\n",
              "    }\n",
              "\n",
              "    [theme=dark] .colab-df-convert:hover {\n",
              "      background-color: #434B5C;\n",
              "      box-shadow: 0px 1px 3px 1px rgba(0, 0, 0, 0.15);\n",
              "      filter: drop-shadow(0px 1px 2px rgba(0, 0, 0, 0.3));\n",
              "      fill: #FFFFFF;\n",
              "    }\n",
              "  </style>\n",
              "\n",
              "      <script>\n",
              "        const buttonEl =\n",
              "          document.querySelector('#df-261af8a4-a141-4345-9f14-ea93f2c6eda8 button.colab-df-convert');\n",
              "        buttonEl.style.display =\n",
              "          google.colab.kernel.accessAllowed ? 'block' : 'none';\n",
              "\n",
              "        async function convertToInteractive(key) {\n",
              "          const element = document.querySelector('#df-261af8a4-a141-4345-9f14-ea93f2c6eda8');\n",
              "          const dataTable =\n",
              "            await google.colab.kernel.invokeFunction('convertToInteractive',\n",
              "                                                     [key], {});\n",
              "          if (!dataTable) return;\n",
              "\n",
              "          const docLinkHtml = 'Like what you see? Visit the ' +\n",
              "            '<a target=\"_blank\" href=https://colab.research.google.com/notebooks/data_table.ipynb>data table notebook</a>'\n",
              "            + ' to learn more about interactive tables.';\n",
              "          element.innerHTML = '';\n",
              "          dataTable['output_type'] = 'display_data';\n",
              "          await google.colab.output.renderOutput(dataTable, element);\n",
              "          const docLink = document.createElement('div');\n",
              "          docLink.innerHTML = docLinkHtml;\n",
              "          element.appendChild(docLink);\n",
              "        }\n",
              "      </script>\n",
              "    </div>\n",
              "  </div>\n",
              "  "
            ]
          },
          "metadata": {},
          "execution_count": 50
        }
      ],
      "source": [
        "df3.head()"
      ]
    },
    {
      "cell_type": "markdown",
      "metadata": {
        "id": "aKrZRyZBioWB"
      },
      "source": [
        "### 8. Data Splitting"
      ]
    },
    {
      "cell_type": "code",
      "source": [
        "import numpy as np\n",
        "import pandas as pd\n",
        "from numpy import math\n",
        "\n",
        "from sklearn.preprocessing import MinMaxScaler\n",
        "from sklearn.model_selection import train_test_split\n",
        "from sklearn.linear_model import LinearRegression\n",
        "from sklearn.metrics import r2_score\n",
        "from sklearn.metrics import mean_squared_error\n"
      ],
      "metadata": {
        "id": "H84IlC-Xw9_W"
      },
      "execution_count": null,
      "outputs": []
    },
    {
      "cell_type": "code",
      "execution_count": null,
      "metadata": {
        "id": "x6Rjicxri9eS"
      },
      "outputs": [],
      "source": [
        "# Split your data to train and test. Choose Splitting ratio wisely.\n",
        "x, y = df3.loc[:, df3.columns != 'selling_price_lg'], df3['selling_price_lg']"
      ]
    },
    {
      "cell_type": "code",
      "execution_count": null,
      "metadata": {
        "colab": {
          "base_uri": "https://localhost:8080/"
        },
        "id": "cW_XUONJuAqC",
        "outputId": "8cd2fd41-4ad8-494f-a9ec-8fe363d516c8"
      },
      "outputs": [
        {
          "output_type": "stream",
          "name": "stdout",
          "text": [
            "(3472, 10)\n",
            "(868, 10)\n"
          ]
        }
      ],
      "source": [
        "#importing library to split\n",
        "from sklearn.model_selection import train_test_split\n",
        "#dividing the data for training and testing\n",
        "x_train, x_test, y_train, y_test = train_test_split(x, y, test_size=0.20, random_state = 0)\n",
        "print(x_train.shape)\n",
        "print(x_test.shape)"
      ]
    },
    {
      "cell_type": "code",
      "source": [],
      "metadata": {
        "id": "cGMvE6B1iFNh"
      },
      "execution_count": null,
      "outputs": []
    },
    {
      "cell_type": "markdown",
      "metadata": {
        "id": "VfCC591jGiD4"
      },
      "source": [
        "## ***7. ML Model Implementation***"
      ]
    },
    {
      "cell_type": "code",
      "execution_count": null,
      "metadata": {
        "id": "h1DkwNEcdmkH"
      },
      "outputs": [],
      "source": [
        "# create a dataframe to store metrics related to models\n",
        "metrics_table = pd.DataFrame(columns=['Regression_Model', 'Train_R2', 'Test_R2', 'Train_RMSE', 'Test_RMSE', 'Train_RMSPE', 'Test_RMSPE'])"
      ]
    },
    {
      "cell_type": "code",
      "execution_count": null,
      "metadata": {
        "id": "kp-j2OO4d2Ez"
      },
      "outputs": [],
      "source": [
        "# define a function to calculate root mean squared percentage error\n",
        "# returns an array\n",
        "def calculate_rmspe(y, y_pred):\n",
        "  return (np.sqrt(np.mean(np.square(y.to_numpy() - y_pred))) / np.mean(y.to_numpy())) * 100"
      ]
    },
    {
      "cell_type": "code",
      "execution_count": null,
      "metadata": {
        "id": "bIhSdi45d4GT"
      },
      "outputs": [],
      "source": [
        "# define a function to calculate metrics\n",
        "# returns a dictionary\n",
        "def calculate_model_metrics(y_train, y_train_pred, y_test, y_test_pred):\n",
        "  metrics_dict = {}\n",
        "\n",
        "  metrics_dict['Train_R2'] = r2_score(y_train, y_train_pred)\n",
        "  metrics_dict['Test_R2'] = r2_score(y_test, y_test_pred)\n",
        "  metrics_dict['Train_RMSE'] = mean_squared_error(y_train, y_train_pred, squared=False)\n",
        "  metrics_dict['Test_RMSE'] = mean_squared_error(y_test, y_test_pred, squared=False)\n",
        "  metrics_dict['Train_RMSPE'] = calculate_rmspe(y_train, y_train_pred)\n",
        "  metrics_dict['Test_RMSPE'] = calculate_rmspe(y_test, y_test_pred)\n",
        "\n",
        "  return metrics_dict"
      ]
    },
    {
      "cell_type": "markdown",
      "metadata": {
        "id": "OB4l2ZhMeS1U"
      },
      "source": [
        "### ML Model - 1 Linear Regression"
      ]
    },
    {
      "cell_type": "code",
      "execution_count": null,
      "metadata": {
        "id": "7ebyywQieS1U"
      },
      "outputs": [],
      "source": [
        "# ML Model - 1 Implementation\n",
        "# Fit the Algorithm\n",
        "# Predict on the model"
      ]
    },
    {
      "cell_type": "code",
      "execution_count": null,
      "metadata": {
        "colab": {
          "base_uri": "https://localhost:8080/",
          "height": 75
        },
        "id": "mSt7I_6J_izA",
        "outputId": "d67c5747-eee1-4fc7-e738-74f2d0bd96f5"
      },
      "outputs": [
        {
          "output_type": "execute_result",
          "data": {
            "text/plain": [
              "LinearRegression()"
            ],
            "text/html": [
              "<style>#sk-container-id-1 {color: black;background-color: white;}#sk-container-id-1 pre{padding: 0;}#sk-container-id-1 div.sk-toggleable {background-color: white;}#sk-container-id-1 label.sk-toggleable__label {cursor: pointer;display: block;width: 100%;margin-bottom: 0;padding: 0.3em;box-sizing: border-box;text-align: center;}#sk-container-id-1 label.sk-toggleable__label-arrow:before {content: \"▸\";float: left;margin-right: 0.25em;color: #696969;}#sk-container-id-1 label.sk-toggleable__label-arrow:hover:before {color: black;}#sk-container-id-1 div.sk-estimator:hover label.sk-toggleable__label-arrow:before {color: black;}#sk-container-id-1 div.sk-toggleable__content {max-height: 0;max-width: 0;overflow: hidden;text-align: left;background-color: #f0f8ff;}#sk-container-id-1 div.sk-toggleable__content pre {margin: 0.2em;color: black;border-radius: 0.25em;background-color: #f0f8ff;}#sk-container-id-1 input.sk-toggleable__control:checked~div.sk-toggleable__content {max-height: 200px;max-width: 100%;overflow: auto;}#sk-container-id-1 input.sk-toggleable__control:checked~label.sk-toggleable__label-arrow:before {content: \"▾\";}#sk-container-id-1 div.sk-estimator input.sk-toggleable__control:checked~label.sk-toggleable__label {background-color: #d4ebff;}#sk-container-id-1 div.sk-label input.sk-toggleable__control:checked~label.sk-toggleable__label {background-color: #d4ebff;}#sk-container-id-1 input.sk-hidden--visually {border: 0;clip: rect(1px 1px 1px 1px);clip: rect(1px, 1px, 1px, 1px);height: 1px;margin: -1px;overflow: hidden;padding: 0;position: absolute;width: 1px;}#sk-container-id-1 div.sk-estimator {font-family: monospace;background-color: #f0f8ff;border: 1px dotted black;border-radius: 0.25em;box-sizing: border-box;margin-bottom: 0.5em;}#sk-container-id-1 div.sk-estimator:hover {background-color: #d4ebff;}#sk-container-id-1 div.sk-parallel-item::after {content: \"\";width: 100%;border-bottom: 1px solid gray;flex-grow: 1;}#sk-container-id-1 div.sk-label:hover label.sk-toggleable__label {background-color: #d4ebff;}#sk-container-id-1 div.sk-serial::before {content: \"\";position: absolute;border-left: 1px solid gray;box-sizing: border-box;top: 0;bottom: 0;left: 50%;z-index: 0;}#sk-container-id-1 div.sk-serial {display: flex;flex-direction: column;align-items: center;background-color: white;padding-right: 0.2em;padding-left: 0.2em;position: relative;}#sk-container-id-1 div.sk-item {position: relative;z-index: 1;}#sk-container-id-1 div.sk-parallel {display: flex;align-items: stretch;justify-content: center;background-color: white;position: relative;}#sk-container-id-1 div.sk-item::before, #sk-container-id-1 div.sk-parallel-item::before {content: \"\";position: absolute;border-left: 1px solid gray;box-sizing: border-box;top: 0;bottom: 0;left: 50%;z-index: -1;}#sk-container-id-1 div.sk-parallel-item {display: flex;flex-direction: column;z-index: 1;position: relative;background-color: white;}#sk-container-id-1 div.sk-parallel-item:first-child::after {align-self: flex-end;width: 50%;}#sk-container-id-1 div.sk-parallel-item:last-child::after {align-self: flex-start;width: 50%;}#sk-container-id-1 div.sk-parallel-item:only-child::after {width: 0;}#sk-container-id-1 div.sk-dashed-wrapped {border: 1px dashed gray;margin: 0 0.4em 0.5em 0.4em;box-sizing: border-box;padding-bottom: 0.4em;background-color: white;}#sk-container-id-1 div.sk-label label {font-family: monospace;font-weight: bold;display: inline-block;line-height: 1.2em;}#sk-container-id-1 div.sk-label-container {text-align: center;}#sk-container-id-1 div.sk-container {/* jupyter's `normalize.less` sets `[hidden] { display: none; }` but bootstrap.min.css set `[hidden] { display: none !important; }` so we also need the `!important` here to be able to override the default hidden behavior on the sphinx rendered scikit-learn.org. See: https://github.com/scikit-learn/scikit-learn/issues/21755 */display: inline-block !important;position: relative;}#sk-container-id-1 div.sk-text-repr-fallback {display: none;}</style><div id=\"sk-container-id-1\" class=\"sk-top-container\"><div class=\"sk-text-repr-fallback\"><pre>LinearRegression()</pre><b>In a Jupyter environment, please rerun this cell to show the HTML representation or trust the notebook. <br />On GitHub, the HTML representation is unable to render, please try loading this page with nbviewer.org.</b></div><div class=\"sk-container\" hidden><div class=\"sk-item\"><div class=\"sk-estimator sk-toggleable\"><input class=\"sk-toggleable__control sk-hidden--visually\" id=\"sk-estimator-id-1\" type=\"checkbox\" checked><label for=\"sk-estimator-id-1\" class=\"sk-toggleable__label sk-toggleable__label-arrow\">LinearRegression</label><div class=\"sk-toggleable__content\"><pre>LinearRegression()</pre></div></div></div></div></div>"
            ]
          },
          "metadata": {},
          "execution_count": 61
        }
      ],
      "source": [
        "from sklearn.linear_model import LinearRegression\n",
        "regression_model = LinearRegression()\n",
        "regression_model.fit(x_train, y_train)\n"
      ]
    },
    {
      "cell_type": "code",
      "execution_count": null,
      "metadata": {
        "colab": {
          "base_uri": "https://localhost:8080/"
        },
        "id": "bcuFdqH6CJ1Q",
        "outputId": "71c164c5-2a8b-44e5-cc3f-34d9ec03a811"
      },
      "outputs": [
        {
          "output_type": "execute_result",
          "data": {
            "text/plain": [
              "0.6906268884194776"
            ]
          },
          "metadata": {},
          "execution_count": 63
        }
      ],
      "source": [
        "regression_model.score(x_test, y_test)"
      ]
    },
    {
      "cell_type": "code",
      "execution_count": null,
      "metadata": {
        "id": "T4kldYVascK3"
      },
      "outputs": [],
      "source": [
        "#checking prediction\n",
        "y_train_pred = regression_model.predict(x_train)\n",
        "y_test_pred = regression_model.predict(x_test)"
      ]
    },
    {
      "cell_type": "code",
      "execution_count": null,
      "metadata": {
        "id": "eaeQJeAgeL-W"
      },
      "outputs": [],
      "source": [
        "#calculating for model metrics\n",
        "model_evaluation = calculate_model_metrics(y_train, y_train_pred, y_test, y_test_pred)"
      ]
    },
    {
      "cell_type": "code",
      "execution_count": null,
      "metadata": {
        "id": "vScWpS32ePdF"
      },
      "outputs": [],
      "source": [
        "#storing data in metric tables\n",
        "metrics_table.loc[len(metrics_table.index)] = ['Linear', model_evaluation['Train_R2'], model_evaluation['Test_R2'], \n",
        "                                                         model_evaluation['Train_RMSE'], model_evaluation['Test_RMSE'], \n",
        "                                                         model_evaluation['Train_RMSPE'], model_evaluation['Test_RMSPE']]"
      ]
    },
    {
      "cell_type": "markdown",
      "metadata": {
        "id": "ArJBuiUVfxKd"
      },
      "source": [
        "#### 1. Explain the ML Model used and it's performance using Evaluation metric Score Chart."
      ]
    },
    {
      "cell_type": "markdown",
      "metadata": {
        "id": "iGrWcAk3CRIK"
      },
      "source": [
        "We have used Linear Regression as our first model, Linear Regression is a machine learning algorithm based on supervised learning. It performs a regression task. Regression models a target prediction value based on independent variables. It is mostly used for finding out the relationship between variables and forecasting."
      ]
    },
    {
      "cell_type": "code",
      "execution_count": null,
      "metadata": {
        "colab": {
          "base_uri": "https://localhost:8080/",
          "height": 81
        },
        "id": "wQ6v-f0sKMUu",
        "outputId": "9f5433aa-d266-4acd-cb02-b16e79d8eead"
      },
      "outputs": [
        {
          "output_type": "execute_result",
          "data": {
            "text/plain": [
              "  Regression_Model  Train_R2   Test_R2  Train_RMSE  Test_RMSE  Train_RMSPE  \\\n",
              "0           Linear  0.685865  0.690627    0.557798   0.566387 -7078.509734   \n",
              "\n",
              "   Test_RMSPE  \n",
              "0  1796.87532  "
            ],
            "text/html": [
              "\n",
              "  <div id=\"df-0ea64468-9687-432f-9820-171ed0860b32\">\n",
              "    <div class=\"colab-df-container\">\n",
              "      <div>\n",
              "<style scoped>\n",
              "    .dataframe tbody tr th:only-of-type {\n",
              "        vertical-align: middle;\n",
              "    }\n",
              "\n",
              "    .dataframe tbody tr th {\n",
              "        vertical-align: top;\n",
              "    }\n",
              "\n",
              "    .dataframe thead th {\n",
              "        text-align: right;\n",
              "    }\n",
              "</style>\n",
              "<table border=\"1\" class=\"dataframe\">\n",
              "  <thead>\n",
              "    <tr style=\"text-align: right;\">\n",
              "      <th></th>\n",
              "      <th>Regression_Model</th>\n",
              "      <th>Train_R2</th>\n",
              "      <th>Test_R2</th>\n",
              "      <th>Train_RMSE</th>\n",
              "      <th>Test_RMSE</th>\n",
              "      <th>Train_RMSPE</th>\n",
              "      <th>Test_RMSPE</th>\n",
              "    </tr>\n",
              "  </thead>\n",
              "  <tbody>\n",
              "    <tr>\n",
              "      <th>0</th>\n",
              "      <td>Linear</td>\n",
              "      <td>0.685865</td>\n",
              "      <td>0.690627</td>\n",
              "      <td>0.557798</td>\n",
              "      <td>0.566387</td>\n",
              "      <td>-7078.509734</td>\n",
              "      <td>1796.87532</td>\n",
              "    </tr>\n",
              "  </tbody>\n",
              "</table>\n",
              "</div>\n",
              "      <button class=\"colab-df-convert\" onclick=\"convertToInteractive('df-0ea64468-9687-432f-9820-171ed0860b32')\"\n",
              "              title=\"Convert this dataframe to an interactive table.\"\n",
              "              style=\"display:none;\">\n",
              "        \n",
              "  <svg xmlns=\"http://www.w3.org/2000/svg\" height=\"24px\"viewBox=\"0 0 24 24\"\n",
              "       width=\"24px\">\n",
              "    <path d=\"M0 0h24v24H0V0z\" fill=\"none\"/>\n",
              "    <path d=\"M18.56 5.44l.94 2.06.94-2.06 2.06-.94-2.06-.94-.94-2.06-.94 2.06-2.06.94zm-11 1L8.5 8.5l.94-2.06 2.06-.94-2.06-.94L8.5 2.5l-.94 2.06-2.06.94zm10 10l.94 2.06.94-2.06 2.06-.94-2.06-.94-.94-2.06-.94 2.06-2.06.94z\"/><path d=\"M17.41 7.96l-1.37-1.37c-.4-.4-.92-.59-1.43-.59-.52 0-1.04.2-1.43.59L10.3 9.45l-7.72 7.72c-.78.78-.78 2.05 0 2.83L4 21.41c.39.39.9.59 1.41.59.51 0 1.02-.2 1.41-.59l7.78-7.78 2.81-2.81c.8-.78.8-2.07 0-2.86zM5.41 20L4 18.59l7.72-7.72 1.47 1.35L5.41 20z\"/>\n",
              "  </svg>\n",
              "      </button>\n",
              "      \n",
              "  <style>\n",
              "    .colab-df-container {\n",
              "      display:flex;\n",
              "      flex-wrap:wrap;\n",
              "      gap: 12px;\n",
              "    }\n",
              "\n",
              "    .colab-df-convert {\n",
              "      background-color: #E8F0FE;\n",
              "      border: none;\n",
              "      border-radius: 50%;\n",
              "      cursor: pointer;\n",
              "      display: none;\n",
              "      fill: #1967D2;\n",
              "      height: 32px;\n",
              "      padding: 0 0 0 0;\n",
              "      width: 32px;\n",
              "    }\n",
              "\n",
              "    .colab-df-convert:hover {\n",
              "      background-color: #E2EBFA;\n",
              "      box-shadow: 0px 1px 2px rgba(60, 64, 67, 0.3), 0px 1px 3px 1px rgba(60, 64, 67, 0.15);\n",
              "      fill: #174EA6;\n",
              "    }\n",
              "\n",
              "    [theme=dark] .colab-df-convert {\n",
              "      background-color: #3B4455;\n",
              "      fill: #D2E3FC;\n",
              "    }\n",
              "\n",
              "    [theme=dark] .colab-df-convert:hover {\n",
              "      background-color: #434B5C;\n",
              "      box-shadow: 0px 1px 3px 1px rgba(0, 0, 0, 0.15);\n",
              "      filter: drop-shadow(0px 1px 2px rgba(0, 0, 0, 0.3));\n",
              "      fill: #FFFFFF;\n",
              "    }\n",
              "  </style>\n",
              "\n",
              "      <script>\n",
              "        const buttonEl =\n",
              "          document.querySelector('#df-0ea64468-9687-432f-9820-171ed0860b32 button.colab-df-convert');\n",
              "        buttonEl.style.display =\n",
              "          google.colab.kernel.accessAllowed ? 'block' : 'none';\n",
              "\n",
              "        async function convertToInteractive(key) {\n",
              "          const element = document.querySelector('#df-0ea64468-9687-432f-9820-171ed0860b32');\n",
              "          const dataTable =\n",
              "            await google.colab.kernel.invokeFunction('convertToInteractive',\n",
              "                                                     [key], {});\n",
              "          if (!dataTable) return;\n",
              "\n",
              "          const docLinkHtml = 'Like what you see? Visit the ' +\n",
              "            '<a target=\"_blank\" href=https://colab.research.google.com/notebooks/data_table.ipynb>data table notebook</a>'\n",
              "            + ' to learn more about interactive tables.';\n",
              "          element.innerHTML = '';\n",
              "          dataTable['output_type'] = 'display_data';\n",
              "          await google.colab.output.renderOutput(dataTable, element);\n",
              "          const docLink = document.createElement('div');\n",
              "          docLink.innerHTML = docLinkHtml;\n",
              "          element.appendChild(docLink);\n",
              "        }\n",
              "      </script>\n",
              "    </div>\n",
              "  </div>\n",
              "  "
            ]
          },
          "metadata": {},
          "execution_count": 69
        }
      ],
      "source": [
        "metrics_table"
      ]
    },
    {
      "cell_type": "markdown",
      "metadata": {
        "id": "4qY1EAkEfxKe"
      },
      "source": [
        "#### 2. Cross- Validation & Hyperparameter Tuning"
      ]
    },
    {
      "cell_type": "code",
      "execution_count": null,
      "metadata": {
        "colab": {
          "base_uri": "https://localhost:8080/"
        },
        "id": "Dy61ujd6fxKe",
        "outputId": "86b45a2d-8c4e-4dce-b48e-7a3ebb3d0ca0"
      },
      "outputs": [
        {
          "output_type": "stream",
          "name": "stdout",
          "text": [
            "0.6825852038525492\n",
            "0.6827589422140068\n",
            "0.6818860910800402\n"
          ]
        }
      ],
      "source": [
        "# ML Model - 1 Implementation with hyperparameter optimization techniques (i.e., GridSearch CV, RandomSearch CV, Bayesian Optimization etc.)\n",
        "# Fit the Algorithm\n",
        "# Predict on the model\n",
        "\n",
        "# cross validation using k fold technique\n",
        "from sklearn.model_selection import cross_val_score\n",
        "for i in [3,5,10]:\n",
        "  score = cross_val_score(LinearRegression(), x_train, y_train,cv=i)\n",
        "  print(np.average(score))\n"
      ]
    },
    {
      "cell_type": "code",
      "execution_count": null,
      "metadata": {
        "colab": {
          "base_uri": "https://localhost:8080/"
        },
        "id": "zNR0MN_VCp39",
        "outputId": "f3840be8-0150-4764-c6ab-7431b6bef788"
      },
      "outputs": [
        {
          "output_type": "execute_result",
          "data": {
            "text/plain": [
              "1.0"
            ]
          },
          "metadata": {},
          "execution_count": 72
        }
      ],
      "source": [
        "#hyper parameter tuning using RandomizedSearchCV\n",
        "from sklearn.model_selection import RandomizedSearchCV\n",
        "from scipy.stats import randint\n",
        "\n",
        "lr = LinearRegression()\n",
        "\n",
        "param_distributions = {\"fit_intercept\": [True, False],\n",
        "                        \"copy_X\": [True, False],\n",
        "                       \"positive\": [True, False]}\n",
        "search = RandomizedSearchCV(lr, param_distributions).fit(X, y)\n",
        "search.best_score_ "
      ]
    },
    {
      "cell_type": "code",
      "execution_count": null,
      "metadata": {
        "id": "HbPjmGVZYE5f"
      },
      "outputs": [],
      "source": [
        "c=search.best_params_"
      ]
    },
    {
      "cell_type": "markdown",
      "metadata": {
        "id": "PiV4Ypx8fxKe"
      },
      "source": [
        "##### Which hyperparameter optimization technique have you used and why?"
      ]
    },
    {
      "cell_type": "markdown",
      "metadata": {
        "id": "negyGRa7fxKf"
      },
      "source": [
        "Over here we have used **RandomizedSearchCV** hyperparameter optimization technique , the reason for using this technique is that In order to train and score the model, Random Search creates a grid of hyperparameter values and chooses random combinations. As a result, we are able to specifically regulate the quantity of parameter combinations that are tried. Based on available time or resources, the number of search iterations is decided."
      ]
    },
    {
      "cell_type": "markdown",
      "metadata": {
        "id": "TfvqoZmBfxKf"
      },
      "source": [
        "##### Have you seen any improvement? Note down the improvement with updates Evaluation metric Score Chart."
      ]
    },
    {
      "cell_type": "markdown",
      "metadata": {
        "id": "OaLui8CcfxKf"
      },
      "source": [
        "We have seen slight fall in the accuracy of the model by using the hyperparameter tuning. "
      ]
    },
    {
      "cell_type": "markdown",
      "metadata": {
        "id": "dJ2tPlVmpsJ0"
      },
      "source": [
        "###ML Model - 2 Decision Tree Regressor\n"
      ]
    },
    {
      "cell_type": "markdown",
      "metadata": {
        "id": "JWYfwnehpsJ1"
      },
      "source": [
        "#### 1. Explain the ML Model used and it's performance using Evaluation metric Score Chart."
      ]
    },
    {
      "cell_type": "code",
      "execution_count": null,
      "metadata": {
        "id": "yEl-hgQWpsJ1",
        "colab": {
          "base_uri": "https://localhost:8080/",
          "height": 75
        },
        "outputId": "ff757d86-16c1-4d2f-a30b-0052781a31cf"
      },
      "outputs": [
        {
          "output_type": "execute_result",
          "data": {
            "text/plain": [
              "DecisionTreeRegressor()"
            ],
            "text/html": [
              "<style>#sk-container-id-2 {color: black;background-color: white;}#sk-container-id-2 pre{padding: 0;}#sk-container-id-2 div.sk-toggleable {background-color: white;}#sk-container-id-2 label.sk-toggleable__label {cursor: pointer;display: block;width: 100%;margin-bottom: 0;padding: 0.3em;box-sizing: border-box;text-align: center;}#sk-container-id-2 label.sk-toggleable__label-arrow:before {content: \"▸\";float: left;margin-right: 0.25em;color: #696969;}#sk-container-id-2 label.sk-toggleable__label-arrow:hover:before {color: black;}#sk-container-id-2 div.sk-estimator:hover label.sk-toggleable__label-arrow:before {color: black;}#sk-container-id-2 div.sk-toggleable__content {max-height: 0;max-width: 0;overflow: hidden;text-align: left;background-color: #f0f8ff;}#sk-container-id-2 div.sk-toggleable__content pre {margin: 0.2em;color: black;border-radius: 0.25em;background-color: #f0f8ff;}#sk-container-id-2 input.sk-toggleable__control:checked~div.sk-toggleable__content {max-height: 200px;max-width: 100%;overflow: auto;}#sk-container-id-2 input.sk-toggleable__control:checked~label.sk-toggleable__label-arrow:before {content: \"▾\";}#sk-container-id-2 div.sk-estimator input.sk-toggleable__control:checked~label.sk-toggleable__label {background-color: #d4ebff;}#sk-container-id-2 div.sk-label input.sk-toggleable__control:checked~label.sk-toggleable__label {background-color: #d4ebff;}#sk-container-id-2 input.sk-hidden--visually {border: 0;clip: rect(1px 1px 1px 1px);clip: rect(1px, 1px, 1px, 1px);height: 1px;margin: -1px;overflow: hidden;padding: 0;position: absolute;width: 1px;}#sk-container-id-2 div.sk-estimator {font-family: monospace;background-color: #f0f8ff;border: 1px dotted black;border-radius: 0.25em;box-sizing: border-box;margin-bottom: 0.5em;}#sk-container-id-2 div.sk-estimator:hover {background-color: #d4ebff;}#sk-container-id-2 div.sk-parallel-item::after {content: \"\";width: 100%;border-bottom: 1px solid gray;flex-grow: 1;}#sk-container-id-2 div.sk-label:hover label.sk-toggleable__label {background-color: #d4ebff;}#sk-container-id-2 div.sk-serial::before {content: \"\";position: absolute;border-left: 1px solid gray;box-sizing: border-box;top: 0;bottom: 0;left: 50%;z-index: 0;}#sk-container-id-2 div.sk-serial {display: flex;flex-direction: column;align-items: center;background-color: white;padding-right: 0.2em;padding-left: 0.2em;position: relative;}#sk-container-id-2 div.sk-item {position: relative;z-index: 1;}#sk-container-id-2 div.sk-parallel {display: flex;align-items: stretch;justify-content: center;background-color: white;position: relative;}#sk-container-id-2 div.sk-item::before, #sk-container-id-2 div.sk-parallel-item::before {content: \"\";position: absolute;border-left: 1px solid gray;box-sizing: border-box;top: 0;bottom: 0;left: 50%;z-index: -1;}#sk-container-id-2 div.sk-parallel-item {display: flex;flex-direction: column;z-index: 1;position: relative;background-color: white;}#sk-container-id-2 div.sk-parallel-item:first-child::after {align-self: flex-end;width: 50%;}#sk-container-id-2 div.sk-parallel-item:last-child::after {align-self: flex-start;width: 50%;}#sk-container-id-2 div.sk-parallel-item:only-child::after {width: 0;}#sk-container-id-2 div.sk-dashed-wrapped {border: 1px dashed gray;margin: 0 0.4em 0.5em 0.4em;box-sizing: border-box;padding-bottom: 0.4em;background-color: white;}#sk-container-id-2 div.sk-label label {font-family: monospace;font-weight: bold;display: inline-block;line-height: 1.2em;}#sk-container-id-2 div.sk-label-container {text-align: center;}#sk-container-id-2 div.sk-container {/* jupyter's `normalize.less` sets `[hidden] { display: none; }` but bootstrap.min.css set `[hidden] { display: none !important; }` so we also need the `!important` here to be able to override the default hidden behavior on the sphinx rendered scikit-learn.org. See: https://github.com/scikit-learn/scikit-learn/issues/21755 */display: inline-block !important;position: relative;}#sk-container-id-2 div.sk-text-repr-fallback {display: none;}</style><div id=\"sk-container-id-2\" class=\"sk-top-container\"><div class=\"sk-text-repr-fallback\"><pre>DecisionTreeRegressor()</pre><b>In a Jupyter environment, please rerun this cell to show the HTML representation or trust the notebook. <br />On GitHub, the HTML representation is unable to render, please try loading this page with nbviewer.org.</b></div><div class=\"sk-container\" hidden><div class=\"sk-item\"><div class=\"sk-estimator sk-toggleable\"><input class=\"sk-toggleable__control sk-hidden--visually\" id=\"sk-estimator-id-2\" type=\"checkbox\" checked><label for=\"sk-estimator-id-2\" class=\"sk-toggleable__label sk-toggleable__label-arrow\">DecisionTreeRegressor</label><div class=\"sk-toggleable__content\"><pre>DecisionTreeRegressor()</pre></div></div></div></div></div>"
            ]
          },
          "metadata": {},
          "execution_count": 75
        }
      ],
      "source": [
        "from sklearn.tree import DecisionTreeRegressor\n",
        "decision_tree_model = DecisionTreeRegressor()\n",
        "decision_tree_model.fit(x_train, y_train)"
      ]
    },
    {
      "cell_type": "code",
      "execution_count": null,
      "metadata": {
        "id": "I_gGJblmEsDW",
        "colab": {
          "base_uri": "https://localhost:8080/"
        },
        "outputId": "4d19800b-5925-4cb9-98e3-73831e1576d1"
      },
      "outputs": [
        {
          "output_type": "execute_result",
          "data": {
            "text/plain": [
              "0.6380546693500521"
            ]
          },
          "metadata": {},
          "execution_count": 76
        }
      ],
      "source": [
        "decision_tree_model.score(x_test, y_test)"
      ]
    },
    {
      "cell_type": "code",
      "execution_count": null,
      "metadata": {
        "id": "OMEtfwWEgLH7"
      },
      "outputs": [],
      "source": [
        "# predict the train and test data\n",
        "y_train_pred = decision_tree_model.predict(x_train)\n",
        "y_test_pred = decision_tree_model.predict(x_test)"
      ]
    },
    {
      "cell_type": "code",
      "execution_count": null,
      "metadata": {
        "id": "7KlOPLI-gS4V"
      },
      "outputs": [],
      "source": [
        "model_evaluation = calculate_model_metrics(y_train, y_train_pred, y_test, y_test_pred)\n",
        "\n",
        "metrics_table.loc[len(metrics_table.index)] = ['Decision Tree', model_evaluation['Train_R2'], model_evaluation['Test_R2'], \n",
        "                                                         model_evaluation['Train_RMSE'], model_evaluation['Test_RMSE'], \n",
        "                                                         model_evaluation['Train_RMSPE'], model_evaluation['Test_RMSPE']]"
      ]
    },
    {
      "cell_type": "markdown",
      "metadata": {
        "id": "88y50_SSFR6Y"
      },
      "source": [
        "Over here we have used Decision tree regressor, Decision tree regression observes features of an object and trains a model in the structure of a tree to predict data in the future to produce meaningful continuous output. Continuous output means that the output/result is not discrete, i.e., it is not represented just by a discrete, known set of numbers or values."
      ]
    },
    {
      "cell_type": "code",
      "execution_count": null,
      "metadata": {
        "id": "E_nvtWKEKg6A",
        "colab": {
          "base_uri": "https://localhost:8080/",
          "height": 81
        },
        "outputId": "8d97fd09-2cce-44bf-eb8c-1a5f87ee0958"
      },
      "outputs": [
        {
          "output_type": "execute_result",
          "data": {
            "text/plain": [
              "  Regression_Model  Train_R2   Test_R2  Train_RMSE  Test_RMSE  Train_RMSPE  \\\n",
              "1    Decision Tree  0.916867  0.638055     0.28695   0.612623 -3641.420003   \n",
              "\n",
              "    Test_RMSPE  \n",
              "1  1943.560885  "
            ],
            "text/html": [
              "\n",
              "  <div id=\"df-5ea974a3-bbe1-47e1-a876-28e5eda1a138\">\n",
              "    <div class=\"colab-df-container\">\n",
              "      <div>\n",
              "<style scoped>\n",
              "    .dataframe tbody tr th:only-of-type {\n",
              "        vertical-align: middle;\n",
              "    }\n",
              "\n",
              "    .dataframe tbody tr th {\n",
              "        vertical-align: top;\n",
              "    }\n",
              "\n",
              "    .dataframe thead th {\n",
              "        text-align: right;\n",
              "    }\n",
              "</style>\n",
              "<table border=\"1\" class=\"dataframe\">\n",
              "  <thead>\n",
              "    <tr style=\"text-align: right;\">\n",
              "      <th></th>\n",
              "      <th>Regression_Model</th>\n",
              "      <th>Train_R2</th>\n",
              "      <th>Test_R2</th>\n",
              "      <th>Train_RMSE</th>\n",
              "      <th>Test_RMSE</th>\n",
              "      <th>Train_RMSPE</th>\n",
              "      <th>Test_RMSPE</th>\n",
              "    </tr>\n",
              "  </thead>\n",
              "  <tbody>\n",
              "    <tr>\n",
              "      <th>1</th>\n",
              "      <td>Decision Tree</td>\n",
              "      <td>0.916867</td>\n",
              "      <td>0.638055</td>\n",
              "      <td>0.28695</td>\n",
              "      <td>0.612623</td>\n",
              "      <td>-3641.420003</td>\n",
              "      <td>1943.560885</td>\n",
              "    </tr>\n",
              "  </tbody>\n",
              "</table>\n",
              "</div>\n",
              "      <button class=\"colab-df-convert\" onclick=\"convertToInteractive('df-5ea974a3-bbe1-47e1-a876-28e5eda1a138')\"\n",
              "              title=\"Convert this dataframe to an interactive table.\"\n",
              "              style=\"display:none;\">\n",
              "        \n",
              "  <svg xmlns=\"http://www.w3.org/2000/svg\" height=\"24px\"viewBox=\"0 0 24 24\"\n",
              "       width=\"24px\">\n",
              "    <path d=\"M0 0h24v24H0V0z\" fill=\"none\"/>\n",
              "    <path d=\"M18.56 5.44l.94 2.06.94-2.06 2.06-.94-2.06-.94-.94-2.06-.94 2.06-2.06.94zm-11 1L8.5 8.5l.94-2.06 2.06-.94-2.06-.94L8.5 2.5l-.94 2.06-2.06.94zm10 10l.94 2.06.94-2.06 2.06-.94-2.06-.94-.94-2.06-.94 2.06-2.06.94z\"/><path d=\"M17.41 7.96l-1.37-1.37c-.4-.4-.92-.59-1.43-.59-.52 0-1.04.2-1.43.59L10.3 9.45l-7.72 7.72c-.78.78-.78 2.05 0 2.83L4 21.41c.39.39.9.59 1.41.59.51 0 1.02-.2 1.41-.59l7.78-7.78 2.81-2.81c.8-.78.8-2.07 0-2.86zM5.41 20L4 18.59l7.72-7.72 1.47 1.35L5.41 20z\"/>\n",
              "  </svg>\n",
              "      </button>\n",
              "      \n",
              "  <style>\n",
              "    .colab-df-container {\n",
              "      display:flex;\n",
              "      flex-wrap:wrap;\n",
              "      gap: 12px;\n",
              "    }\n",
              "\n",
              "    .colab-df-convert {\n",
              "      background-color: #E8F0FE;\n",
              "      border: none;\n",
              "      border-radius: 50%;\n",
              "      cursor: pointer;\n",
              "      display: none;\n",
              "      fill: #1967D2;\n",
              "      height: 32px;\n",
              "      padding: 0 0 0 0;\n",
              "      width: 32px;\n",
              "    }\n",
              "\n",
              "    .colab-df-convert:hover {\n",
              "      background-color: #E2EBFA;\n",
              "      box-shadow: 0px 1px 2px rgba(60, 64, 67, 0.3), 0px 1px 3px 1px rgba(60, 64, 67, 0.15);\n",
              "      fill: #174EA6;\n",
              "    }\n",
              "\n",
              "    [theme=dark] .colab-df-convert {\n",
              "      background-color: #3B4455;\n",
              "      fill: #D2E3FC;\n",
              "    }\n",
              "\n",
              "    [theme=dark] .colab-df-convert:hover {\n",
              "      background-color: #434B5C;\n",
              "      box-shadow: 0px 1px 3px 1px rgba(0, 0, 0, 0.15);\n",
              "      filter: drop-shadow(0px 1px 2px rgba(0, 0, 0, 0.3));\n",
              "      fill: #FFFFFF;\n",
              "    }\n",
              "  </style>\n",
              "\n",
              "      <script>\n",
              "        const buttonEl =\n",
              "          document.querySelector('#df-5ea974a3-bbe1-47e1-a876-28e5eda1a138 button.colab-df-convert');\n",
              "        buttonEl.style.display =\n",
              "          google.colab.kernel.accessAllowed ? 'block' : 'none';\n",
              "\n",
              "        async function convertToInteractive(key) {\n",
              "          const element = document.querySelector('#df-5ea974a3-bbe1-47e1-a876-28e5eda1a138');\n",
              "          const dataTable =\n",
              "            await google.colab.kernel.invokeFunction('convertToInteractive',\n",
              "                                                     [key], {});\n",
              "          if (!dataTable) return;\n",
              "\n",
              "          const docLinkHtml = 'Like what you see? Visit the ' +\n",
              "            '<a target=\"_blank\" href=https://colab.research.google.com/notebooks/data_table.ipynb>data table notebook</a>'\n",
              "            + ' to learn more about interactive tables.';\n",
              "          element.innerHTML = '';\n",
              "          dataTable['output_type'] = 'display_data';\n",
              "          await google.colab.output.renderOutput(dataTable, element);\n",
              "          const docLink = document.createElement('div');\n",
              "          docLink.innerHTML = docLinkHtml;\n",
              "          element.appendChild(docLink);\n",
              "        }\n",
              "      </script>\n",
              "    </div>\n",
              "  </div>\n",
              "  "
            ]
          },
          "metadata": {},
          "execution_count": 79
        }
      ],
      "source": [
        "metrics_table.loc[1:,:]"
      ]
    },
    {
      "cell_type": "markdown",
      "metadata": {
        "id": "-jK_YjpMpsJ2"
      },
      "source": [
        "#### 2. Cross- Validation & Hyperparameter Tuning"
      ]
    },
    {
      "cell_type": "code",
      "execution_count": null,
      "metadata": {
        "id": "hm5corBHgonX"
      },
      "outputs": [],
      "source": [
        "from sklearn.model_selection import RandomizedSearchCV\n",
        "from scipy.stats import randint\n",
        "from sklearn.metrics import roc_auc_score, confusion_matrix, accuracy_score\n",
        "from pylab import rcParams\n"
      ]
    },
    {
      "cell_type": "code",
      "execution_count": null,
      "metadata": {
        "id": "Dn0EOfS6psJ2",
        "colab": {
          "base_uri": "https://localhost:8080/"
        },
        "outputId": "fa9c77ec-b0d6-436a-e8ae-9ad5d7ce48e7"
      },
      "outputs": [
        {
          "output_type": "stream",
          "name": "stdout",
          "text": [
            "0.999685826202406\n",
            "0.9998973769520697\n",
            "0.9999506439469489\n"
          ]
        }
      ],
      "source": [
        "# ML Model - 1 Implementation with hyperparameter optimization techniques (i.e., GridSearch CV, RandomSearch CV, Bayesian Optimization etc.)\n",
        "# Fit the Algorithm\n",
        "# Predict on the model\n",
        "# cross validation using k fold technique\n",
        "from sklearn.model_selection import cross_val_score\n",
        "for i in [3,5,10]:\n",
        "  score = cross_val_score(DecisionTreeRegressor(), X, y,cv=i)\n",
        "  print(np.mean(score))"
      ]
    },
    {
      "cell_type": "code",
      "execution_count": null,
      "metadata": {
        "id": "1W1PfiIhE1Au",
        "colab": {
          "base_uri": "https://localhost:8080/"
        },
        "outputId": "dad866e8-be29-464e-bf95-b3c27b1f05b4"
      },
      "outputs": [
        {
          "output_type": "execute_result",
          "data": {
            "text/plain": [
              "0.9998792698399127"
            ]
          },
          "metadata": {},
          "execution_count": 82
        }
      ],
      "source": [
        "#hyper parameter tuning using RandomizedSearchCV\n",
        "from sklearn.model_selection import RandomizedSearchCV\n",
        "from scipy.stats import randint\n",
        "\n",
        "dtr = DecisionTreeRegressor()\n",
        "\n",
        "param_distributions = {\"criterion\": [\"squared_error\", \"poisson\",\"friedman_mse\" ],\n",
        "                        \"splitter\": [\"best\", \"random\"],\n",
        "                       \"max_features\": [\"auto\", \"sqrt\", \"log2\"], \"max_depth\" : [10]}\n",
        "search = RandomizedSearchCV(dtr, param_distributions).fit(X, y)\n",
        "search.best_score_ "
      ]
    },
    {
      "cell_type": "code",
      "execution_count": null,
      "metadata": {
        "id": "DPYPjll1Lf12",
        "colab": {
          "base_uri": "https://localhost:8080/"
        },
        "outputId": "8ed28bab-7fc9-4c74-ce2f-355b7622ca3e"
      },
      "outputs": [
        {
          "output_type": "execute_result",
          "data": {
            "text/plain": [
              "{'splitter': 'best',\n",
              " 'max_features': 'auto',\n",
              " 'max_depth': 10,\n",
              " 'criterion': 'squared_error'}"
            ]
          },
          "metadata": {},
          "execution_count": 83
        }
      ],
      "source": [
        "search.best_params_"
      ]
    },
    {
      "cell_type": "markdown",
      "metadata": {
        "id": "HAih1iBOpsJ2"
      },
      "source": [
        "##### Which hyperparameter optimization technique have you used and why?"
      ]
    },
    {
      "cell_type": "markdown",
      "metadata": {
        "id": "9kBgjYcdpsJ2"
      },
      "source": [
        "Over here we have used RandomizedSearchCV hyperparameter optimization technique , the reason for using this technique is that In order to train and score the model, Random Search creates a grid of hyperparameter values and chooses random combinations. As a result, we are able to specifically regulate the quantity of parameter combinations that are tried. Based on available time or resources, the number of search iterations is decided."
      ]
    },
    {
      "cell_type": "markdown",
      "metadata": {
        "id": "zVGeBEFhpsJ2"
      },
      "source": [
        "##### Have you seen any improvement? Note down the improvement with updates Evaluation metric Score Chart."
      ]
    },
    {
      "cell_type": "markdown",
      "metadata": {
        "id": "74yRdG6UpsJ3"
      },
      "source": [
        "We have seen slight fall in the accuracy of the model by using the hyperparameter tuning."
      ]
    },
    {
      "cell_type": "markdown",
      "metadata": {
        "id": "bmKjuQ-FpsJ3"
      },
      "source": [
        "#### 3. Explain each evaluation metric's indication towards business and the business impact pf the ML model used."
      ]
    },
    {
      "cell_type": "markdown",
      "metadata": {
        "id": "BDKtOrBQpsJ3"
      },
      "source": [
        "Evaluation metrics are used in machine learning to measure the performance of a model on a given dataset. This allows us to compare the performance of different models and select the one that performs the best on the task at hand. we have used evaluation metrics for this tasks, mean squared error for regression problems , RMSE."
      ]
    },
    {
      "cell_type": "markdown",
      "metadata": {
        "id": "SHaT7Aw5FwrK"
      },
      "source": [
        "###ML Model - 3 Random Forest Regressor"
      ]
    },
    {
      "cell_type": "markdown",
      "metadata": {
        "id": "ES3OZYRIGQYr"
      },
      "source": [
        "####1. Explain the ML Model used and it's performance using Evaluation metric Score Chart."
      ]
    },
    {
      "cell_type": "code",
      "execution_count": null,
      "metadata": {
        "id": "b6kPzEcTF0lq",
        "colab": {
          "base_uri": "https://localhost:8080/",
          "height": 75
        },
        "outputId": "6d23de51-ac51-41e1-e48c-4d640178978c"
      },
      "outputs": [
        {
          "output_type": "execute_result",
          "data": {
            "text/plain": [
              "RandomForestRegressor()"
            ],
            "text/html": [
              "<style>#sk-container-id-3 {color: black;background-color: white;}#sk-container-id-3 pre{padding: 0;}#sk-container-id-3 div.sk-toggleable {background-color: white;}#sk-container-id-3 label.sk-toggleable__label {cursor: pointer;display: block;width: 100%;margin-bottom: 0;padding: 0.3em;box-sizing: border-box;text-align: center;}#sk-container-id-3 label.sk-toggleable__label-arrow:before {content: \"▸\";float: left;margin-right: 0.25em;color: #696969;}#sk-container-id-3 label.sk-toggleable__label-arrow:hover:before {color: black;}#sk-container-id-3 div.sk-estimator:hover label.sk-toggleable__label-arrow:before {color: black;}#sk-container-id-3 div.sk-toggleable__content {max-height: 0;max-width: 0;overflow: hidden;text-align: left;background-color: #f0f8ff;}#sk-container-id-3 div.sk-toggleable__content pre {margin: 0.2em;color: black;border-radius: 0.25em;background-color: #f0f8ff;}#sk-container-id-3 input.sk-toggleable__control:checked~div.sk-toggleable__content {max-height: 200px;max-width: 100%;overflow: auto;}#sk-container-id-3 input.sk-toggleable__control:checked~label.sk-toggleable__label-arrow:before {content: \"▾\";}#sk-container-id-3 div.sk-estimator input.sk-toggleable__control:checked~label.sk-toggleable__label {background-color: #d4ebff;}#sk-container-id-3 div.sk-label input.sk-toggleable__control:checked~label.sk-toggleable__label {background-color: #d4ebff;}#sk-container-id-3 input.sk-hidden--visually {border: 0;clip: rect(1px 1px 1px 1px);clip: rect(1px, 1px, 1px, 1px);height: 1px;margin: -1px;overflow: hidden;padding: 0;position: absolute;width: 1px;}#sk-container-id-3 div.sk-estimator {font-family: monospace;background-color: #f0f8ff;border: 1px dotted black;border-radius: 0.25em;box-sizing: border-box;margin-bottom: 0.5em;}#sk-container-id-3 div.sk-estimator:hover {background-color: #d4ebff;}#sk-container-id-3 div.sk-parallel-item::after {content: \"\";width: 100%;border-bottom: 1px solid gray;flex-grow: 1;}#sk-container-id-3 div.sk-label:hover label.sk-toggleable__label {background-color: #d4ebff;}#sk-container-id-3 div.sk-serial::before {content: \"\";position: absolute;border-left: 1px solid gray;box-sizing: border-box;top: 0;bottom: 0;left: 50%;z-index: 0;}#sk-container-id-3 div.sk-serial {display: flex;flex-direction: column;align-items: center;background-color: white;padding-right: 0.2em;padding-left: 0.2em;position: relative;}#sk-container-id-3 div.sk-item {position: relative;z-index: 1;}#sk-container-id-3 div.sk-parallel {display: flex;align-items: stretch;justify-content: center;background-color: white;position: relative;}#sk-container-id-3 div.sk-item::before, #sk-container-id-3 div.sk-parallel-item::before {content: \"\";position: absolute;border-left: 1px solid gray;box-sizing: border-box;top: 0;bottom: 0;left: 50%;z-index: -1;}#sk-container-id-3 div.sk-parallel-item {display: flex;flex-direction: column;z-index: 1;position: relative;background-color: white;}#sk-container-id-3 div.sk-parallel-item:first-child::after {align-self: flex-end;width: 50%;}#sk-container-id-3 div.sk-parallel-item:last-child::after {align-self: flex-start;width: 50%;}#sk-container-id-3 div.sk-parallel-item:only-child::after {width: 0;}#sk-container-id-3 div.sk-dashed-wrapped {border: 1px dashed gray;margin: 0 0.4em 0.5em 0.4em;box-sizing: border-box;padding-bottom: 0.4em;background-color: white;}#sk-container-id-3 div.sk-label label {font-family: monospace;font-weight: bold;display: inline-block;line-height: 1.2em;}#sk-container-id-3 div.sk-label-container {text-align: center;}#sk-container-id-3 div.sk-container {/* jupyter's `normalize.less` sets `[hidden] { display: none; }` but bootstrap.min.css set `[hidden] { display: none !important; }` so we also need the `!important` here to be able to override the default hidden behavior on the sphinx rendered scikit-learn.org. See: https://github.com/scikit-learn/scikit-learn/issues/21755 */display: inline-block !important;position: relative;}#sk-container-id-3 div.sk-text-repr-fallback {display: none;}</style><div id=\"sk-container-id-3\" class=\"sk-top-container\"><div class=\"sk-text-repr-fallback\"><pre>RandomForestRegressor()</pre><b>In a Jupyter environment, please rerun this cell to show the HTML representation or trust the notebook. <br />On GitHub, the HTML representation is unable to render, please try loading this page with nbviewer.org.</b></div><div class=\"sk-container\" hidden><div class=\"sk-item\"><div class=\"sk-estimator sk-toggleable\"><input class=\"sk-toggleable__control sk-hidden--visually\" id=\"sk-estimator-id-3\" type=\"checkbox\" checked><label for=\"sk-estimator-id-3\" class=\"sk-toggleable__label sk-toggleable__label-arrow\">RandomForestRegressor</label><div class=\"sk-toggleable__content\"><pre>RandomForestRegressor()</pre></div></div></div></div></div>"
            ]
          },
          "metadata": {},
          "execution_count": 85
        }
      ],
      "source": [
        "from sklearn.ensemble import RandomForestRegressor\n",
        "random_forest_model = RandomForestRegressor()\n",
        "random_forest_model.fit(x_train, y_train)"
      ]
    },
    {
      "cell_type": "code",
      "execution_count": null,
      "metadata": {
        "id": "W2djhduWF6f5",
        "colab": {
          "base_uri": "https://localhost:8080/"
        },
        "outputId": "00938a11-6446-4851-a3dc-97dddfc85233"
      },
      "outputs": [
        {
          "output_type": "execute_result",
          "data": {
            "text/plain": [
              "0.7186762893659766"
            ]
          },
          "metadata": {},
          "execution_count": 87
        }
      ],
      "source": [
        "random_forest_model.score(x_test, y_test)"
      ]
    },
    {
      "cell_type": "code",
      "execution_count": null,
      "metadata": {
        "id": "UkTd5U64ihXA"
      },
      "outputs": [],
      "source": [
        "# predict the train and test data\n",
        "y_train_pred = random_forest_model.predict(x_train)\n",
        "y_test_pred = random_forest_model.predict(x_test)"
      ]
    },
    {
      "cell_type": "code",
      "execution_count": null,
      "metadata": {
        "id": "44wzKDrtirAe"
      },
      "outputs": [],
      "source": [
        "# model evaluation\n",
        "model_evaluation = calculate_model_metrics(y_train, y_train_pred, y_test, y_test_pred)\n",
        "\n",
        "# add metrics to metrics table\n",
        "metrics_table.loc[len(metrics_table.index)] = ['Random Forest', model_evaluation['Train_R2'], model_evaluation['Test_R2'], \n",
        "                                                                model_evaluation['Train_RMSE'], model_evaluation['Test_RMSE'], \n",
        "                                                                model_evaluation['Train_RMSPE'], model_evaluation['Test_RMSPE']]"
      ]
    },
    {
      "cell_type": "markdown",
      "metadata": {
        "id": "-SKblYRtGAj6"
      },
      "source": [
        "A supervised learning technique called Random Forest Regression leverages the ensemble learning approach for regression. The ensemble learning method combines predictions from various machine learning algorithms to provide predictions that are more accurate than those from a single model."
      ]
    },
    {
      "cell_type": "code",
      "execution_count": null,
      "metadata": {
        "id": "hDvRsx0CMuwW",
        "colab": {
          "base_uri": "https://localhost:8080/",
          "height": 81
        },
        "outputId": "22027aab-3973-4e0e-b0bc-78ebcfd9253e"
      },
      "outputs": [
        {
          "output_type": "execute_result",
          "data": {
            "text/plain": [
              "  Regression_Model  Train_R2   Test_R2  Train_RMSE  Test_RMSE  Train_RMSPE  \\\n",
              "2    Random Forest  0.892176  0.718676    0.326795   0.540101 -4147.063511   \n",
              "\n",
              "    Test_RMSPE  \n",
              "2  1713.483117  "
            ],
            "text/html": [
              "\n",
              "  <div id=\"df-f4a83cee-c417-454b-8021-bcda7e3d15ef\">\n",
              "    <div class=\"colab-df-container\">\n",
              "      <div>\n",
              "<style scoped>\n",
              "    .dataframe tbody tr th:only-of-type {\n",
              "        vertical-align: middle;\n",
              "    }\n",
              "\n",
              "    .dataframe tbody tr th {\n",
              "        vertical-align: top;\n",
              "    }\n",
              "\n",
              "    .dataframe thead th {\n",
              "        text-align: right;\n",
              "    }\n",
              "</style>\n",
              "<table border=\"1\" class=\"dataframe\">\n",
              "  <thead>\n",
              "    <tr style=\"text-align: right;\">\n",
              "      <th></th>\n",
              "      <th>Regression_Model</th>\n",
              "      <th>Train_R2</th>\n",
              "      <th>Test_R2</th>\n",
              "      <th>Train_RMSE</th>\n",
              "      <th>Test_RMSE</th>\n",
              "      <th>Train_RMSPE</th>\n",
              "      <th>Test_RMSPE</th>\n",
              "    </tr>\n",
              "  </thead>\n",
              "  <tbody>\n",
              "    <tr>\n",
              "      <th>2</th>\n",
              "      <td>Random Forest</td>\n",
              "      <td>0.892176</td>\n",
              "      <td>0.718676</td>\n",
              "      <td>0.326795</td>\n",
              "      <td>0.540101</td>\n",
              "      <td>-4147.063511</td>\n",
              "      <td>1713.483117</td>\n",
              "    </tr>\n",
              "  </tbody>\n",
              "</table>\n",
              "</div>\n",
              "      <button class=\"colab-df-convert\" onclick=\"convertToInteractive('df-f4a83cee-c417-454b-8021-bcda7e3d15ef')\"\n",
              "              title=\"Convert this dataframe to an interactive table.\"\n",
              "              style=\"display:none;\">\n",
              "        \n",
              "  <svg xmlns=\"http://www.w3.org/2000/svg\" height=\"24px\"viewBox=\"0 0 24 24\"\n",
              "       width=\"24px\">\n",
              "    <path d=\"M0 0h24v24H0V0z\" fill=\"none\"/>\n",
              "    <path d=\"M18.56 5.44l.94 2.06.94-2.06 2.06-.94-2.06-.94-.94-2.06-.94 2.06-2.06.94zm-11 1L8.5 8.5l.94-2.06 2.06-.94-2.06-.94L8.5 2.5l-.94 2.06-2.06.94zm10 10l.94 2.06.94-2.06 2.06-.94-2.06-.94-.94-2.06-.94 2.06-2.06.94z\"/><path d=\"M17.41 7.96l-1.37-1.37c-.4-.4-.92-.59-1.43-.59-.52 0-1.04.2-1.43.59L10.3 9.45l-7.72 7.72c-.78.78-.78 2.05 0 2.83L4 21.41c.39.39.9.59 1.41.59.51 0 1.02-.2 1.41-.59l7.78-7.78 2.81-2.81c.8-.78.8-2.07 0-2.86zM5.41 20L4 18.59l7.72-7.72 1.47 1.35L5.41 20z\"/>\n",
              "  </svg>\n",
              "      </button>\n",
              "      \n",
              "  <style>\n",
              "    .colab-df-container {\n",
              "      display:flex;\n",
              "      flex-wrap:wrap;\n",
              "      gap: 12px;\n",
              "    }\n",
              "\n",
              "    .colab-df-convert {\n",
              "      background-color: #E8F0FE;\n",
              "      border: none;\n",
              "      border-radius: 50%;\n",
              "      cursor: pointer;\n",
              "      display: none;\n",
              "      fill: #1967D2;\n",
              "      height: 32px;\n",
              "      padding: 0 0 0 0;\n",
              "      width: 32px;\n",
              "    }\n",
              "\n",
              "    .colab-df-convert:hover {\n",
              "      background-color: #E2EBFA;\n",
              "      box-shadow: 0px 1px 2px rgba(60, 64, 67, 0.3), 0px 1px 3px 1px rgba(60, 64, 67, 0.15);\n",
              "      fill: #174EA6;\n",
              "    }\n",
              "\n",
              "    [theme=dark] .colab-df-convert {\n",
              "      background-color: #3B4455;\n",
              "      fill: #D2E3FC;\n",
              "    }\n",
              "\n",
              "    [theme=dark] .colab-df-convert:hover {\n",
              "      background-color: #434B5C;\n",
              "      box-shadow: 0px 1px 3px 1px rgba(0, 0, 0, 0.15);\n",
              "      filter: drop-shadow(0px 1px 2px rgba(0, 0, 0, 0.3));\n",
              "      fill: #FFFFFF;\n",
              "    }\n",
              "  </style>\n",
              "\n",
              "      <script>\n",
              "        const buttonEl =\n",
              "          document.querySelector('#df-f4a83cee-c417-454b-8021-bcda7e3d15ef button.colab-df-convert');\n",
              "        buttonEl.style.display =\n",
              "          google.colab.kernel.accessAllowed ? 'block' : 'none';\n",
              "\n",
              "        async function convertToInteractive(key) {\n",
              "          const element = document.querySelector('#df-f4a83cee-c417-454b-8021-bcda7e3d15ef');\n",
              "          const dataTable =\n",
              "            await google.colab.kernel.invokeFunction('convertToInteractive',\n",
              "                                                     [key], {});\n",
              "          if (!dataTable) return;\n",
              "\n",
              "          const docLinkHtml = 'Like what you see? Visit the ' +\n",
              "            '<a target=\"_blank\" href=https://colab.research.google.com/notebooks/data_table.ipynb>data table notebook</a>'\n",
              "            + ' to learn more about interactive tables.';\n",
              "          element.innerHTML = '';\n",
              "          dataTable['output_type'] = 'display_data';\n",
              "          await google.colab.output.renderOutput(dataTable, element);\n",
              "          const docLink = document.createElement('div');\n",
              "          docLink.innerHTML = docLinkHtml;\n",
              "          element.appendChild(docLink);\n",
              "        }\n",
              "      </script>\n",
              "    </div>\n",
              "  </div>\n",
              "  "
            ]
          },
          "metadata": {},
          "execution_count": 91
        }
      ],
      "source": [
        "metrics_table.loc[2:,:]"
      ]
    },
    {
      "cell_type": "markdown",
      "metadata": {
        "id": "Fze-IPXLpx6K"
      },
      "source": [
        "### ML Model - 4 Lasso and Ridge Regression (L1 and L2 Regularization)"
      ]
    },
    {
      "cell_type": "code",
      "execution_count": null,
      "metadata": {
        "id": "FFrSXAtrpx6M",
        "colab": {
          "base_uri": "https://localhost:8080/",
          "height": 75
        },
        "outputId": "9247278b-22d0-42a3-bfdd-cd25be8c9147"
      },
      "outputs": [
        {
          "output_type": "execute_result",
          "data": {
            "text/plain": [
              "Lasso()"
            ],
            "text/html": [
              "<style>#sk-container-id-4 {color: black;background-color: white;}#sk-container-id-4 pre{padding: 0;}#sk-container-id-4 div.sk-toggleable {background-color: white;}#sk-container-id-4 label.sk-toggleable__label {cursor: pointer;display: block;width: 100%;margin-bottom: 0;padding: 0.3em;box-sizing: border-box;text-align: center;}#sk-container-id-4 label.sk-toggleable__label-arrow:before {content: \"▸\";float: left;margin-right: 0.25em;color: #696969;}#sk-container-id-4 label.sk-toggleable__label-arrow:hover:before {color: black;}#sk-container-id-4 div.sk-estimator:hover label.sk-toggleable__label-arrow:before {color: black;}#sk-container-id-4 div.sk-toggleable__content {max-height: 0;max-width: 0;overflow: hidden;text-align: left;background-color: #f0f8ff;}#sk-container-id-4 div.sk-toggleable__content pre {margin: 0.2em;color: black;border-radius: 0.25em;background-color: #f0f8ff;}#sk-container-id-4 input.sk-toggleable__control:checked~div.sk-toggleable__content {max-height: 200px;max-width: 100%;overflow: auto;}#sk-container-id-4 input.sk-toggleable__control:checked~label.sk-toggleable__label-arrow:before {content: \"▾\";}#sk-container-id-4 div.sk-estimator input.sk-toggleable__control:checked~label.sk-toggleable__label {background-color: #d4ebff;}#sk-container-id-4 div.sk-label input.sk-toggleable__control:checked~label.sk-toggleable__label {background-color: #d4ebff;}#sk-container-id-4 input.sk-hidden--visually {border: 0;clip: rect(1px 1px 1px 1px);clip: rect(1px, 1px, 1px, 1px);height: 1px;margin: -1px;overflow: hidden;padding: 0;position: absolute;width: 1px;}#sk-container-id-4 div.sk-estimator {font-family: monospace;background-color: #f0f8ff;border: 1px dotted black;border-radius: 0.25em;box-sizing: border-box;margin-bottom: 0.5em;}#sk-container-id-4 div.sk-estimator:hover {background-color: #d4ebff;}#sk-container-id-4 div.sk-parallel-item::after {content: \"\";width: 100%;border-bottom: 1px solid gray;flex-grow: 1;}#sk-container-id-4 div.sk-label:hover label.sk-toggleable__label {background-color: #d4ebff;}#sk-container-id-4 div.sk-serial::before {content: \"\";position: absolute;border-left: 1px solid gray;box-sizing: border-box;top: 0;bottom: 0;left: 50%;z-index: 0;}#sk-container-id-4 div.sk-serial {display: flex;flex-direction: column;align-items: center;background-color: white;padding-right: 0.2em;padding-left: 0.2em;position: relative;}#sk-container-id-4 div.sk-item {position: relative;z-index: 1;}#sk-container-id-4 div.sk-parallel {display: flex;align-items: stretch;justify-content: center;background-color: white;position: relative;}#sk-container-id-4 div.sk-item::before, #sk-container-id-4 div.sk-parallel-item::before {content: \"\";position: absolute;border-left: 1px solid gray;box-sizing: border-box;top: 0;bottom: 0;left: 50%;z-index: -1;}#sk-container-id-4 div.sk-parallel-item {display: flex;flex-direction: column;z-index: 1;position: relative;background-color: white;}#sk-container-id-4 div.sk-parallel-item:first-child::after {align-self: flex-end;width: 50%;}#sk-container-id-4 div.sk-parallel-item:last-child::after {align-self: flex-start;width: 50%;}#sk-container-id-4 div.sk-parallel-item:only-child::after {width: 0;}#sk-container-id-4 div.sk-dashed-wrapped {border: 1px dashed gray;margin: 0 0.4em 0.5em 0.4em;box-sizing: border-box;padding-bottom: 0.4em;background-color: white;}#sk-container-id-4 div.sk-label label {font-family: monospace;font-weight: bold;display: inline-block;line-height: 1.2em;}#sk-container-id-4 div.sk-label-container {text-align: center;}#sk-container-id-4 div.sk-container {/* jupyter's `normalize.less` sets `[hidden] { display: none; }` but bootstrap.min.css set `[hidden] { display: none !important; }` so we also need the `!important` here to be able to override the default hidden behavior on the sphinx rendered scikit-learn.org. See: https://github.com/scikit-learn/scikit-learn/issues/21755 */display: inline-block !important;position: relative;}#sk-container-id-4 div.sk-text-repr-fallback {display: none;}</style><div id=\"sk-container-id-4\" class=\"sk-top-container\"><div class=\"sk-text-repr-fallback\"><pre>Lasso()</pre><b>In a Jupyter environment, please rerun this cell to show the HTML representation or trust the notebook. <br />On GitHub, the HTML representation is unable to render, please try loading this page with nbviewer.org.</b></div><div class=\"sk-container\" hidden><div class=\"sk-item\"><div class=\"sk-estimator sk-toggleable\"><input class=\"sk-toggleable__control sk-hidden--visually\" id=\"sk-estimator-id-4\" type=\"checkbox\" checked><label for=\"sk-estimator-id-4\" class=\"sk-toggleable__label sk-toggleable__label-arrow\">Lasso</label><div class=\"sk-toggleable__content\"><pre>Lasso()</pre></div></div></div></div></div>"
            ]
          },
          "metadata": {},
          "execution_count": 92
        }
      ],
      "source": [
        "# ML Model - 3 Implementation\n",
        "# Fit the Algorithm\n",
        "# Predict on the model\n",
        "from sklearn.linear_model import Lasso, Ridge, ElasticNet\n",
        "lasso_model = Lasso()\n",
        "lasso_model.fit(x_train, y_train)"
      ]
    },
    {
      "cell_type": "code",
      "execution_count": null,
      "metadata": {
        "id": "Hsg6pPYuoUh-",
        "colab": {
          "base_uri": "https://localhost:8080/"
        },
        "outputId": "40be7c54-3d20-4da8-b98d-4dd5c00daa1f"
      },
      "outputs": [
        {
          "output_type": "execute_result",
          "data": {
            "text/plain": [
              "-0.00149715478931145"
            ]
          },
          "metadata": {},
          "execution_count": 93
        }
      ],
      "source": [
        "lasso_model.score(x_test, y_test)"
      ]
    },
    {
      "cell_type": "code",
      "execution_count": null,
      "metadata": {
        "id": "Kub8Z6H1Ycva",
        "colab": {
          "base_uri": "https://localhost:8080/"
        },
        "outputId": "ecdc43d0-773c-450a-bb52-035195338006"
      },
      "outputs": [
        {
          "output_type": "execute_result",
          "data": {
            "text/plain": [
              "0.6906297650071092"
            ]
          },
          "metadata": {},
          "execution_count": 95
        }
      ],
      "source": [
        "#ridge REgression\n",
        "ridge_model = Ridge()\n",
        "ridge_model.fit(x_train, y_train)\n",
        "ridge_model.score(x_test, y_test)"
      ]
    },
    {
      "cell_type": "code",
      "execution_count": null,
      "metadata": {
        "id": "gLoChJUnkYK_"
      },
      "outputs": [],
      "source": [
        "# predict the train and test data\n",
        "y_train_pred = ridge_model.predict(x_train)\n",
        "y_test_pred = ridge_model.predict(x_test)"
      ]
    },
    {
      "cell_type": "code",
      "execution_count": null,
      "metadata": {
        "id": "1zx7h0IHklt1"
      },
      "outputs": [],
      "source": [
        "# model evaluation\n",
        "model_evaluation = calculate_model_metrics(y_train, y_train_pred, y_test, y_test_pred)\n",
        "\n",
        "# add metrics to metrics table\n",
        "metrics_table.loc[len(metrics_table.index)] = ['Ridge', model_evaluation['Train_R2'], model_evaluation['Test_R2'], \n",
        "                                                                model_evaluation['Train_RMSE'], model_evaluation['Test_RMSE'], \n",
        "                                                                model_evaluation['Train_RMSPE'], model_evaluation['Test_RMSPE']]"
      ]
    },
    {
      "cell_type": "code",
      "execution_count": null,
      "metadata": {
        "id": "hGAT6Az9Yflc",
        "colab": {
          "base_uri": "https://localhost:8080/"
        },
        "outputId": "90575775-41e2-4582-980b-62660d685a50"
      },
      "outputs": [
        {
          "output_type": "execute_result",
          "data": {
            "text/plain": [
              "0.1577893849036287"
            ]
          },
          "metadata": {},
          "execution_count": 98
        }
      ],
      "source": [
        "#elasticnet regression\n",
        "elasticnet_model = ElasticNet()\n",
        "elasticnet_model.fit(x_train, y_train)\n",
        "elasticnet_model.score(x_test, y_test)"
      ]
    },
    {
      "cell_type": "markdown",
      "metadata": {
        "id": "7AN1z2sKpx6M"
      },
      "source": [
        "#### 1. Explain the ML Model used and it's performance using Evaluation metric Score Chart."
      ]
    },
    {
      "cell_type": "markdown",
      "metadata": {
        "id": "8NTpXf9_lMay"
      },
      "source": [
        "Evaluation metrics are used in machine learning to measure the performance of a model on a given dataset. This allows us to compare the performance of different models and select the one that performs the best on the task at hand. we have used evaluation metrics for this tasks, mean squared error for regression problems , RMSE."
      ]
    },
    {
      "cell_type": "code",
      "execution_count": null,
      "metadata": {
        "id": "ze4_m4zNOmnZ",
        "colab": {
          "base_uri": "https://localhost:8080/",
          "height": 81
        },
        "outputId": "26f6ee79-1934-421d-bf3e-31beb506b38f"
      },
      "outputs": [
        {
          "output_type": "execute_result",
          "data": {
            "text/plain": [
              "  Regression_Model  Train_R2  Test_R2  Train_RMSE  Test_RMSE  Train_RMSPE  \\\n",
              "3            Ridge  0.685865  0.69063    0.557798   0.566384 -7078.512679   \n",
              "\n",
              "    Test_RMSPE  \n",
              "3  1796.866966  "
            ],
            "text/html": [
              "\n",
              "  <div id=\"df-7a225d0c-79b7-470e-b72b-979e9dec189d\">\n",
              "    <div class=\"colab-df-container\">\n",
              "      <div>\n",
              "<style scoped>\n",
              "    .dataframe tbody tr th:only-of-type {\n",
              "        vertical-align: middle;\n",
              "    }\n",
              "\n",
              "    .dataframe tbody tr th {\n",
              "        vertical-align: top;\n",
              "    }\n",
              "\n",
              "    .dataframe thead th {\n",
              "        text-align: right;\n",
              "    }\n",
              "</style>\n",
              "<table border=\"1\" class=\"dataframe\">\n",
              "  <thead>\n",
              "    <tr style=\"text-align: right;\">\n",
              "      <th></th>\n",
              "      <th>Regression_Model</th>\n",
              "      <th>Train_R2</th>\n",
              "      <th>Test_R2</th>\n",
              "      <th>Train_RMSE</th>\n",
              "      <th>Test_RMSE</th>\n",
              "      <th>Train_RMSPE</th>\n",
              "      <th>Test_RMSPE</th>\n",
              "    </tr>\n",
              "  </thead>\n",
              "  <tbody>\n",
              "    <tr>\n",
              "      <th>3</th>\n",
              "      <td>Ridge</td>\n",
              "      <td>0.685865</td>\n",
              "      <td>0.69063</td>\n",
              "      <td>0.557798</td>\n",
              "      <td>0.566384</td>\n",
              "      <td>-7078.512679</td>\n",
              "      <td>1796.866966</td>\n",
              "    </tr>\n",
              "  </tbody>\n",
              "</table>\n",
              "</div>\n",
              "      <button class=\"colab-df-convert\" onclick=\"convertToInteractive('df-7a225d0c-79b7-470e-b72b-979e9dec189d')\"\n",
              "              title=\"Convert this dataframe to an interactive table.\"\n",
              "              style=\"display:none;\">\n",
              "        \n",
              "  <svg xmlns=\"http://www.w3.org/2000/svg\" height=\"24px\"viewBox=\"0 0 24 24\"\n",
              "       width=\"24px\">\n",
              "    <path d=\"M0 0h24v24H0V0z\" fill=\"none\"/>\n",
              "    <path d=\"M18.56 5.44l.94 2.06.94-2.06 2.06-.94-2.06-.94-.94-2.06-.94 2.06-2.06.94zm-11 1L8.5 8.5l.94-2.06 2.06-.94-2.06-.94L8.5 2.5l-.94 2.06-2.06.94zm10 10l.94 2.06.94-2.06 2.06-.94-2.06-.94-.94-2.06-.94 2.06-2.06.94z\"/><path d=\"M17.41 7.96l-1.37-1.37c-.4-.4-.92-.59-1.43-.59-.52 0-1.04.2-1.43.59L10.3 9.45l-7.72 7.72c-.78.78-.78 2.05 0 2.83L4 21.41c.39.39.9.59 1.41.59.51 0 1.02-.2 1.41-.59l7.78-7.78 2.81-2.81c.8-.78.8-2.07 0-2.86zM5.41 20L4 18.59l7.72-7.72 1.47 1.35L5.41 20z\"/>\n",
              "  </svg>\n",
              "      </button>\n",
              "      \n",
              "  <style>\n",
              "    .colab-df-container {\n",
              "      display:flex;\n",
              "      flex-wrap:wrap;\n",
              "      gap: 12px;\n",
              "    }\n",
              "\n",
              "    .colab-df-convert {\n",
              "      background-color: #E8F0FE;\n",
              "      border: none;\n",
              "      border-radius: 50%;\n",
              "      cursor: pointer;\n",
              "      display: none;\n",
              "      fill: #1967D2;\n",
              "      height: 32px;\n",
              "      padding: 0 0 0 0;\n",
              "      width: 32px;\n",
              "    }\n",
              "\n",
              "    .colab-df-convert:hover {\n",
              "      background-color: #E2EBFA;\n",
              "      box-shadow: 0px 1px 2px rgba(60, 64, 67, 0.3), 0px 1px 3px 1px rgba(60, 64, 67, 0.15);\n",
              "      fill: #174EA6;\n",
              "    }\n",
              "\n",
              "    [theme=dark] .colab-df-convert {\n",
              "      background-color: #3B4455;\n",
              "      fill: #D2E3FC;\n",
              "    }\n",
              "\n",
              "    [theme=dark] .colab-df-convert:hover {\n",
              "      background-color: #434B5C;\n",
              "      box-shadow: 0px 1px 3px 1px rgba(0, 0, 0, 0.15);\n",
              "      filter: drop-shadow(0px 1px 2px rgba(0, 0, 0, 0.3));\n",
              "      fill: #FFFFFF;\n",
              "    }\n",
              "  </style>\n",
              "\n",
              "      <script>\n",
              "        const buttonEl =\n",
              "          document.querySelector('#df-7a225d0c-79b7-470e-b72b-979e9dec189d button.colab-df-convert');\n",
              "        buttonEl.style.display =\n",
              "          google.colab.kernel.accessAllowed ? 'block' : 'none';\n",
              "\n",
              "        async function convertToInteractive(key) {\n",
              "          const element = document.querySelector('#df-7a225d0c-79b7-470e-b72b-979e9dec189d');\n",
              "          const dataTable =\n",
              "            await google.colab.kernel.invokeFunction('convertToInteractive',\n",
              "                                                     [key], {});\n",
              "          if (!dataTable) return;\n",
              "\n",
              "          const docLinkHtml = 'Like what you see? Visit the ' +\n",
              "            '<a target=\"_blank\" href=https://colab.research.google.com/notebooks/data_table.ipynb>data table notebook</a>'\n",
              "            + ' to learn more about interactive tables.';\n",
              "          element.innerHTML = '';\n",
              "          dataTable['output_type'] = 'display_data';\n",
              "          await google.colab.output.renderOutput(dataTable, element);\n",
              "          const docLink = document.createElement('div');\n",
              "          docLink.innerHTML = docLinkHtml;\n",
              "          element.appendChild(docLink);\n",
              "        }\n",
              "      </script>\n",
              "    </div>\n",
              "  </div>\n",
              "  "
            ]
          },
          "metadata": {},
          "execution_count": 99
        }
      ],
      "source": [
        "metrics_table.loc[3:,:]"
      ]
    },
    {
      "cell_type": "markdown",
      "metadata": {
        "id": "9PIHJqyupx6M"
      },
      "source": [
        "#### 2. Cross- Validation & Hyperparameter Tuning"
      ]
    },
    {
      "cell_type": "code",
      "execution_count": null,
      "metadata": {
        "id": "2J4cN8T_lMRp"
      },
      "outputs": [],
      "source": [
        "from sklearn.model_selection import GridSearchCV"
      ]
    },
    {
      "cell_type": "code",
      "execution_count": null,
      "metadata": {
        "id": "eSVXuaSKpx6M",
        "colab": {
          "base_uri": "https://localhost:8080/"
        },
        "outputId": "7a42c06e-c1ee-4735-8a64-f1e346a14220"
      },
      "outputs": [
        {
          "output_type": "stream",
          "name": "stdout",
          "text": [
            "The best fit alpha value is found out to be : {'alpha': 1e-15}\n",
            "\n",
            "Using  {'alpha': 1e-15}  the negative mean squared error is:  -0.31423038494557215\n"
          ]
        }
      ],
      "source": [
        "# ML Model - 3 Implementation with hyperparameter optimization techniques (i.e., GridSearch CV, RandomSearch CV, Bayesian Optimization etc.)\n",
        "lasso = Lasso()\n",
        "parameters = {'alpha': [1e-15,1e-13,1e-10,1e-8,1e-5,1e-4,1e-3,1e-2,1e-1,1,5,10]}\n",
        "lasso_regressor = GridSearchCV(lasso, parameters, scoring='neg_mean_squared_error', cv=3)\n",
        "lasso_regressor.fit(x_train, y_train)\n",
        "# Predict on the model\n",
        "print(\"The best fit alpha value is found out to be :\" ,lasso_regressor.best_params_)\n",
        "print(\"\\nUsing \",lasso_regressor.best_params_, \" the negative mean squared error is: \", lasso_regressor.best_score_)"
      ]
    },
    {
      "cell_type": "code",
      "execution_count": null,
      "metadata": {
        "id": "hODqT4OEmxsD"
      },
      "outputs": [],
      "source": [
        "# predict the train and test data\n",
        "y_train_pred = lasso_regressor.predict(x_train)\n",
        "y_test_pred = lasso_regressor.predict(x_test)"
      ]
    },
    {
      "cell_type": "code",
      "execution_count": null,
      "metadata": {
        "id": "RzNUbJ4Nmywt"
      },
      "outputs": [],
      "source": [
        "# model evaluation\n",
        "model_evaluation = calculate_model_metrics(y_train, y_train_pred, y_test, y_test_pred)\n",
        "# add metrics to metrics table\n",
        "metrics_table.loc[len(metrics_table.index)] = ['Lasso', model_evaluation['Train_R2'], model_evaluation['Test_R2'], \n",
        "                                                        model_evaluation['Train_RMSE'], model_evaluation['Test_RMSE'], \n",
        "                                                        model_evaluation['Train_RMSPE'], model_evaluation['Test_RMSPE']]"
      ]
    },
    {
      "cell_type": "markdown",
      "metadata": {
        "id": "_-qAgymDpx6N"
      },
      "source": [
        "##### Which hyperparameter optimization technique have you used and why?"
      ]
    },
    {
      "cell_type": "markdown",
      "metadata": {
        "id": "lQMffxkwpx6N"
      },
      "source": [
        "Over here we have used GridSearchCV hyperparameter optimization technique , the reason for using this technique is that In order to train and score the model, grid Search creates a grid of hyperparameter values and chooses random combinations. As a result, we are able to specifically regulate the quantity of parameter combinations that are tried. Based on available time or resources, the number of search iterations is decided "
      ]
    },
    {
      "cell_type": "markdown",
      "metadata": {
        "id": "Z-hykwinpx6N"
      },
      "source": [
        "##### Have you seen any improvement? Note down the improvement with updates Evaluation metric Score Chart."
      ]
    },
    {
      "cell_type": "markdown",
      "metadata": {
        "id": "MzVzZC6opx6N"
      },
      "source": [
        "We have seen highly jump in the accuracy of the model by using the hyperparameter tuning our lasso r2 score increase to .82"
      ]
    },
    {
      "cell_type": "markdown",
      "metadata": {
        "id": "h_CCil-SKHpo"
      },
      "source": [
        "### 1. Which Evaluation metrics did you consider for a positive business impact and why?"
      ]
    },
    {
      "cell_type": "markdown",
      "metadata": {
        "id": "jHVz9hHDKFms"
      },
      "source": [
        "Evaluation metrics are used in machine learning to measure the performance of a model on a given dataset. This allows us to compare the performance of different models and select the one that performs the best on the task at hand. we have used evaluation metrics for this tasks, mean squared error for regression problems , RMSE.Answer Here."
      ]
    },
    {
      "cell_type": "markdown",
      "metadata": {
        "id": "cBFFvTBNJzUa"
      },
      "source": [
        "### 2. Which ML model did you choose from the above created models as your final prediction model and why?"
      ]
    },
    {
      "cell_type": "markdown",
      "metadata": {
        "id": "6ksF5Q1LKTVm"
      },
      "source": [
        "As we have seen above that, Random Forest Regressor is performing the best with the accuracy of 97.3% followed by Decison Tree Regressor with accuracy of 94.3%\n",
        "so here we are choosing Random Forest Regressor for best prediction."
      ]
    },
    {
      "cell_type": "code",
      "execution_count": null,
      "metadata": {
        "id": "DlJ88mOxoPgQ",
        "colab": {
          "base_uri": "https://localhost:8080/",
          "height": 206
        },
        "outputId": "1ed1a2d6-5399-4b5b-ae53-b18d9a95ed8d"
      },
      "outputs": [
        {
          "output_type": "execute_result",
          "data": {
            "text/plain": [
              "  Regression_Model  Train_R2   Test_R2  Train_RMSE  Test_RMSE  Train_RMSPE  \\\n",
              "0           Linear  0.685865  0.690627    0.557798   0.566387 -7078.509734   \n",
              "1    Decision Tree  0.916867  0.638055    0.286950   0.612623 -3641.420003   \n",
              "2    Random Forest  0.892176  0.718676    0.326795   0.540101 -4147.063511   \n",
              "3            Ridge  0.685865  0.690630    0.557798   0.566384 -7078.512679   \n",
              "4            Lasso  0.685865  0.690627    0.557798   0.566387 -7078.509734   \n",
              "\n",
              "    Test_RMSPE  \n",
              "0  1796.875320  \n",
              "1  1943.560885  \n",
              "2  1713.483117  \n",
              "3  1796.866966  \n",
              "4  1796.875320  "
            ],
            "text/html": [
              "\n",
              "  <div id=\"df-58cc53f7-745b-4951-b6c2-35e4ddf2a886\">\n",
              "    <div class=\"colab-df-container\">\n",
              "      <div>\n",
              "<style scoped>\n",
              "    .dataframe tbody tr th:only-of-type {\n",
              "        vertical-align: middle;\n",
              "    }\n",
              "\n",
              "    .dataframe tbody tr th {\n",
              "        vertical-align: top;\n",
              "    }\n",
              "\n",
              "    .dataframe thead th {\n",
              "        text-align: right;\n",
              "    }\n",
              "</style>\n",
              "<table border=\"1\" class=\"dataframe\">\n",
              "  <thead>\n",
              "    <tr style=\"text-align: right;\">\n",
              "      <th></th>\n",
              "      <th>Regression_Model</th>\n",
              "      <th>Train_R2</th>\n",
              "      <th>Test_R2</th>\n",
              "      <th>Train_RMSE</th>\n",
              "      <th>Test_RMSE</th>\n",
              "      <th>Train_RMSPE</th>\n",
              "      <th>Test_RMSPE</th>\n",
              "    </tr>\n",
              "  </thead>\n",
              "  <tbody>\n",
              "    <tr>\n",
              "      <th>0</th>\n",
              "      <td>Linear</td>\n",
              "      <td>0.685865</td>\n",
              "      <td>0.690627</td>\n",
              "      <td>0.557798</td>\n",
              "      <td>0.566387</td>\n",
              "      <td>-7078.509734</td>\n",
              "      <td>1796.875320</td>\n",
              "    </tr>\n",
              "    <tr>\n",
              "      <th>1</th>\n",
              "      <td>Decision Tree</td>\n",
              "      <td>0.916867</td>\n",
              "      <td>0.638055</td>\n",
              "      <td>0.286950</td>\n",
              "      <td>0.612623</td>\n",
              "      <td>-3641.420003</td>\n",
              "      <td>1943.560885</td>\n",
              "    </tr>\n",
              "    <tr>\n",
              "      <th>2</th>\n",
              "      <td>Random Forest</td>\n",
              "      <td>0.892176</td>\n",
              "      <td>0.718676</td>\n",
              "      <td>0.326795</td>\n",
              "      <td>0.540101</td>\n",
              "      <td>-4147.063511</td>\n",
              "      <td>1713.483117</td>\n",
              "    </tr>\n",
              "    <tr>\n",
              "      <th>3</th>\n",
              "      <td>Ridge</td>\n",
              "      <td>0.685865</td>\n",
              "      <td>0.690630</td>\n",
              "      <td>0.557798</td>\n",
              "      <td>0.566384</td>\n",
              "      <td>-7078.512679</td>\n",
              "      <td>1796.866966</td>\n",
              "    </tr>\n",
              "    <tr>\n",
              "      <th>4</th>\n",
              "      <td>Lasso</td>\n",
              "      <td>0.685865</td>\n",
              "      <td>0.690627</td>\n",
              "      <td>0.557798</td>\n",
              "      <td>0.566387</td>\n",
              "      <td>-7078.509734</td>\n",
              "      <td>1796.875320</td>\n",
              "    </tr>\n",
              "  </tbody>\n",
              "</table>\n",
              "</div>\n",
              "      <button class=\"colab-df-convert\" onclick=\"convertToInteractive('df-58cc53f7-745b-4951-b6c2-35e4ddf2a886')\"\n",
              "              title=\"Convert this dataframe to an interactive table.\"\n",
              "              style=\"display:none;\">\n",
              "        \n",
              "  <svg xmlns=\"http://www.w3.org/2000/svg\" height=\"24px\"viewBox=\"0 0 24 24\"\n",
              "       width=\"24px\">\n",
              "    <path d=\"M0 0h24v24H0V0z\" fill=\"none\"/>\n",
              "    <path d=\"M18.56 5.44l.94 2.06.94-2.06 2.06-.94-2.06-.94-.94-2.06-.94 2.06-2.06.94zm-11 1L8.5 8.5l.94-2.06 2.06-.94-2.06-.94L8.5 2.5l-.94 2.06-2.06.94zm10 10l.94 2.06.94-2.06 2.06-.94-2.06-.94-.94-2.06-.94 2.06-2.06.94z\"/><path d=\"M17.41 7.96l-1.37-1.37c-.4-.4-.92-.59-1.43-.59-.52 0-1.04.2-1.43.59L10.3 9.45l-7.72 7.72c-.78.78-.78 2.05 0 2.83L4 21.41c.39.39.9.59 1.41.59.51 0 1.02-.2 1.41-.59l7.78-7.78 2.81-2.81c.8-.78.8-2.07 0-2.86zM5.41 20L4 18.59l7.72-7.72 1.47 1.35L5.41 20z\"/>\n",
              "  </svg>\n",
              "      </button>\n",
              "      \n",
              "  <style>\n",
              "    .colab-df-container {\n",
              "      display:flex;\n",
              "      flex-wrap:wrap;\n",
              "      gap: 12px;\n",
              "    }\n",
              "\n",
              "    .colab-df-convert {\n",
              "      background-color: #E8F0FE;\n",
              "      border: none;\n",
              "      border-radius: 50%;\n",
              "      cursor: pointer;\n",
              "      display: none;\n",
              "      fill: #1967D2;\n",
              "      height: 32px;\n",
              "      padding: 0 0 0 0;\n",
              "      width: 32px;\n",
              "    }\n",
              "\n",
              "    .colab-df-convert:hover {\n",
              "      background-color: #E2EBFA;\n",
              "      box-shadow: 0px 1px 2px rgba(60, 64, 67, 0.3), 0px 1px 3px 1px rgba(60, 64, 67, 0.15);\n",
              "      fill: #174EA6;\n",
              "    }\n",
              "\n",
              "    [theme=dark] .colab-df-convert {\n",
              "      background-color: #3B4455;\n",
              "      fill: #D2E3FC;\n",
              "    }\n",
              "\n",
              "    [theme=dark] .colab-df-convert:hover {\n",
              "      background-color: #434B5C;\n",
              "      box-shadow: 0px 1px 3px 1px rgba(0, 0, 0, 0.15);\n",
              "      filter: drop-shadow(0px 1px 2px rgba(0, 0, 0, 0.3));\n",
              "      fill: #FFFFFF;\n",
              "    }\n",
              "  </style>\n",
              "\n",
              "      <script>\n",
              "        const buttonEl =\n",
              "          document.querySelector('#df-58cc53f7-745b-4951-b6c2-35e4ddf2a886 button.colab-df-convert');\n",
              "        buttonEl.style.display =\n",
              "          google.colab.kernel.accessAllowed ? 'block' : 'none';\n",
              "\n",
              "        async function convertToInteractive(key) {\n",
              "          const element = document.querySelector('#df-58cc53f7-745b-4951-b6c2-35e4ddf2a886');\n",
              "          const dataTable =\n",
              "            await google.colab.kernel.invokeFunction('convertToInteractive',\n",
              "                                                     [key], {});\n",
              "          if (!dataTable) return;\n",
              "\n",
              "          const docLinkHtml = 'Like what you see? Visit the ' +\n",
              "            '<a target=\"_blank\" href=https://colab.research.google.com/notebooks/data_table.ipynb>data table notebook</a>'\n",
              "            + ' to learn more about interactive tables.';\n",
              "          element.innerHTML = '';\n",
              "          dataTable['output_type'] = 'display_data';\n",
              "          await google.colab.output.renderOutput(dataTable, element);\n",
              "          const docLink = document.createElement('div');\n",
              "          docLink.innerHTML = docLinkHtml;\n",
              "          element.appendChild(docLink);\n",
              "        }\n",
              "      </script>\n",
              "    </div>\n",
              "  </div>\n",
              "  "
            ]
          },
          "metadata": {},
          "execution_count": 106
        }
      ],
      "source": [
        "# print metrics table\n",
        "metrics_table"
      ]
    },
    {
      "cell_type": "markdown",
      "metadata": {
        "id": "HvGl1hHyA_VK"
      },
      "source": [
        "### 3. Explain the model which you have used and the feature importance using any model explainability tool?"
      ]
    },
    {
      "cell_type": "markdown",
      "metadata": {
        "id": "YnvVTiIxBL-C"
      },
      "source": [
        "Random Forest is a supervised learning algorithm that can be used for both classification and regression tasks. A Random Forest regressor is a specific type of Random Forest that is used for regression tasks, which involve predicting a continuous output value (such as a price or temperature) rather than a discrete class label.\n",
        "\n",
        "The algorithm works by creating an ensemble of decision trees, where each tree is trained on a random subset of the data. The final output is then obtained by averaging the predictions of all the trees. This helps to reduce overfitting and improve the overall performance of the model.\n",
        "\n",
        "Random Forest regressor is known to be a very powerful algorithm that can handle high-dimensional data and a large number of input features. It is also relatively easy to use and interpret. It has several parameters that can be adjusted to optimize its performance, such as the number of trees in the ensemble, the maximum depth of each tree, and the minimum number of samples required to split a node.\n"
      ]
    },
    {
      "cell_type": "code",
      "execution_count": null,
      "metadata": {
        "id": "DLx3iX6929oX",
        "colab": {
          "base_uri": "https://localhost:8080/"
        },
        "outputId": "dbd4b2b7-c18a-4338-9bcf-ade59630a613"
      },
      "outputs": [
        {
          "output_type": "execute_result",
          "data": {
            "text/plain": [
              "Index(['name', 'year', 'selling_price', 'km_driven', 'fuel', 'seller_type',\n",
              "       'transmission', 'owner'],\n",
              "      dtype='object')"
            ]
          },
          "metadata": {},
          "execution_count": 107
        }
      ],
      "source": [
        "df.columns"
      ]
    },
    {
      "cell_type": "code",
      "execution_count": null,
      "metadata": {
        "id": "bpfO2K1KqEiZ",
        "colab": {
          "base_uri": "https://localhost:8080/",
          "height": 645
        },
        "outputId": "e7b103ea-2219-4152-d63d-16632d8919f8"
      },
      "outputs": [
        {
          "output_type": "execute_result",
          "data": {
            "text/plain": [
              "Text(0.5, 0, 'Relative Importance')"
            ]
          },
          "metadata": {},
          "execution_count": 108
        },
        {
          "output_type": "display_data",
          "data": {
            "text/plain": [
              "<Figure size 576x720 with 1 Axes>"
            ],
            "image/png": "[encoded data removed]"
          },
          "metadata": {
            "needs_background": "light"
          }
        }
      ],
      "source": [
        "features = X.columns\n",
        "importances = random_forest_model.feature_importances_\n",
        "indices = np.argsort(importances)\n",
        "plt.figure(figsize=(8,10))\n",
        "plt.title('Feature Importances', fontsize=20)\n",
        "plt.barh(range(len(indices)), importances[indices], color='red', align='center')\n",
        "plt.yticks(range(len(indices)), features[indices])\n",
        "plt.xlabel('Relative Importance')"
      ]
    }
  ],
  "metadata": {
    "colab": {
      "provenance": [],
      "toc_visible": true,
      "include_colab_link": true
    },
    "kernelspec": {
      "display_name": "Python 3",
      "name": "python3"
    },
    "language_info": {
      "name": "python"
    }
  },
  "nbformat": 4,
  "nbformat_minor": 0
}